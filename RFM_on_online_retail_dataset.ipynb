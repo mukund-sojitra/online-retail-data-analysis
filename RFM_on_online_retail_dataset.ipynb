{
  "nbformat": 4,
  "nbformat_minor": 0,
  "metadata": {
    "kernelspec": {
      "display_name": "Python 3",
      "language": "python",
      "name": "python3"
    },
    "language_info": {
      "codemirror_mode": {
        "name": "ipython",
        "version": 3
      },
      "file_extension": ".py",
      "mimetype": "text/x-python",
      "name": "python",
      "nbconvert_exporter": "python",
      "pygments_lexer": "ipython3",
      "version": "3.8.3"
    },
    "colab": {
      "name": "RFM on online retail dataset.ipynb",
      "provenance": [],
      "collapsed_sections": []
    }
  },
  "cells": [
    {
      "cell_type": "code",
      "metadata": {
        "colab": {
          "base_uri": "https://localhost:8080/"
        },
        "id": "gvCNbk0TSe0l",
        "outputId": "c51ed257-7764-4aff-d34f-b792521ff5fa"
      },
      "source": [
        "from google.colab import drive\n",
        "drive.mount('/content/gdrive/')"
      ],
      "execution_count": null,
      "outputs": [
        {
          "output_type": "stream",
          "text": [
            "Mounted at /content/gdrive/\n"
          ],
          "name": "stdout"
        }
      ]
    },
    {
      "cell_type": "markdown",
      "metadata": {
        "id": "upq6KGQvSYwi"
      },
      "source": [
        "# Data Collection and Cleaning"
      ]
    },
    {
      "cell_type": "code",
      "metadata": {
        "scrolled": true,
        "colab": {
          "base_uri": "https://localhost:8080/",
          "height": 402
        },
        "id": "OBiDu89oSYwp",
        "outputId": "c952933c-9ee8-43ad-b2fb-a5af65254776"
      },
      "source": [
        "# Import Standard packages\n",
        "import pandas as pd\n",
        "import numpy as np\n",
        "import seaborn as sns\n",
        "import matplotlib.pyplot as plt\n",
        "# Load the available data and overview\n",
        "df=pd.read_csv(\"/content/gdrive/MyDrive/Sem 4 project/data/raw_online_retail.csv\", encoding=\"ISO-8859-1\")\n",
        "df\n",
        "\n"
      ],
      "execution_count": null,
      "outputs": [
        {
          "output_type": "execute_result",
          "data": {
            "text/html": [
              "<div>\n",
              "<style scoped>\n",
              "    .dataframe tbody tr th:only-of-type {\n",
              "        vertical-align: middle;\n",
              "    }\n",
              "\n",
              "    .dataframe tbody tr th {\n",
              "        vertical-align: top;\n",
              "    }\n",
              "\n",
              "    .dataframe thead th {\n",
              "        text-align: right;\n",
              "    }\n",
              "</style>\n",
              "<table border=\"1\" class=\"dataframe\">\n",
              "  <thead>\n",
              "    <tr style=\"text-align: right;\">\n",
              "      <th></th>\n",
              "      <th>InvoiceNo</th>\n",
              "      <th>StockCode</th>\n",
              "      <th>Description</th>\n",
              "      <th>Quantity</th>\n",
              "      <th>InvoiceDate</th>\n",
              "      <th>UnitPrice</th>\n",
              "      <th>CustomerID</th>\n",
              "      <th>Country</th>\n",
              "    </tr>\n",
              "  </thead>\n",
              "  <tbody>\n",
              "    <tr>\n",
              "      <th>0</th>\n",
              "      <td>536365</td>\n",
              "      <td>85123A</td>\n",
              "      <td>WHITE HANGING HEART T-LIGHT HOLDER</td>\n",
              "      <td>6</td>\n",
              "      <td>01-12-2010 08:26</td>\n",
              "      <td>2.55</td>\n",
              "      <td>17850.0</td>\n",
              "      <td>United Kingdom</td>\n",
              "    </tr>\n",
              "    <tr>\n",
              "      <th>1</th>\n",
              "      <td>536365</td>\n",
              "      <td>71053</td>\n",
              "      <td>WHITE METAL LANTERN</td>\n",
              "      <td>6</td>\n",
              "      <td>01-12-2010 08:26</td>\n",
              "      <td>3.39</td>\n",
              "      <td>17850.0</td>\n",
              "      <td>United Kingdom</td>\n",
              "    </tr>\n",
              "    <tr>\n",
              "      <th>2</th>\n",
              "      <td>536365</td>\n",
              "      <td>84406B</td>\n",
              "      <td>CREAM CUPID HEARTS COAT HANGER</td>\n",
              "      <td>8</td>\n",
              "      <td>01-12-2010 08:26</td>\n",
              "      <td>2.75</td>\n",
              "      <td>17850.0</td>\n",
              "      <td>United Kingdom</td>\n",
              "    </tr>\n",
              "    <tr>\n",
              "      <th>3</th>\n",
              "      <td>536365</td>\n",
              "      <td>84029G</td>\n",
              "      <td>KNITTED UNION FLAG HOT WATER BOTTLE</td>\n",
              "      <td>6</td>\n",
              "      <td>01-12-2010 08:26</td>\n",
              "      <td>3.39</td>\n",
              "      <td>17850.0</td>\n",
              "      <td>United Kingdom</td>\n",
              "    </tr>\n",
              "    <tr>\n",
              "      <th>4</th>\n",
              "      <td>536365</td>\n",
              "      <td>84029E</td>\n",
              "      <td>RED WOOLLY HOTTIE WHITE HEART.</td>\n",
              "      <td>6</td>\n",
              "      <td>01-12-2010 08:26</td>\n",
              "      <td>3.39</td>\n",
              "      <td>17850.0</td>\n",
              "      <td>United Kingdom</td>\n",
              "    </tr>\n",
              "    <tr>\n",
              "      <th>...</th>\n",
              "      <td>...</td>\n",
              "      <td>...</td>\n",
              "      <td>...</td>\n",
              "      <td>...</td>\n",
              "      <td>...</td>\n",
              "      <td>...</td>\n",
              "      <td>...</td>\n",
              "      <td>...</td>\n",
              "    </tr>\n",
              "    <tr>\n",
              "      <th>541904</th>\n",
              "      <td>581587</td>\n",
              "      <td>22613</td>\n",
              "      <td>PACK OF 20 SPACEBOY NAPKINS</td>\n",
              "      <td>12</td>\n",
              "      <td>09-12-2011 12:50</td>\n",
              "      <td>0.85</td>\n",
              "      <td>12680.0</td>\n",
              "      <td>France</td>\n",
              "    </tr>\n",
              "    <tr>\n",
              "      <th>541905</th>\n",
              "      <td>581587</td>\n",
              "      <td>22899</td>\n",
              "      <td>CHILDREN'S APRON DOLLY GIRL</td>\n",
              "      <td>6</td>\n",
              "      <td>09-12-2011 12:50</td>\n",
              "      <td>2.10</td>\n",
              "      <td>12680.0</td>\n",
              "      <td>France</td>\n",
              "    </tr>\n",
              "    <tr>\n",
              "      <th>541906</th>\n",
              "      <td>581587</td>\n",
              "      <td>23254</td>\n",
              "      <td>CHILDRENS CUTLERY DOLLY GIRL</td>\n",
              "      <td>4</td>\n",
              "      <td>09-12-2011 12:50</td>\n",
              "      <td>4.15</td>\n",
              "      <td>12680.0</td>\n",
              "      <td>France</td>\n",
              "    </tr>\n",
              "    <tr>\n",
              "      <th>541907</th>\n",
              "      <td>581587</td>\n",
              "      <td>23255</td>\n",
              "      <td>CHILDRENS CUTLERY CIRCUS PARADE</td>\n",
              "      <td>4</td>\n",
              "      <td>09-12-2011 12:50</td>\n",
              "      <td>4.15</td>\n",
              "      <td>12680.0</td>\n",
              "      <td>France</td>\n",
              "    </tr>\n",
              "    <tr>\n",
              "      <th>541908</th>\n",
              "      <td>581587</td>\n",
              "      <td>22138</td>\n",
              "      <td>BAKING SET 9 PIECE RETROSPOT</td>\n",
              "      <td>3</td>\n",
              "      <td>09-12-2011 12:50</td>\n",
              "      <td>4.95</td>\n",
              "      <td>12680.0</td>\n",
              "      <td>France</td>\n",
              "    </tr>\n",
              "  </tbody>\n",
              "</table>\n",
              "<p>541909 rows × 8 columns</p>\n",
              "</div>"
            ],
            "text/plain": [
              "       InvoiceNo StockCode  ... CustomerID         Country\n",
              "0         536365    85123A  ...    17850.0  United Kingdom\n",
              "1         536365     71053  ...    17850.0  United Kingdom\n",
              "2         536365    84406B  ...    17850.0  United Kingdom\n",
              "3         536365    84029G  ...    17850.0  United Kingdom\n",
              "4         536365    84029E  ...    17850.0  United Kingdom\n",
              "...          ...       ...  ...        ...             ...\n",
              "541904    581587     22613  ...    12680.0          France\n",
              "541905    581587     22899  ...    12680.0          France\n",
              "541906    581587     23254  ...    12680.0          France\n",
              "541907    581587     23255  ...    12680.0          France\n",
              "541908    581587     22138  ...    12680.0          France\n",
              "\n",
              "[541909 rows x 8 columns]"
            ]
          },
          "metadata": {
            "tags": []
          },
          "execution_count": 3
        }
      ]
    },
    {
      "cell_type": "code",
      "metadata": {
        "colab": {
          "base_uri": "https://localhost:8080/"
        },
        "id": "dsKaedfTSYwq",
        "outputId": "df2e8679-f60c-4519-9f13-c5b71789da5f"
      },
      "source": [
        "# Look for missing values\n",
        "df.isnull().sum()\n",
        "# Look for datatypes\n",
        "df.dtypes"
      ],
      "execution_count": null,
      "outputs": [
        {
          "output_type": "execute_result",
          "data": {
            "text/plain": [
              "InvoiceNo       object\n",
              "StockCode       object\n",
              "Description     object\n",
              "Quantity         int64\n",
              "InvoiceDate     object\n",
              "UnitPrice      float64\n",
              "CustomerID     float64\n",
              "Country         object\n",
              "dtype: object"
            ]
          },
          "metadata": {
            "tags": []
          },
          "execution_count": 4
        }
      ]
    },
    {
      "cell_type": "markdown",
      "metadata": {
        "id": "OCjjfX9QSYwr"
      },
      "source": [
        "There are 1454 missing “Description” and 135,080 missing “CustomerID” values. Keeping the missing “Description” values won’t have any impact on the analysis as we will be focusing on understanding our customers. Based on the assumption that each missing “CustomerID” represents a new customer (meaning the missing “CustomerID” values are unique to the dataset), we can also assume that the “CustomerID” missing values wont have any impact to our analysis as well.\n",
        "We notice that the “InvoiceDate” data type is object and requires to be updated to date data type. We can also take the month and the year from the “InvoiceDate” variable and create new columns with “InvoiceMonth” and “InvoiceYear”."
      ]
    },
    {
      "cell_type": "code",
      "metadata": {
        "colab": {
          "base_uri": "https://localhost:8080/",
          "height": 195
        },
        "id": "TXYYq1OfSYwr",
        "outputId": "bf49f27e-29f9-4596-dc56-bc97f9a74b24"
      },
      "source": [
        "# Add Revenue variable and update InvoiceDate \n",
        "df[\"Revenue\"]=df[\"UnitPrice\"]*df[\"Quantity\"]\n",
        "df[\"InvoiceDate\"]=pd.to_datetime(df[\"InvoiceDate\"]).dt.date\n",
        "df[\"InvoiceMonth\"]=pd.DatetimeIndex(df[\"InvoiceDate\"]).month\n",
        "df[\"InvoiceYear\"]=pd.DatetimeIndex(df[\"InvoiceDate\"]).year\n",
        "df.head()"
      ],
      "execution_count": null,
      "outputs": [
        {
          "output_type": "execute_result",
          "data": {
            "text/html": [
              "<div>\n",
              "<style scoped>\n",
              "    .dataframe tbody tr th:only-of-type {\n",
              "        vertical-align: middle;\n",
              "    }\n",
              "\n",
              "    .dataframe tbody tr th {\n",
              "        vertical-align: top;\n",
              "    }\n",
              "\n",
              "    .dataframe thead th {\n",
              "        text-align: right;\n",
              "    }\n",
              "</style>\n",
              "<table border=\"1\" class=\"dataframe\">\n",
              "  <thead>\n",
              "    <tr style=\"text-align: right;\">\n",
              "      <th></th>\n",
              "      <th>InvoiceNo</th>\n",
              "      <th>StockCode</th>\n",
              "      <th>Description</th>\n",
              "      <th>Quantity</th>\n",
              "      <th>InvoiceDate</th>\n",
              "      <th>UnitPrice</th>\n",
              "      <th>CustomerID</th>\n",
              "      <th>Country</th>\n",
              "      <th>Revenue</th>\n",
              "      <th>InvoiceMonth</th>\n",
              "      <th>InvoiceYear</th>\n",
              "    </tr>\n",
              "  </thead>\n",
              "  <tbody>\n",
              "    <tr>\n",
              "      <th>0</th>\n",
              "      <td>536365</td>\n",
              "      <td>85123A</td>\n",
              "      <td>WHITE HANGING HEART T-LIGHT HOLDER</td>\n",
              "      <td>6</td>\n",
              "      <td>2010-01-12</td>\n",
              "      <td>2.55</td>\n",
              "      <td>17850.0</td>\n",
              "      <td>United Kingdom</td>\n",
              "      <td>15.30</td>\n",
              "      <td>1</td>\n",
              "      <td>2010</td>\n",
              "    </tr>\n",
              "    <tr>\n",
              "      <th>1</th>\n",
              "      <td>536365</td>\n",
              "      <td>71053</td>\n",
              "      <td>WHITE METAL LANTERN</td>\n",
              "      <td>6</td>\n",
              "      <td>2010-01-12</td>\n",
              "      <td>3.39</td>\n",
              "      <td>17850.0</td>\n",
              "      <td>United Kingdom</td>\n",
              "      <td>20.34</td>\n",
              "      <td>1</td>\n",
              "      <td>2010</td>\n",
              "    </tr>\n",
              "    <tr>\n",
              "      <th>2</th>\n",
              "      <td>536365</td>\n",
              "      <td>84406B</td>\n",
              "      <td>CREAM CUPID HEARTS COAT HANGER</td>\n",
              "      <td>8</td>\n",
              "      <td>2010-01-12</td>\n",
              "      <td>2.75</td>\n",
              "      <td>17850.0</td>\n",
              "      <td>United Kingdom</td>\n",
              "      <td>22.00</td>\n",
              "      <td>1</td>\n",
              "      <td>2010</td>\n",
              "    </tr>\n",
              "    <tr>\n",
              "      <th>3</th>\n",
              "      <td>536365</td>\n",
              "      <td>84029G</td>\n",
              "      <td>KNITTED UNION FLAG HOT WATER BOTTLE</td>\n",
              "      <td>6</td>\n",
              "      <td>2010-01-12</td>\n",
              "      <td>3.39</td>\n",
              "      <td>17850.0</td>\n",
              "      <td>United Kingdom</td>\n",
              "      <td>20.34</td>\n",
              "      <td>1</td>\n",
              "      <td>2010</td>\n",
              "    </tr>\n",
              "    <tr>\n",
              "      <th>4</th>\n",
              "      <td>536365</td>\n",
              "      <td>84029E</td>\n",
              "      <td>RED WOOLLY HOTTIE WHITE HEART.</td>\n",
              "      <td>6</td>\n",
              "      <td>2010-01-12</td>\n",
              "      <td>3.39</td>\n",
              "      <td>17850.0</td>\n",
              "      <td>United Kingdom</td>\n",
              "      <td>20.34</td>\n",
              "      <td>1</td>\n",
              "      <td>2010</td>\n",
              "    </tr>\n",
              "  </tbody>\n",
              "</table>\n",
              "</div>"
            ],
            "text/plain": [
              "  InvoiceNo StockCode  ... InvoiceMonth  InvoiceYear\n",
              "0    536365    85123A  ...            1         2010\n",
              "1    536365     71053  ...            1         2010\n",
              "2    536365    84406B  ...            1         2010\n",
              "3    536365    84029G  ...            1         2010\n",
              "4    536365    84029E  ...            1         2010\n",
              "\n",
              "[5 rows x 11 columns]"
            ]
          },
          "metadata": {
            "tags": []
          },
          "execution_count": 5
        }
      ]
    },
    {
      "cell_type": "markdown",
      "metadata": {
        "id": "8pmJ0F2nSYws"
      },
      "source": [
        "We loaded and performed minor cleaning on our online store data set. We can further analyze the customers"
      ]
    },
    {
      "cell_type": "markdown",
      "metadata": {
        "id": "5IaeEOH4SYws"
      },
      "source": [
        "# Data Exploration"
      ]
    },
    {
      "cell_type": "markdown",
      "metadata": {
        "id": "w62NGkwWSYwt"
      },
      "source": [
        "Initially we are going to perform basic exploratory statistical analysis in order to understand the variable distribution. Further we will look at how we are doing in terms of revenue within the customers. Revenue is one of the most common and important metrics when it comes to online retail store business models. We would want to make sure our revenue is growing as we are defining scalability within our business.\n"
      ]
    },
    {
      "cell_type": "code",
      "metadata": {
        "colab": {
          "base_uri": "https://localhost:8080/",
          "height": 586
        },
        "id": "xxnE8grUSYwt",
        "outputId": "050adab4-358e-4add-eb67-91294ba09c68"
      },
      "source": [
        "# basic statistical analysis\n",
        "df.info()\n",
        "df.describe()\n"
      ],
      "execution_count": null,
      "outputs": [
        {
          "output_type": "stream",
          "text": [
            "<class 'pandas.core.frame.DataFrame'>\n",
            "RangeIndex: 541909 entries, 0 to 541908\n",
            "Data columns (total 11 columns):\n",
            " #   Column        Non-Null Count   Dtype  \n",
            "---  ------        --------------   -----  \n",
            " 0   InvoiceNo     541909 non-null  object \n",
            " 1   StockCode     541909 non-null  object \n",
            " 2   Description   540455 non-null  object \n",
            " 3   Quantity      541909 non-null  int64  \n",
            " 4   InvoiceDate   541909 non-null  object \n",
            " 5   UnitPrice     541909 non-null  float64\n",
            " 6   CustomerID    406829 non-null  float64\n",
            " 7   Country       541909 non-null  object \n",
            " 8   Revenue       541909 non-null  float64\n",
            " 9   InvoiceMonth  541909 non-null  int64  \n",
            " 10  InvoiceYear   541909 non-null  int64  \n",
            "dtypes: float64(3), int64(3), object(5)\n",
            "memory usage: 45.5+ MB\n"
          ],
          "name": "stdout"
        },
        {
          "output_type": "execute_result",
          "data": {
            "text/html": [
              "<div>\n",
              "<style scoped>\n",
              "    .dataframe tbody tr th:only-of-type {\n",
              "        vertical-align: middle;\n",
              "    }\n",
              "\n",
              "    .dataframe tbody tr th {\n",
              "        vertical-align: top;\n",
              "    }\n",
              "\n",
              "    .dataframe thead th {\n",
              "        text-align: right;\n",
              "    }\n",
              "</style>\n",
              "<table border=\"1\" class=\"dataframe\">\n",
              "  <thead>\n",
              "    <tr style=\"text-align: right;\">\n",
              "      <th></th>\n",
              "      <th>Quantity</th>\n",
              "      <th>UnitPrice</th>\n",
              "      <th>CustomerID</th>\n",
              "      <th>Revenue</th>\n",
              "      <th>InvoiceMonth</th>\n",
              "      <th>InvoiceYear</th>\n",
              "    </tr>\n",
              "  </thead>\n",
              "  <tbody>\n",
              "    <tr>\n",
              "      <th>count</th>\n",
              "      <td>541909.000000</td>\n",
              "      <td>541909.000000</td>\n",
              "      <td>406829.000000</td>\n",
              "      <td>541909.000000</td>\n",
              "      <td>541909.000000</td>\n",
              "      <td>541909.000000</td>\n",
              "    </tr>\n",
              "    <tr>\n",
              "      <th>mean</th>\n",
              "      <td>9.552250</td>\n",
              "      <td>4.611114</td>\n",
              "      <td>15287.690570</td>\n",
              "      <td>17.987795</td>\n",
              "      <td>6.919828</td>\n",
              "      <td>2010.921609</td>\n",
              "    </tr>\n",
              "    <tr>\n",
              "      <th>std</th>\n",
              "      <td>218.081158</td>\n",
              "      <td>96.759853</td>\n",
              "      <td>1713.600303</td>\n",
              "      <td>378.810824</td>\n",
              "      <td>3.363659</td>\n",
              "      <td>0.268787</td>\n",
              "    </tr>\n",
              "    <tr>\n",
              "      <th>min</th>\n",
              "      <td>-80995.000000</td>\n",
              "      <td>-11062.060000</td>\n",
              "      <td>12346.000000</td>\n",
              "      <td>-168469.600000</td>\n",
              "      <td>1.000000</td>\n",
              "      <td>2010.000000</td>\n",
              "    </tr>\n",
              "    <tr>\n",
              "      <th>25%</th>\n",
              "      <td>1.000000</td>\n",
              "      <td>1.250000</td>\n",
              "      <td>13953.000000</td>\n",
              "      <td>3.400000</td>\n",
              "      <td>4.000000</td>\n",
              "      <td>2011.000000</td>\n",
              "    </tr>\n",
              "    <tr>\n",
              "      <th>50%</th>\n",
              "      <td>3.000000</td>\n",
              "      <td>2.080000</td>\n",
              "      <td>15152.000000</td>\n",
              "      <td>9.750000</td>\n",
              "      <td>7.000000</td>\n",
              "      <td>2011.000000</td>\n",
              "    </tr>\n",
              "    <tr>\n",
              "      <th>75%</th>\n",
              "      <td>10.000000</td>\n",
              "      <td>4.130000</td>\n",
              "      <td>16791.000000</td>\n",
              "      <td>17.400000</td>\n",
              "      <td>10.000000</td>\n",
              "      <td>2011.000000</td>\n",
              "    </tr>\n",
              "    <tr>\n",
              "      <th>max</th>\n",
              "      <td>80995.000000</td>\n",
              "      <td>38970.000000</td>\n",
              "      <td>18287.000000</td>\n",
              "      <td>168469.600000</td>\n",
              "      <td>12.000000</td>\n",
              "      <td>2011.000000</td>\n",
              "    </tr>\n",
              "  </tbody>\n",
              "</table>\n",
              "</div>"
            ],
            "text/plain": [
              "            Quantity      UnitPrice  ...   InvoiceMonth    InvoiceYear\n",
              "count  541909.000000  541909.000000  ...  541909.000000  541909.000000\n",
              "mean        9.552250       4.611114  ...       6.919828    2010.921609\n",
              "std       218.081158      96.759853  ...       3.363659       0.268787\n",
              "min    -80995.000000  -11062.060000  ...       1.000000    2010.000000\n",
              "25%         1.000000       1.250000  ...       4.000000    2011.000000\n",
              "50%         3.000000       2.080000  ...       7.000000    2011.000000\n",
              "75%        10.000000       4.130000  ...      10.000000    2011.000000\n",
              "max     80995.000000   38970.000000  ...      12.000000    2011.000000\n",
              "\n",
              "[8 rows x 6 columns]"
            ]
          },
          "metadata": {
            "tags": []
          },
          "execution_count": 6
        }
      ]
    },
    {
      "cell_type": "code",
      "metadata": {
        "colab": {
          "base_uri": "https://localhost:8080/",
          "height": 638
        },
        "id": "Miz8PvaGSYwu",
        "outputId": "1b00f7f4-d4c6-4b7c-ac33-3c6b98eb1783"
      },
      "source": [
        "#Monthly Revenue Overview\n",
        "df_revenue=df.groupby([\"InvoiceMonth\", \"InvoiceYear\"])[\"Revenue\"].sum().reset_index()\n",
        "plt.figure(figsize=(15,10))\n",
        "sns.barplot(x=\"InvoiceMonth\", y=\"Revenue\", hue=\"InvoiceYear\", data=df_revenue)\n",
        "plt.title(\"Monthly Revenue\")\n",
        "plt.xlabel(\"Month\")\n",
        "plt.ylabel(\"Revenue\")"
      ],
      "execution_count": null,
      "outputs": [
        {
          "output_type": "execute_result",
          "data": {
            "text/plain": [
              "Text(0, 0.5, 'Revenue')"
            ]
          },
          "metadata": {
            "tags": []
          },
          "execution_count": 7
        },
        {
          "output_type": "display_data",
          "data": {
            "image/png": "[encoded data removed]",
            "text/plain": [
              "<Figure size 1080x720 with 1 Axes>"
            ]
          },
          "metadata": {
            "tags": [],
            "needs_background": "light"
          }
        }
      ]
    },
    {
      "cell_type": "code",
      "metadata": {
        "colab": {
          "base_uri": "https://localhost:8080/",
          "height": 782
        },
        "id": "rXp7hYZaSYwu",
        "outputId": "52f43389-ea4b-409c-c949-e77338fb8831"
      },
      "source": [
        "# Monthly Revenue Overview\n",
        "plt.figure()\n",
        "sns.relplot(x=\"InvoiceMonth\", y=\"Revenue\", hue=\"InvoiceYear\", kind=\"line\", data=df_revenue, height=10, aspect=15/10)\n",
        "plt.title(\"Monthly Revenue\")\n",
        "plt.xlabel(\"Month\")\n",
        "plt.ylabel(\"Revenue\")"
      ],
      "execution_count": null,
      "outputs": [
        {
          "output_type": "execute_result",
          "data": {
            "text/plain": [
              "Text(8.822523148148143, 0.5, 'Revenue')"
            ]
          },
          "metadata": {
            "tags": []
          },
          "execution_count": 8
        },
        {
          "output_type": "display_data",
          "data": {
            "text/plain": [
              "<Figure size 432x288 with 0 Axes>"
            ]
          },
          "metadata": {
            "tags": []
          }
        },
        {
          "output_type": "display_data",
          "data": {
            "image/png": "[encoded data removed]",
            "text/plain": [
              "<Figure size 1144.62x720 with 1 Axes>"
            ]
          },
          "metadata": {
            "tags": [],
            "needs_background": "light"
          }
        }
      ]
    },
    {
      "cell_type": "markdown",
      "metadata": {
        "id": "MZlBuEjeSYwu"
      },
      "source": [
        "What Is Revenue?\n",
        "Revenue is the income generated from normal business operations and includes discounts and deductions for returned merchandise. It is the top line or gross income figure from which costs are subtracted to determine net income.\n",
        "\n",
        "\n",
        "\\begin{aligned} &\\text{Sales Revenue} = \\text{Sales Price} \\times \\text{Number of Units Sold} \\\\ \\end{aligned} \n",
        "​\t  \n",
        "Sales Revenue=Sales Price×Number of Units Sold"
      ]
    },
    {
      "cell_type": "markdown",
      "metadata": {
        "id": "lcenwe7mSYwv"
      },
      "source": [
        "When we look at the monthly revenue growth, we realize that our data set starts in December 2010 and goes all the way to December 2011. We notice that the revenue slumps around December 2011. We need to see if this is due to customers not purchasing our merchandise or if it is related to an issue within the dataset."
      ]
    },
    {
      "cell_type": "code",
      "metadata": {
        "colab": {
          "base_uri": "https://localhost:8080/",
          "height": 402
        },
        "id": "GYfHx_mKSYwv",
        "outputId": "da7dda50-6ea8-4dcd-848b-4841b10901bb"
      },
      "source": [
        "# Look at the December 2011 data\n",
        "df_december_2011=df.query(\"InvoiceMonth==12 and InvoiceYear==2011\")\n",
        "df_december_2011"
      ],
      "execution_count": null,
      "outputs": [
        {
          "output_type": "execute_result",
          "data": {
            "text/html": [
              "<div>\n",
              "<style scoped>\n",
              "    .dataframe tbody tr th:only-of-type {\n",
              "        vertical-align: middle;\n",
              "    }\n",
              "\n",
              "    .dataframe tbody tr th {\n",
              "        vertical-align: top;\n",
              "    }\n",
              "\n",
              "    .dataframe thead th {\n",
              "        text-align: right;\n",
              "    }\n",
              "</style>\n",
              "<table border=\"1\" class=\"dataframe\">\n",
              "  <thead>\n",
              "    <tr style=\"text-align: right;\">\n",
              "      <th></th>\n",
              "      <th>InvoiceNo</th>\n",
              "      <th>StockCode</th>\n",
              "      <th>Description</th>\n",
              "      <th>Quantity</th>\n",
              "      <th>InvoiceDate</th>\n",
              "      <th>UnitPrice</th>\n",
              "      <th>CustomerID</th>\n",
              "      <th>Country</th>\n",
              "      <th>Revenue</th>\n",
              "      <th>InvoiceMonth</th>\n",
              "      <th>InvoiceYear</th>\n",
              "    </tr>\n",
              "  </thead>\n",
              "  <tbody>\n",
              "    <tr>\n",
              "      <th>53581</th>\n",
              "      <td>540848</td>\n",
              "      <td>90201B</td>\n",
              "      <td>BLACK ENAMEL FLOWER RING</td>\n",
              "      <td>1</td>\n",
              "      <td>2011-12-01</td>\n",
              "      <td>2.96</td>\n",
              "      <td>NaN</td>\n",
              "      <td>United Kingdom</td>\n",
              "      <td>2.96</td>\n",
              "      <td>12</td>\n",
              "      <td>2011</td>\n",
              "    </tr>\n",
              "    <tr>\n",
              "      <th>53582</th>\n",
              "      <td>540848</td>\n",
              "      <td>90201C</td>\n",
              "      <td>RED ENAMEL FLOWER RING</td>\n",
              "      <td>1</td>\n",
              "      <td>2011-12-01</td>\n",
              "      <td>2.96</td>\n",
              "      <td>NaN</td>\n",
              "      <td>United Kingdom</td>\n",
              "      <td>2.96</td>\n",
              "      <td>12</td>\n",
              "      <td>2011</td>\n",
              "    </tr>\n",
              "    <tr>\n",
              "      <th>53583</th>\n",
              "      <td>540848</td>\n",
              "      <td>90201D</td>\n",
              "      <td>GREEN ENAMEL FLOWER RING</td>\n",
              "      <td>2</td>\n",
              "      <td>2011-12-01</td>\n",
              "      <td>2.96</td>\n",
              "      <td>NaN</td>\n",
              "      <td>United Kingdom</td>\n",
              "      <td>5.92</td>\n",
              "      <td>12</td>\n",
              "      <td>2011</td>\n",
              "    </tr>\n",
              "    <tr>\n",
              "      <th>53584</th>\n",
              "      <td>540848</td>\n",
              "      <td>90204</td>\n",
              "      <td>PAIR OF ENAMEL BUTTERFLY HAIRCLIP</td>\n",
              "      <td>1</td>\n",
              "      <td>2011-12-01</td>\n",
              "      <td>3.39</td>\n",
              "      <td>NaN</td>\n",
              "      <td>United Kingdom</td>\n",
              "      <td>3.39</td>\n",
              "      <td>12</td>\n",
              "      <td>2011</td>\n",
              "    </tr>\n",
              "    <tr>\n",
              "      <th>53585</th>\n",
              "      <td>540848</td>\n",
              "      <td>90209B</td>\n",
              "      <td>GREEN ENAMEL+GLASS HAIR COMB</td>\n",
              "      <td>2</td>\n",
              "      <td>2011-12-01</td>\n",
              "      <td>2.11</td>\n",
              "      <td>NaN</td>\n",
              "      <td>United Kingdom</td>\n",
              "      <td>4.22</td>\n",
              "      <td>12</td>\n",
              "      <td>2011</td>\n",
              "    </tr>\n",
              "    <tr>\n",
              "      <th>...</th>\n",
              "      <td>...</td>\n",
              "      <td>...</td>\n",
              "      <td>...</td>\n",
              "      <td>...</td>\n",
              "      <td>...</td>\n",
              "      <td>...</td>\n",
              "      <td>...</td>\n",
              "      <td>...</td>\n",
              "      <td>...</td>\n",
              "      <td>...</td>\n",
              "      <td>...</td>\n",
              "    </tr>\n",
              "    <tr>\n",
              "      <th>394694</th>\n",
              "      <td>570876</td>\n",
              "      <td>23509</td>\n",
              "      <td>MINI PLAYING CARDS FUN FAIR</td>\n",
              "      <td>4</td>\n",
              "      <td>2011-12-10</td>\n",
              "      <td>0.42</td>\n",
              "      <td>16085.0</td>\n",
              "      <td>United Kingdom</td>\n",
              "      <td>1.68</td>\n",
              "      <td>12</td>\n",
              "      <td>2011</td>\n",
              "    </tr>\n",
              "    <tr>\n",
              "      <th>394695</th>\n",
              "      <td>570876</td>\n",
              "      <td>23048</td>\n",
              "      <td>SET OF 10 LANTERNS FAIRY LIGHT STAR</td>\n",
              "      <td>2</td>\n",
              "      <td>2011-12-10</td>\n",
              "      <td>4.15</td>\n",
              "      <td>16085.0</td>\n",
              "      <td>United Kingdom</td>\n",
              "      <td>8.30</td>\n",
              "      <td>12</td>\n",
              "      <td>2011</td>\n",
              "    </tr>\n",
              "    <tr>\n",
              "      <th>394696</th>\n",
              "      <td>570876</td>\n",
              "      <td>23503</td>\n",
              "      <td>PLAYING CARDS KEEP CALM &amp; CARRY ON</td>\n",
              "      <td>4</td>\n",
              "      <td>2011-12-10</td>\n",
              "      <td>1.25</td>\n",
              "      <td>16085.0</td>\n",
              "      <td>United Kingdom</td>\n",
              "      <td>5.00</td>\n",
              "      <td>12</td>\n",
              "      <td>2011</td>\n",
              "    </tr>\n",
              "    <tr>\n",
              "      <th>394697</th>\n",
              "      <td>570876</td>\n",
              "      <td>22696</td>\n",
              "      <td>WICKER WREATH LARGE</td>\n",
              "      <td>3</td>\n",
              "      <td>2011-12-10</td>\n",
              "      <td>1.95</td>\n",
              "      <td>16085.0</td>\n",
              "      <td>United Kingdom</td>\n",
              "      <td>5.85</td>\n",
              "      <td>12</td>\n",
              "      <td>2011</td>\n",
              "    </tr>\n",
              "    <tr>\n",
              "      <th>394698</th>\n",
              "      <td>570876</td>\n",
              "      <td>23118</td>\n",
              "      <td>PARISIENNE JEWELLERY DRAWER</td>\n",
              "      <td>2</td>\n",
              "      <td>2011-12-10</td>\n",
              "      <td>7.50</td>\n",
              "      <td>16085.0</td>\n",
              "      <td>United Kingdom</td>\n",
              "      <td>15.00</td>\n",
              "      <td>12</td>\n",
              "      <td>2011</td>\n",
              "    </tr>\n",
              "  </tbody>\n",
              "</table>\n",
              "<p>12685 rows × 11 columns</p>\n",
              "</div>"
            ],
            "text/plain": [
              "       InvoiceNo StockCode  ... InvoiceMonth  InvoiceYear\n",
              "53581     540848    90201B  ...           12         2011\n",
              "53582     540848    90201C  ...           12         2011\n",
              "53583     540848    90201D  ...           12         2011\n",
              "53584     540848     90204  ...           12         2011\n",
              "53585     540848    90209B  ...           12         2011\n",
              "...          ...       ...  ...          ...          ...\n",
              "394694    570876     23509  ...           12         2011\n",
              "394695    570876     23048  ...           12         2011\n",
              "394696    570876     23503  ...           12         2011\n",
              "394697    570876     22696  ...           12         2011\n",
              "394698    570876     23118  ...           12         2011\n",
              "\n",
              "[12685 rows x 11 columns]"
            ]
          },
          "metadata": {
            "tags": []
          },
          "execution_count": 9
        }
      ]
    },
    {
      "cell_type": "markdown",
      "metadata": {
        "id": "ERNic82SSYwv"
      },
      "source": [
        "Based on the december 2011 data, we understand that the data set does not include any purchases after December 9th 2011. We need to make sure, we consider this within our analysis and conclusion.\n",
        "On a separate note; we can see that the revenue grows steadily starting from September 2011 all the way up to December 2011, November being the best month in terms of revenue.\n"
      ]
    },
    {
      "cell_type": "code",
      "metadata": {
        "colab": {
          "base_uri": "https://localhost:8080/",
          "height": 638
        },
        "id": "H0CGncG-SYww",
        "outputId": "89633f80-d0d1-4ea4-c4a3-fc24b1187a99"
      },
      "source": [
        "# Monthly Items Sold Overview\n",
        "df_quantity=df.groupby([\"InvoiceMonth\", \"InvoiceYear\"])[\"Quantity\"].sum().reset_index()\n",
        "plt.figure(figsize=(15,10))\n",
        "sns.barplot(x=\"InvoiceMonth\", y=\"Quantity\", data=df_quantity)\n",
        "plt.title(\"Monthly Items Sold\")\n",
        "plt.xlabel(\"Month\")\n",
        "plt.ylabel(\"Items Sold\")"
      ],
      "execution_count": null,
      "outputs": [
        {
          "output_type": "execute_result",
          "data": {
            "text/plain": [
              "Text(0, 0.5, 'Items Sold')"
            ]
          },
          "metadata": {
            "tags": []
          },
          "execution_count": 10
        },
        {
          "output_type": "display_data",
          "data": {
            "image/png": "[encoded data removed]",
            "text/plain": [
              "<Figure size 1080x720 with 1 Axes>"
            ]
          },
          "metadata": {
            "tags": [],
            "needs_background": "light"
          }
        }
      ]
    },
    {
      "cell_type": "code",
      "metadata": {
        "colab": {
          "base_uri": "https://localhost:8080/",
          "height": 638
        },
        "id": "JHFcM2WPSYww",
        "outputId": "80d2ac25-493a-4906-8c83-853c52664cc7"
      },
      "source": [
        "# Monthly Active Customers\n",
        "df_active=df.groupby([\"InvoiceMonth\", \"InvoiceYear\"])[\"CustomerID\"].nunique().reset_index()\n",
        "plt.figure(figsize=(15,10))\n",
        "sns.barplot(x=\"InvoiceMonth\", y=\"CustomerID\", hue=\"InvoiceYear\", data=df_active)\n",
        "plt.title(\"Monthly Active Users\")\n",
        "plt.xlabel(\"Month\")\n",
        "plt.ylabel(\"Active Users\")"
      ],
      "execution_count": null,
      "outputs": [
        {
          "output_type": "execute_result",
          "data": {
            "text/plain": [
              "Text(0, 0.5, 'Active Users')"
            ]
          },
          "metadata": {
            "tags": []
          },
          "execution_count": 11
        },
        {
          "output_type": "display_data",
          "data": {
            "image/png": "[encoded data removed]",
            "text/plain": [
              "<Figure size 1080x720 with 1 Axes>"
            ]
          },
          "metadata": {
            "tags": [],
            "needs_background": "light"
          }
        }
      ]
    },
    {
      "cell_type": "code",
      "metadata": {
        "colab": {
          "base_uri": "https://localhost:8080/",
          "height": 638
        },
        "id": "tcrgFv0_SYww",
        "outputId": "d80e7843-4a69-4cdc-b39d-d708782e595b"
      },
      "source": [
        "# Average Revenue per Month\n",
        "df_revenue_avg=df.groupby([\"InvoiceMonth\", \"InvoiceYear\"])[\"Revenue\"].mean().reset_index()\n",
        "plt.figure(figsize=(15,10))\n",
        "sns.barplot(x=\"InvoiceMonth\", y=\"Revenue\", data=df_revenue)\n",
        "plt.title(\"Monthly Average Revenue \")\n",
        "plt.xlabel(\"Month\")\n",
        "plt.ylabel(\"Revenue\")"
      ],
      "execution_count": null,
      "outputs": [
        {
          "output_type": "execute_result",
          "data": {
            "text/plain": [
              "Text(0, 0.5, 'Revenue')"
            ]
          },
          "metadata": {
            "tags": []
          },
          "execution_count": 12
        },
        {
          "output_type": "display_data",
          "data": {
            "image/png": "[encoded data removed]",
            "text/plain": [
              "<Figure size 1080x720 with 1 Axes>"
            ]
          },
          "metadata": {
            "tags": [],
            "needs_background": "light"
          }
        }
      ]
    },
    {
      "cell_type": "markdown",
      "metadata": {
        "id": "nOWUqvXvSYwx"
      },
      "source": [
        "As expected, the monthly items sold, monthly active users and average revenue per month shows positive correlation with the monthly revenue growth"
      ]
    },
    {
      "cell_type": "code",
      "metadata": {
        "colab": {
          "base_uri": "https://localhost:8080/",
          "height": 814
        },
        "id": "rbavFfAcSYwx",
        "outputId": "1d4cef3c-2077-46a1-febd-a825cdd87bab"
      },
      "source": [
        "# New vs Existing Users\n",
        "df_first_purchase=df.groupby([\"CustomerID\"])[\"InvoiceDate\"].min().reset_index()\n",
        "df_first_purchase.columns=[\"CustomerID\", \"FirstPurchaseDate\"]\n",
        "df=pd.merge(df, df_first_purchase, on=\"CustomerID\")\n",
        "df[\"UserType\"]=\"New\"\n",
        "df.loc[df[\"InvoiceDate\"]>df[\"FirstPurchaseDate\"], \"UserType\"]=\"Existing\"\n",
        "df.head()\n",
        "# New vs Existing User Revenue Analysis\n",
        "df_new_revenue=df.groupby([\"InvoiceMonth\", \"InvoiceYear\", \"UserType\"])[\"Revenue\"].sum().reset_index()\n",
        "plt.figure()\n",
        "sns.relplot(x=\"InvoiceMonth\", y=\"Revenue\", hue=\"UserType\", data=df_new_revenue, kind=\"line\", height=12, aspect=18/10)\n",
        "plt.title(\"New vs Existing Customer Revenue Overview\")\n",
        "plt.xlabel(\"Month\")\n",
        "plt.ylabel(\"Revenue\")"
      ],
      "execution_count": null,
      "outputs": [
        {
          "output_type": "execute_result",
          "data": {
            "text/plain": [
              "Text(9.499616608796302, 0.5, 'Revenue')"
            ]
          },
          "metadata": {
            "tags": []
          },
          "execution_count": 13
        },
        {
          "output_type": "display_data",
          "data": {
            "text/plain": [
              "<Figure size 432x288 with 0 Axes>"
            ]
          },
          "metadata": {
            "tags": []
          }
        },
        {
          "output_type": "display_data",
          "data": {
            "image/png": "[encoded data removed]",
            "text/plain": [
              "<Figure size 1630.95x864 with 1 Axes>"
            ]
          },
          "metadata": {
            "tags": [],
            "needs_background": "light"
          }
        }
      ]
    },
    {
      "cell_type": "markdown",
      "metadata": {
        "id": "2gtHXaRVSYwy"
      },
      "source": [
        "In most cases, with the exception of the level, we see alignment on positive and negative revenue growth for new and existing customers. However, when we look at the revenue from January to February and October to November of 2011, we see that even though existing customer revenue grows, the new customer revenue declines."
      ]
    },
    {
      "cell_type": "markdown",
      "metadata": {
        "id": "K4d7o7GoSYwy"
      },
      "source": [
        "# Customer Segmentation"
      ]
    },
    {
      "cell_type": "markdown",
      "metadata": {
        "id": "asW87cwTSYwy"
      },
      "source": [
        "Customer Segmentation\n",
        "\n",
        "We analyzed our customers based on revenue, activity, new and existing customer monthly revenue and we definitely have some insights that we can take action from. We can also segment our customers in order to target our actions based on the main business problem we are working to solve.\n",
        "We are going to use the RFM (Recency, Frequency and Monetary Value) strategy to analyze and estimate value of each customer and further segment them accordingly. Looking at Recency gives us how recently customers make a purchase, Frequency, how often they make a purchase, and Monetary Value shows us how often do they spend."
      ]
    },
    {
      "cell_type": "code",
      "metadata": {
        "colab": {
          "base_uri": "https://localhost:8080/",
          "height": 195
        },
        "id": "t3Y1ChAtSYwz",
        "outputId": "fb54ea73-13b1-41cc-ce3f-86ce8e62c8c6"
      },
      "source": [
        "# Recency Calculation\n",
        "df_user=pd.DataFrame(df[\"CustomerID\"].unique())\n",
        "df_user.columns=[\"CustomerID\"]\n",
        "df_last_purchase=df.groupby([\"CustomerID\"])[\"InvoiceDate\"].max().reset_index()\n",
        "df_last_purchase.columns=[\"CustomerID\", \"LastPurchaseDate\"]\n",
        "df_last_purchase[\"Recency\"]=(df_last_purchase[\"LastPurchaseDate\"].max()-df_last_purchase[\"LastPurchaseDate\"]).dt.days\n",
        "df_recency=pd.merge(df_user, df_last_purchase[[\"CustomerID\", \"Recency\"]])\n",
        "df_recency.head()"
      ],
      "execution_count": null,
      "outputs": [
        {
          "output_type": "execute_result",
          "data": {
            "text/html": [
              "<div>\n",
              "<style scoped>\n",
              "    .dataframe tbody tr th:only-of-type {\n",
              "        vertical-align: middle;\n",
              "    }\n",
              "\n",
              "    .dataframe tbody tr th {\n",
              "        vertical-align: top;\n",
              "    }\n",
              "\n",
              "    .dataframe thead th {\n",
              "        text-align: right;\n",
              "    }\n",
              "</style>\n",
              "<table border=\"1\" class=\"dataframe\">\n",
              "  <thead>\n",
              "    <tr style=\"text-align: right;\">\n",
              "      <th></th>\n",
              "      <th>CustomerID</th>\n",
              "      <th>Recency</th>\n",
              "    </tr>\n",
              "  </thead>\n",
              "  <tbody>\n",
              "    <tr>\n",
              "      <th>0</th>\n",
              "      <td>17850.0</td>\n",
              "      <td>69</td>\n",
              "    </tr>\n",
              "    <tr>\n",
              "      <th>1</th>\n",
              "      <td>13047.0</td>\n",
              "      <td>47</td>\n",
              "    </tr>\n",
              "    <tr>\n",
              "      <th>2</th>\n",
              "      <td>12583.0</td>\n",
              "      <td>0</td>\n",
              "    </tr>\n",
              "    <tr>\n",
              "      <th>3</th>\n",
              "      <td>13748.0</td>\n",
              "      <td>159</td>\n",
              "    </tr>\n",
              "    <tr>\n",
              "      <th>4</th>\n",
              "      <td>15100.0</td>\n",
              "      <td>70</td>\n",
              "    </tr>\n",
              "  </tbody>\n",
              "</table>\n",
              "</div>"
            ],
            "text/plain": [
              "   CustomerID  Recency\n",
              "0     17850.0       69\n",
              "1     13047.0       47\n",
              "2     12583.0        0\n",
              "3     13748.0      159\n",
              "4     15100.0       70"
            ]
          },
          "metadata": {
            "tags": []
          },
          "execution_count": 14
        }
      ]
    },
    {
      "cell_type": "code",
      "metadata": {
        "colab": {
          "base_uri": "https://localhost:8080/",
          "height": 691
        },
        "id": "wLalS2AxSYwz",
        "outputId": "c55bce18-44f6-4afb-ab43-7d8a3b82d969"
      },
      "source": [
        "# Look at the distribution of Recency\n",
        "plt.figure(figsize=(15,10))\n",
        "sns.distplot(df_recency[\"Recency\"])\n",
        "plt.title(\"Recency Distribution Within the Customers\")\n",
        "plt.xlabel(\"Recency\")\n",
        "plt.ylabel(\"Customer Count\")"
      ],
      "execution_count": null,
      "outputs": [
        {
          "output_type": "stream",
          "text": [
            "/usr/local/lib/python3.7/dist-packages/seaborn/distributions.py:2557: FutureWarning: `distplot` is a deprecated function and will be removed in a future version. Please adapt your code to use either `displot` (a figure-level function with similar flexibility) or `histplot` (an axes-level function for histograms).\n",
            "  warnings.warn(msg, FutureWarning)\n"
          ],
          "name": "stderr"
        },
        {
          "output_type": "execute_result",
          "data": {
            "text/plain": [
              "Text(0, 0.5, 'Customer Count')"
            ]
          },
          "metadata": {
            "tags": []
          },
          "execution_count": 15
        },
        {
          "output_type": "display_data",
          "data": {
            "image/png": "[encoded data removed]",
            "text/plain": [
              "<Figure size 1080x720 with 1 Axes>"
            ]
          },
          "metadata": {
            "tags": [],
            "needs_background": "light"
          }
        }
      ]
    },
    {
      "cell_type": "code",
      "metadata": {
        "colab": {
          "base_uri": "https://localhost:8080/",
          "height": 602
        },
        "id": "puBjfYwOSYwz",
        "outputId": "aa33a821-946b-4494-c5f1-34418951bd11"
      },
      "source": [
        "# use KMeans Clustering for Recency Clustering\n",
        "from sklearn.cluster import KMeans\n",
        "# find out how many clusters are optimal\n",
        "y=df_recency[[\"Recency\"]] # label what we are clustering\n",
        "dic={} # store the clustering values in a dictionary\n",
        "for k in range(1,10):\n",
        "    kmeans=KMeans(n_clusters=k, max_iter=1000).fit(y)\n",
        "    y[\"clusters\"]=kmeans.labels_\n",
        "    dic[k]=kmeans.inertia_\n",
        "plt.figure(figsize=(15,10))\n",
        "plt.plot(list(dic.keys()), list(dic.values()))\n",
        "plt.show()"
      ],
      "execution_count": null,
      "outputs": [
        {
          "output_type": "display_data",
          "data": {
            "image/png": "[encoded data removed]",
            "text/plain": [
              "<Figure size 1080x720 with 1 Axes>"
            ]
          },
          "metadata": {
            "tags": [],
            "needs_background": "light"
          }
        }
      ]
    },
    {
      "cell_type": "code",
      "metadata": {
        "colab": {
          "base_uri": "https://localhost:8080/",
          "height": 195
        },
        "id": "0C1imVI9SYw0",
        "outputId": "7fce33ef-00c7-451a-84d8-b5da5c4447d8"
      },
      "source": [
        "# Cluster Customer based on Recency\n",
        "kmodel_recency=KMeans(n_clusters=4)\n",
        "kmodel_recency.fit(y)\n",
        "kpredict_recency=kmodel_recency.predict(y)\n",
        "kpredict_recency[0:5]\n",
        "df_recency[\"RecencyCluster\"]=kpredict_recency\n",
        "df_recency.head()"
      ],
      "execution_count": null,
      "outputs": [
        {
          "output_type": "execute_result",
          "data": {
            "text/html": [
              "<div>\n",
              "<style scoped>\n",
              "    .dataframe tbody tr th:only-of-type {\n",
              "        vertical-align: middle;\n",
              "    }\n",
              "\n",
              "    .dataframe tbody tr th {\n",
              "        vertical-align: top;\n",
              "    }\n",
              "\n",
              "    .dataframe thead th {\n",
              "        text-align: right;\n",
              "    }\n",
              "</style>\n",
              "<table border=\"1\" class=\"dataframe\">\n",
              "  <thead>\n",
              "    <tr style=\"text-align: right;\">\n",
              "      <th></th>\n",
              "      <th>CustomerID</th>\n",
              "      <th>Recency</th>\n",
              "      <th>RecencyCluster</th>\n",
              "    </tr>\n",
              "  </thead>\n",
              "  <tbody>\n",
              "    <tr>\n",
              "      <th>0</th>\n",
              "      <td>17850.0</td>\n",
              "      <td>69</td>\n",
              "      <td>0</td>\n",
              "    </tr>\n",
              "    <tr>\n",
              "      <th>1</th>\n",
              "      <td>13047.0</td>\n",
              "      <td>47</td>\n",
              "      <td>0</td>\n",
              "    </tr>\n",
              "    <tr>\n",
              "      <th>2</th>\n",
              "      <td>12583.0</td>\n",
              "      <td>0</td>\n",
              "      <td>0</td>\n",
              "    </tr>\n",
              "    <tr>\n",
              "      <th>3</th>\n",
              "      <td>13748.0</td>\n",
              "      <td>159</td>\n",
              "      <td>3</td>\n",
              "    </tr>\n",
              "    <tr>\n",
              "      <th>4</th>\n",
              "      <td>15100.0</td>\n",
              "      <td>70</td>\n",
              "      <td>0</td>\n",
              "    </tr>\n",
              "  </tbody>\n",
              "</table>\n",
              "</div>"
            ],
            "text/plain": [
              "   CustomerID  Recency  RecencyCluster\n",
              "0     17850.0       69               0\n",
              "1     13047.0       47               0\n",
              "2     12583.0        0               0\n",
              "3     13748.0      159               3\n",
              "4     15100.0       70               0"
            ]
          },
          "metadata": {
            "tags": []
          },
          "execution_count": 17
        }
      ]
    },
    {
      "cell_type": "code",
      "metadata": {
        "colab": {
          "base_uri": "https://localhost:8080/",
          "height": 195
        },
        "id": "zcVNHIs_SYw0",
        "outputId": "31a7d59c-9d7a-434a-c7ab-1ec71d69ce79"
      },
      "source": [
        "# get statistical analysis for each cluster\n",
        "df_recency.groupby([\"RecencyCluster\"])[\"Recency\"].describe()"
      ],
      "execution_count": null,
      "outputs": [
        {
          "output_type": "execute_result",
          "data": {
            "text/html": [
              "<div>\n",
              "<style scoped>\n",
              "    .dataframe tbody tr th:only-of-type {\n",
              "        vertical-align: middle;\n",
              "    }\n",
              "\n",
              "    .dataframe tbody tr th {\n",
              "        vertical-align: top;\n",
              "    }\n",
              "\n",
              "    .dataframe thead th {\n",
              "        text-align: right;\n",
              "    }\n",
              "</style>\n",
              "<table border=\"1\" class=\"dataframe\">\n",
              "  <thead>\n",
              "    <tr style=\"text-align: right;\">\n",
              "      <th></th>\n",
              "      <th>count</th>\n",
              "      <th>mean</th>\n",
              "      <th>std</th>\n",
              "      <th>min</th>\n",
              "      <th>25%</th>\n",
              "      <th>50%</th>\n",
              "      <th>75%</th>\n",
              "      <th>max</th>\n",
              "    </tr>\n",
              "    <tr>\n",
              "      <th>RecencyCluster</th>\n",
              "      <th></th>\n",
              "      <th></th>\n",
              "      <th></th>\n",
              "      <th></th>\n",
              "      <th></th>\n",
              "      <th></th>\n",
              "      <th></th>\n",
              "      <th></th>\n",
              "    </tr>\n",
              "  </thead>\n",
              "  <tbody>\n",
              "    <tr>\n",
              "      <th>0</th>\n",
              "      <td>2737.0</td>\n",
              "      <td>32.623676</td>\n",
              "      <td>24.264566</td>\n",
              "      <td>0.0</td>\n",
              "      <td>12.0</td>\n",
              "      <td>25.0</td>\n",
              "      <td>51.0</td>\n",
              "      <td>88.0</td>\n",
              "    </tr>\n",
              "    <tr>\n",
              "      <th>1</th>\n",
              "      <td>615.0</td>\n",
              "      <td>278.869919</td>\n",
              "      <td>44.490412</td>\n",
              "      <td>212.0</td>\n",
              "      <td>243.0</td>\n",
              "      <td>270.0</td>\n",
              "      <td>312.0</td>\n",
              "      <td>424.0</td>\n",
              "    </tr>\n",
              "    <tr>\n",
              "      <th>2</th>\n",
              "      <td>76.0</td>\n",
              "      <td>589.000000</td>\n",
              "      <td>94.168501</td>\n",
              "      <td>454.0</td>\n",
              "      <td>485.0</td>\n",
              "      <td>638.0</td>\n",
              "      <td>666.0</td>\n",
              "      <td>697.0</td>\n",
              "    </tr>\n",
              "    <tr>\n",
              "      <th>3</th>\n",
              "      <td>944.0</td>\n",
              "      <td>144.022246</td>\n",
              "      <td>34.866303</td>\n",
              "      <td>89.0</td>\n",
              "      <td>114.0</td>\n",
              "      <td>143.0</td>\n",
              "      <td>174.0</td>\n",
              "      <td>211.0</td>\n",
              "    </tr>\n",
              "  </tbody>\n",
              "</table>\n",
              "</div>"
            ],
            "text/plain": [
              "                 count        mean        std  ...    50%    75%    max\n",
              "RecencyCluster                                 ...                     \n",
              "0               2737.0   32.623676  24.264566  ...   25.0   51.0   88.0\n",
              "1                615.0  278.869919  44.490412  ...  270.0  312.0  424.0\n",
              "2                 76.0  589.000000  94.168501  ...  638.0  666.0  697.0\n",
              "3                944.0  144.022246  34.866303  ...  143.0  174.0  211.0\n",
              "\n",
              "[4 rows x 8 columns]"
            ]
          },
          "metadata": {
            "tags": []
          },
          "execution_count": 18
        }
      ]
    },
    {
      "cell_type": "markdown",
      "metadata": {
        "id": "yDFixJvBSYw0"
      },
      "source": [
        "We segmented our customers into 4 different clusters which are from 0 to 4. We have 524 customers in Cluster 0, 2157 customers in Cluster 1, 632 customers in Cluster 2 and 1059 Customers in Cluster 3. When we compare the recency, the cluster 0 is the best performing customer set and cluster 1 is the worst performing cluster set.\n",
        "We can further look at frequency and segment customers based on how often do they purchase.\n"
      ]
    },
    {
      "cell_type": "code",
      "metadata": {
        "colab": {
          "base_uri": "https://localhost:8080/",
          "height": 195
        },
        "id": "gDU9OiuLSYw1",
        "outputId": "83379960-259a-4724-c888-0db58f339453"
      },
      "source": [
        "# frequency of orders\n",
        "df_frequency=df.groupby([\"CustomerID\"])[\"InvoiceDate\"].count().reset_index()\n",
        "df_frequency.columns=[\"CustomerID\", \"Frequency\"]\n",
        "df_frequency=pd.merge(df_user, df_frequency, on=\"CustomerID\")\n",
        "df_frequency.head()"
      ],
      "execution_count": null,
      "outputs": [
        {
          "output_type": "execute_result",
          "data": {
            "text/html": [
              "<div>\n",
              "<style scoped>\n",
              "    .dataframe tbody tr th:only-of-type {\n",
              "        vertical-align: middle;\n",
              "    }\n",
              "\n",
              "    .dataframe tbody tr th {\n",
              "        vertical-align: top;\n",
              "    }\n",
              "\n",
              "    .dataframe thead th {\n",
              "        text-align: right;\n",
              "    }\n",
              "</style>\n",
              "<table border=\"1\" class=\"dataframe\">\n",
              "  <thead>\n",
              "    <tr style=\"text-align: right;\">\n",
              "      <th></th>\n",
              "      <th>CustomerID</th>\n",
              "      <th>Frequency</th>\n",
              "    </tr>\n",
              "  </thead>\n",
              "  <tbody>\n",
              "    <tr>\n",
              "      <th>0</th>\n",
              "      <td>17850.0</td>\n",
              "      <td>312</td>\n",
              "    </tr>\n",
              "    <tr>\n",
              "      <th>1</th>\n",
              "      <td>13047.0</td>\n",
              "      <td>196</td>\n",
              "    </tr>\n",
              "    <tr>\n",
              "      <th>2</th>\n",
              "      <td>12583.0</td>\n",
              "      <td>251</td>\n",
              "    </tr>\n",
              "    <tr>\n",
              "      <th>3</th>\n",
              "      <td>13748.0</td>\n",
              "      <td>28</td>\n",
              "    </tr>\n",
              "    <tr>\n",
              "      <th>4</th>\n",
              "      <td>15100.0</td>\n",
              "      <td>6</td>\n",
              "    </tr>\n",
              "  </tbody>\n",
              "</table>\n",
              "</div>"
            ],
            "text/plain": [
              "   CustomerID  Frequency\n",
              "0     17850.0        312\n",
              "1     13047.0        196\n",
              "2     12583.0        251\n",
              "3     13748.0         28\n",
              "4     15100.0          6"
            ]
          },
          "metadata": {
            "tags": []
          },
          "execution_count": 19
        }
      ]
    },
    {
      "cell_type": "code",
      "metadata": {
        "colab": {
          "base_uri": "https://localhost:8080/",
          "height": 691
        },
        "id": "rDKEdgR1SYw1",
        "outputId": "e872f466-b376-4d58-e1e9-d39b32469562"
      },
      "source": [
        "# Review of Frequency Distribution\n",
        "plt.figure(figsize=(15,10))\n",
        "sns.distplot(df_frequency.query(\"Frequency<1000\")[\"Frequency\"])\n",
        "plt.title(\"Frequency Distribution\")\n",
        "plt.xlabel(\"Frequency\")\n",
        "plt.ylabel(\"Count\")"
      ],
      "execution_count": null,
      "outputs": [
        {
          "output_type": "stream",
          "text": [
            "/usr/local/lib/python3.7/dist-packages/seaborn/distributions.py:2557: FutureWarning: `distplot` is a deprecated function and will be removed in a future version. Please adapt your code to use either `displot` (a figure-level function with similar flexibility) or `histplot` (an axes-level function for histograms).\n",
            "  warnings.warn(msg, FutureWarning)\n"
          ],
          "name": "stderr"
        },
        {
          "output_type": "execute_result",
          "data": {
            "text/plain": [
              "Text(0, 0.5, 'Count')"
            ]
          },
          "metadata": {
            "tags": []
          },
          "execution_count": 20
        },
        {
          "output_type": "display_data",
          "data": {
            "image/png": "[encoded data removed]",
            "text/plain": [
              "<Figure size 1080x720 with 1 Axes>"
            ]
          },
          "metadata": {
            "tags": [],
            "needs_background": "light"
          }
        }
      ]
    },
    {
      "cell_type": "code",
      "metadata": {
        "colab": {
          "base_uri": "https://localhost:8080/",
          "height": 195
        },
        "id": "MiIImDYtSYw1",
        "outputId": "7770399a-c199-4f5a-be0e-f00f4761b092"
      },
      "source": [
        "# Customer Segmentation based on Frequency\n",
        "x=df_frequency[[\"Frequency\"]]\n",
        "k_model_frequency=KMeans(n_clusters=4)\n",
        "k_model_frequency.fit(x)\n",
        "k_model_frequency_predict=k_model_frequency.predict(x)\n",
        "df_frequency[\"FrequencyCluster\"]=k_model_frequency_predict\n",
        "df_frequency.head()\n",
        "# Statistical Analysis of clusters based on frequency\n",
        "df_frequency.groupby([\"FrequencyCluster\"])[\"Frequency\"].describe()"
      ],
      "execution_count": null,
      "outputs": [
        {
          "output_type": "execute_result",
          "data": {
            "text/html": [
              "<div>\n",
              "<style scoped>\n",
              "    .dataframe tbody tr th:only-of-type {\n",
              "        vertical-align: middle;\n",
              "    }\n",
              "\n",
              "    .dataframe tbody tr th {\n",
              "        vertical-align: top;\n",
              "    }\n",
              "\n",
              "    .dataframe thead th {\n",
              "        text-align: right;\n",
              "    }\n",
              "</style>\n",
              "<table border=\"1\" class=\"dataframe\">\n",
              "  <thead>\n",
              "    <tr style=\"text-align: right;\">\n",
              "      <th></th>\n",
              "      <th>count</th>\n",
              "      <th>mean</th>\n",
              "      <th>std</th>\n",
              "      <th>min</th>\n",
              "      <th>25%</th>\n",
              "      <th>50%</th>\n",
              "      <th>75%</th>\n",
              "      <th>max</th>\n",
              "    </tr>\n",
              "    <tr>\n",
              "      <th>FrequencyCluster</th>\n",
              "      <th></th>\n",
              "      <th></th>\n",
              "      <th></th>\n",
              "      <th></th>\n",
              "      <th></th>\n",
              "      <th></th>\n",
              "      <th></th>\n",
              "      <th></th>\n",
              "    </tr>\n",
              "  </thead>\n",
              "  <tbody>\n",
              "    <tr>\n",
              "      <th>0</th>\n",
              "      <td>3862.0</td>\n",
              "      <td>49.753755</td>\n",
              "      <td>44.812998</td>\n",
              "      <td>1.0</td>\n",
              "      <td>15.0</td>\n",
              "      <td>34.0</td>\n",
              "      <td>73.0</td>\n",
              "      <td>189.0</td>\n",
              "    </tr>\n",
              "    <tr>\n",
              "      <th>1</th>\n",
              "      <td>24.0</td>\n",
              "      <td>1349.750000</td>\n",
              "      <td>508.637759</td>\n",
              "      <td>872.0</td>\n",
              "      <td>1003.5</td>\n",
              "      <td>1156.0</td>\n",
              "      <td>1541.0</td>\n",
              "      <td>2782.0</td>\n",
              "    </tr>\n",
              "    <tr>\n",
              "      <th>2</th>\n",
              "      <td>4.0</td>\n",
              "      <td>5914.000000</td>\n",
              "      <td>1473.845537</td>\n",
              "      <td>4642.0</td>\n",
              "      <td>5006.5</td>\n",
              "      <td>5515.5</td>\n",
              "      <td>6423.0</td>\n",
              "      <td>7983.0</td>\n",
              "    </tr>\n",
              "    <tr>\n",
              "      <th>3</th>\n",
              "      <td>482.0</td>\n",
              "      <td>329.107884</td>\n",
              "      <td>132.670589</td>\n",
              "      <td>190.0</td>\n",
              "      <td>228.0</td>\n",
              "      <td>286.0</td>\n",
              "      <td>393.5</td>\n",
              "      <td>803.0</td>\n",
              "    </tr>\n",
              "  </tbody>\n",
              "</table>\n",
              "</div>"
            ],
            "text/plain": [
              "                   count         mean          std  ...     50%     75%     max\n",
              "FrequencyCluster                                    ...                        \n",
              "0                 3862.0    49.753755    44.812998  ...    34.0    73.0   189.0\n",
              "1                   24.0  1349.750000   508.637759  ...  1156.0  1541.0  2782.0\n",
              "2                    4.0  5914.000000  1473.845537  ...  5515.5  6423.0  7983.0\n",
              "3                  482.0   329.107884   132.670589  ...   286.0   393.5   803.0\n",
              "\n",
              "[4 rows x 8 columns]"
            ]
          },
          "metadata": {
            "tags": []
          },
          "execution_count": 21
        }
      ]
    },
    {
      "cell_type": "markdown",
      "metadata": {
        "id": "PON2VXBLSYw1"
      },
      "source": [
        "Cluster 0 has the most customers and Cluster 2 has the least based on Frequency. Based on this segmentation we see that cluster 0 has the least frequency customers however has the most amount of customers.\n",
        "Finally, we can segment our customers based on their monetary value.\n"
      ]
    },
    {
      "cell_type": "code",
      "metadata": {
        "colab": {
          "base_uri": "https://localhost:8080/",
          "height": 677
        },
        "id": "Q2XUadZxSYw2",
        "outputId": "6ad569b7-0ac7-4c4b-9569-1640bbb9fb00"
      },
      "source": [
        "df_customer_revenue=df.groupby([\"CustomerID\"])[\"Revenue\"].sum().reset_index()\n",
        "df_customer_revenue=pd.merge(df_user, df_customer_revenue, on=\"CustomerID\")\n",
        "df_customer_revenue.head()\n",
        "# Revenue Distribution\n",
        "plt.figure(figsize=(15,10))\n",
        "sns.distplot(df_customer_revenue.query(\"Revenue < 10000\")[\"Revenue\"])"
      ],
      "execution_count": null,
      "outputs": [
        {
          "output_type": "stream",
          "text": [
            "/usr/local/lib/python3.7/dist-packages/seaborn/distributions.py:2557: FutureWarning: `distplot` is a deprecated function and will be removed in a future version. Please adapt your code to use either `displot` (a figure-level function with similar flexibility) or `histplot` (an axes-level function for histograms).\n",
            "  warnings.warn(msg, FutureWarning)\n"
          ],
          "name": "stderr"
        },
        {
          "output_type": "execute_result",
          "data": {
            "text/plain": [
              "<matplotlib.axes._subplots.AxesSubplot at 0x7fcbaa94d850>"
            ]
          },
          "metadata": {
            "tags": []
          },
          "execution_count": 22
        },
        {
          "output_type": "display_data",
          "data": {
            "image/png": "[encoded data removed]",
            "text/plain": [
              "<Figure size 1080x720 with 1 Axes>"
            ]
          },
          "metadata": {
            "tags": [],
            "needs_background": "light"
          }
        }
      ]
    },
    {
      "cell_type": "code",
      "metadata": {
        "colab": {
          "base_uri": "https://localhost:8080/",
          "height": 195
        },
        "id": "-sNmtN-WSYw2",
        "outputId": "9def4b96-0f13-4e21-bd9e-59a48689d8b2"
      },
      "source": [
        "# Segmenting Customers Based on their Monetary Value\n",
        "a=df_customer_revenue[[\"Revenue\"]]\n",
        "k_model_revenue=KMeans(n_clusters=4)\n",
        "k_model_revenue.fit(a)\n",
        "k_model_revenue_pred=k_model_revenue.predict(a)\n",
        "df_customer_revenue[\"RevenueCluster\"]=k_model_revenue_pred\n",
        "df_customer_revenue.groupby([\"RevenueCluster\"])[\"Revenue\"].describe()"
      ],
      "execution_count": null,
      "outputs": [
        {
          "output_type": "execute_result",
          "data": {
            "text/html": [
              "<div>\n",
              "<style scoped>\n",
              "    .dataframe tbody tr th:only-of-type {\n",
              "        vertical-align: middle;\n",
              "    }\n",
              "\n",
              "    .dataframe tbody tr th {\n",
              "        vertical-align: top;\n",
              "    }\n",
              "\n",
              "    .dataframe thead th {\n",
              "        text-align: right;\n",
              "    }\n",
              "</style>\n",
              "<table border=\"1\" class=\"dataframe\">\n",
              "  <thead>\n",
              "    <tr style=\"text-align: right;\">\n",
              "      <th></th>\n",
              "      <th>count</th>\n",
              "      <th>mean</th>\n",
              "      <th>std</th>\n",
              "      <th>min</th>\n",
              "      <th>25%</th>\n",
              "      <th>50%</th>\n",
              "      <th>75%</th>\n",
              "      <th>max</th>\n",
              "    </tr>\n",
              "    <tr>\n",
              "      <th>RevenueCluster</th>\n",
              "      <th></th>\n",
              "      <th></th>\n",
              "      <th></th>\n",
              "      <th></th>\n",
              "      <th></th>\n",
              "      <th></th>\n",
              "      <th></th>\n",
              "      <th></th>\n",
              "    </tr>\n",
              "  </thead>\n",
              "  <tbody>\n",
              "    <tr>\n",
              "      <th>0</th>\n",
              "      <td>4252.0</td>\n",
              "      <td>1160.746285</td>\n",
              "      <td>1403.441736</td>\n",
              "      <td>-4287.63</td>\n",
              "      <td>286.565</td>\n",
              "      <td>623.575</td>\n",
              "      <td>1476.0700</td>\n",
              "      <td>8257.04</td>\n",
              "    </tr>\n",
              "    <tr>\n",
              "      <th>1</th>\n",
              "      <td>3.0</td>\n",
              "      <td>241136.560000</td>\n",
              "      <td>47874.073443</td>\n",
              "      <td>187482.17</td>\n",
              "      <td>221960.330</td>\n",
              "      <td>256438.490</td>\n",
              "      <td>267963.7550</td>\n",
              "      <td>279489.02</td>\n",
              "    </tr>\n",
              "    <tr>\n",
              "      <th>2</th>\n",
              "      <td>15.0</td>\n",
              "      <td>71423.516000</td>\n",
              "      <td>28632.631870</td>\n",
              "      <td>50415.49</td>\n",
              "      <td>52287.280</td>\n",
              "      <td>57385.880</td>\n",
              "      <td>77008.7300</td>\n",
              "      <td>132572.62</td>\n",
              "    </tr>\n",
              "    <tr>\n",
              "      <th>3</th>\n",
              "      <td>102.0</td>\n",
              "      <td>15390.295980</td>\n",
              "      <td>7557.269118</td>\n",
              "      <td>8393.22</td>\n",
              "      <td>10192.235</td>\n",
              "      <td>12395.080</td>\n",
              "      <td>17460.8075</td>\n",
              "      <td>40340.78</td>\n",
              "    </tr>\n",
              "  </tbody>\n",
              "</table>\n",
              "</div>"
            ],
            "text/plain": [
              "                 count           mean  ...          75%        max\n",
              "RevenueCluster                         ...                        \n",
              "0               4252.0    1160.746285  ...    1476.0700    8257.04\n",
              "1                  3.0  241136.560000  ...  267963.7550  279489.02\n",
              "2                 15.0   71423.516000  ...   77008.7300  132572.62\n",
              "3                102.0   15390.295980  ...   17460.8075   40340.78\n",
              "\n",
              "[4 rows x 8 columns]"
            ]
          },
          "metadata": {
            "tags": []
          },
          "execution_count": 23
        }
      ]
    },
    {
      "cell_type": "markdown",
      "metadata": {
        "id": "sjq1xaL0SYw2"
      },
      "source": [
        "Conclusion\n",
        "\n",
        "With the recency, frequency, monetary value segmentation and our exploratory analysis of our customers, we can further decide our purchase cycle of our products, prioritize and define our marketing campaigns. For example, we can look at our current marketing campaigns, inventory purchase strategies and operations for the months of January and October to see if we can entice more new users in order to turn the negative revenue growth of new users to positive. We can investigate the historical marketing campaigns in order to see what impact they provide for each recency and frequency clusters. We can further apply this to our main business goal to scale the business. We can also assign a 1–10 score for each category of RFM. For example customer will get a recency score of 1 if they haven't made a purchase for a year and gets a recency score of 10 if they made a purchase within the last month. We can further add all these scores for each category and create a customer value for each cluster. These actions will contribute drastically to our success for scalability of our business."
      ]
    },
    {
      "cell_type": "code",
      "metadata": {
        "id": "G0XwH6PuSYw3"
      },
      "source": [
        ""
      ],
      "execution_count": null,
      "outputs": []
    }
  ]
}