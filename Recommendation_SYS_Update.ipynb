{
  "nbformat": 4,
  "nbformat_minor": 0,
  "metadata": {
    "colab": {
      "name": "Recommendation SYS_Update.ipynb",
      "provenance": [],
      "collapsed_sections": []
    },
    "kernelspec": {
      "name": "python3",
      "display_name": "Python 3"
    },
    "language_info": {
      "name": "python"
    }
  },
  "cells": [
    {
      "cell_type": "code",
      "metadata": {
        "colab": {
          "base_uri": "https://localhost:8080/"
        },
        "id": "Y6SlkMKUQfze",
        "outputId": "220589d4-f1d6-46a8-c796-7be143c0e320"
      },
      "source": [
        "from google.colab import drive\n",
        "drive.mount('/content/gdrive/')"
      ],
      "execution_count": null,
      "outputs": [
        {
          "output_type": "stream",
          "text": [
            "Mounted at /content/gdrive/\n"
          ],
          "name": "stdout"
        }
      ]
    },
    {
      "cell_type": "code",
      "metadata": {
        "id": "DmxlxMK-YC1Z"
      },
      "source": [
        "import pandas as pd\n",
        "import numpy as np\n",
        "import seaborn as sns\n",
        "import matplotlib.pyplot as plt\n"
      ],
      "execution_count": null,
      "outputs": []
    },
    {
      "cell_type": "code",
      "metadata": {
        "colab": {
          "base_uri": "https://localhost:8080/",
          "height": 202
        },
        "id": "l5H1jJnHE-ad",
        "outputId": "aa470d49-ebae-4698-9b83-8f4292603511"
      },
      "source": [
        "Data = pd.read_excel(\"/content/gdrive/MyDrive/Sem 4 project/Online Retail_2.xlsx\",sheet_name=\"Preprocessed Online Retail\")\n",
        "Data.head()"
      ],
      "execution_count": null,
      "outputs": [
        {
          "output_type": "execute_result",
          "data": {
            "text/html": [
              "<div>\n",
              "<style scoped>\n",
              "    .dataframe tbody tr th:only-of-type {\n",
              "        vertical-align: middle;\n",
              "    }\n",
              "\n",
              "    .dataframe tbody tr th {\n",
              "        vertical-align: top;\n",
              "    }\n",
              "\n",
              "    .dataframe thead th {\n",
              "        text-align: right;\n",
              "    }\n",
              "</style>\n",
              "<table border=\"1\" class=\"dataframe\">\n",
              "  <thead>\n",
              "    <tr style=\"text-align: right;\">\n",
              "      <th></th>\n",
              "      <th>InvoiceNo</th>\n",
              "      <th>StockCode</th>\n",
              "      <th>Description</th>\n",
              "      <th>Quantity</th>\n",
              "      <th>InvoiceDate</th>\n",
              "      <th>UnitPrice</th>\n",
              "      <th>CustomerID</th>\n",
              "      <th>Country</th>\n",
              "      <th>Sales</th>\n",
              "    </tr>\n",
              "  </thead>\n",
              "  <tbody>\n",
              "    <tr>\n",
              "      <th>0</th>\n",
              "      <td>581587</td>\n",
              "      <td>22631</td>\n",
              "      <td>CIRCUS PARADE LUNCH BOX</td>\n",
              "      <td>12</td>\n",
              "      <td>2011-12-09 12:50:00</td>\n",
              "      <td>1.95</td>\n",
              "      <td>12680</td>\n",
              "      <td>France</td>\n",
              "      <td>23.4</td>\n",
              "    </tr>\n",
              "    <tr>\n",
              "      <th>1</th>\n",
              "      <td>581587</td>\n",
              "      <td>22556</td>\n",
              "      <td>PLASTERS IN TIN CIRCUS PARADE</td>\n",
              "      <td>12</td>\n",
              "      <td>2011-12-09 12:50:00</td>\n",
              "      <td>1.65</td>\n",
              "      <td>12680</td>\n",
              "      <td>France</td>\n",
              "      <td>19.8</td>\n",
              "    </tr>\n",
              "    <tr>\n",
              "      <th>2</th>\n",
              "      <td>581587</td>\n",
              "      <td>22555</td>\n",
              "      <td>PLASTERS IN TIN STRONGMAN</td>\n",
              "      <td>12</td>\n",
              "      <td>2011-12-09 12:50:00</td>\n",
              "      <td>1.65</td>\n",
              "      <td>12680</td>\n",
              "      <td>France</td>\n",
              "      <td>19.8</td>\n",
              "    </tr>\n",
              "    <tr>\n",
              "      <th>3</th>\n",
              "      <td>581587</td>\n",
              "      <td>22728</td>\n",
              "      <td>ALARM CLOCK BAKELIKE PINK</td>\n",
              "      <td>4</td>\n",
              "      <td>2011-12-09 12:50:00</td>\n",
              "      <td>3.75</td>\n",
              "      <td>12680</td>\n",
              "      <td>France</td>\n",
              "      <td>15.0</td>\n",
              "    </tr>\n",
              "    <tr>\n",
              "      <th>4</th>\n",
              "      <td>581587</td>\n",
              "      <td>22727</td>\n",
              "      <td>ALARM CLOCK BAKELIKE RED</td>\n",
              "      <td>4</td>\n",
              "      <td>2011-12-09 12:50:00</td>\n",
              "      <td>3.75</td>\n",
              "      <td>12680</td>\n",
              "      <td>France</td>\n",
              "      <td>15.0</td>\n",
              "    </tr>\n",
              "  </tbody>\n",
              "</table>\n",
              "</div>"
            ],
            "text/plain": [
              "   InvoiceNo StockCode  ... Country  Sales\n",
              "0     581587     22631  ...  France   23.4\n",
              "1     581587     22556  ...  France   19.8\n",
              "2     581587     22555  ...  France   19.8\n",
              "3     581587     22728  ...  France   15.0\n",
              "4     581587     22727  ...  France   15.0\n",
              "\n",
              "[5 rows x 9 columns]"
            ]
          },
          "metadata": {
            "tags": []
          },
          "execution_count": 3
        }
      ]
    },
    {
      "cell_type": "code",
      "metadata": {
        "id": "YwvS12cPXJyd",
        "colab": {
          "base_uri": "https://localhost:8080/"
        },
        "outputId": "b6e27f93-b391-4103-e99f-db7c01978b51"
      },
      "source": [
        "!pip install lifetimes"
      ],
      "execution_count": null,
      "outputs": [
        {
          "output_type": "stream",
          "text": [
            "Collecting lifetimes\n",
            "\u001b[?25l  Downloading https://files.pythonhosted.org/packages/c5/1f/ee6a471dcb5cb2f4dbc219023e07991f3b917875f9c8a5f5d77c00ddabca/Lifetimes-0.11.3-py3-none-any.whl (584kB)\n",
            "\r\u001b[K     |▋                               | 10kB 16.4MB/s eta 0:00:01\r\u001b[K     |█▏                              | 20kB 22.4MB/s eta 0:00:01\r\u001b[K     |█▊                              | 30kB 12.8MB/s eta 0:00:01\r\u001b[K     |██▎                             | 40kB 10.1MB/s eta 0:00:01\r\u001b[K     |██▉                             | 51kB 7.8MB/s eta 0:00:01\r\u001b[K     |███▍                            | 61kB 7.5MB/s eta 0:00:01\r\u001b[K     |████                            | 71kB 8.0MB/s eta 0:00:01\r\u001b[K     |████▌                           | 81kB 7.6MB/s eta 0:00:01\r\u001b[K     |█████                           | 92kB 8.2MB/s eta 0:00:01\r\u001b[K     |█████▋                          | 102kB 8.5MB/s eta 0:00:01\r\u001b[K     |██████▏                         | 112kB 8.5MB/s eta 0:00:01\r\u001b[K     |██████▊                         | 122kB 8.5MB/s eta 0:00:01\r\u001b[K     |███████▎                        | 133kB 8.5MB/s eta 0:00:01\r\u001b[K     |███████▉                        | 143kB 8.5MB/s eta 0:00:01\r\u001b[K     |████████▍                       | 153kB 8.5MB/s eta 0:00:01\r\u001b[K     |█████████                       | 163kB 8.5MB/s eta 0:00:01\r\u001b[K     |█████████▌                      | 174kB 8.5MB/s eta 0:00:01\r\u001b[K     |██████████                      | 184kB 8.5MB/s eta 0:00:01\r\u001b[K     |██████████▋                     | 194kB 8.5MB/s eta 0:00:01\r\u001b[K     |███████████▏                    | 204kB 8.5MB/s eta 0:00:01\r\u001b[K     |███████████▉                    | 215kB 8.5MB/s eta 0:00:01\r\u001b[K     |████████████▍                   | 225kB 8.5MB/s eta 0:00:01\r\u001b[K     |█████████████                   | 235kB 8.5MB/s eta 0:00:01\r\u001b[K     |█████████████▌                  | 245kB 8.5MB/s eta 0:00:01\r\u001b[K     |██████████████                  | 256kB 8.5MB/s eta 0:00:01\r\u001b[K     |██████████████▋                 | 266kB 8.5MB/s eta 0:00:01\r\u001b[K     |███████████████▏                | 276kB 8.5MB/s eta 0:00:01\r\u001b[K     |███████████████▊                | 286kB 8.5MB/s eta 0:00:01\r\u001b[K     |████████████████▎               | 296kB 8.5MB/s eta 0:00:01\r\u001b[K     |████████████████▉               | 307kB 8.5MB/s eta 0:00:01\r\u001b[K     |█████████████████▍              | 317kB 8.5MB/s eta 0:00:01\r\u001b[K     |██████████████████              | 327kB 8.5MB/s eta 0:00:01\r\u001b[K     |██████████████████▌             | 337kB 8.5MB/s eta 0:00:01\r\u001b[K     |███████████████████             | 348kB 8.5MB/s eta 0:00:01\r\u001b[K     |███████████████████▋            | 358kB 8.5MB/s eta 0:00:01\r\u001b[K     |████████████████████▏           | 368kB 8.5MB/s eta 0:00:01\r\u001b[K     |████████████████████▊           | 378kB 8.5MB/s eta 0:00:01\r\u001b[K     |█████████████████████▎          | 389kB 8.5MB/s eta 0:00:01\r\u001b[K     |█████████████████████▉          | 399kB 8.5MB/s eta 0:00:01\r\u001b[K     |██████████████████████▍         | 409kB 8.5MB/s eta 0:00:01\r\u001b[K     |███████████████████████         | 419kB 8.5MB/s eta 0:00:01\r\u001b[K     |███████████████████████▋        | 430kB 8.5MB/s eta 0:00:01\r\u001b[K     |████████████████████████▏       | 440kB 8.5MB/s eta 0:00:01\r\u001b[K     |████████████████████████▊       | 450kB 8.5MB/s eta 0:00:01\r\u001b[K     |█████████████████████████▎      | 460kB 8.5MB/s eta 0:00:01\r\u001b[K     |█████████████████████████▉      | 471kB 8.5MB/s eta 0:00:01\r\u001b[K     |██████████████████████████▍     | 481kB 8.5MB/s eta 0:00:01\r\u001b[K     |███████████████████████████     | 491kB 8.5MB/s eta 0:00:01\r\u001b[K     |███████████████████████████▌    | 501kB 8.5MB/s eta 0:00:01\r\u001b[K     |████████████████████████████    | 512kB 8.5MB/s eta 0:00:01\r\u001b[K     |████████████████████████████▋   | 522kB 8.5MB/s eta 0:00:01\r\u001b[K     |█████████████████████████████▏  | 532kB 8.5MB/s eta 0:00:01\r\u001b[K     |█████████████████████████████▊  | 542kB 8.5MB/s eta 0:00:01\r\u001b[K     |██████████████████████████████▎ | 552kB 8.5MB/s eta 0:00:01\r\u001b[K     |██████████████████████████████▉ | 563kB 8.5MB/s eta 0:00:01\r\u001b[K     |███████████████████████████████▍| 573kB 8.5MB/s eta 0:00:01\r\u001b[K     |████████████████████████████████| 583kB 8.5MB/s eta 0:00:01\r\u001b[K     |████████████████████████████████| 593kB 8.5MB/s \n",
            "\u001b[?25hRequirement already satisfied: dill>=0.2.6 in /usr/local/lib/python3.7/dist-packages (from lifetimes) (0.3.4)\n",
            "Requirement already satisfied: numpy>=1.10.0 in /usr/local/lib/python3.7/dist-packages (from lifetimes) (1.19.5)\n",
            "Requirement already satisfied: autograd>=1.2.0 in /usr/local/lib/python3.7/dist-packages (from lifetimes) (1.3)\n",
            "Requirement already satisfied: pandas>=0.24.0 in /usr/local/lib/python3.7/dist-packages (from lifetimes) (1.1.5)\n",
            "Requirement already satisfied: scipy>=1.0.0 in /usr/local/lib/python3.7/dist-packages (from lifetimes) (1.4.1)\n",
            "Requirement already satisfied: future>=0.15.2 in /usr/local/lib/python3.7/dist-packages (from autograd>=1.2.0->lifetimes) (0.16.0)\n",
            "Requirement already satisfied: pytz>=2017.2 in /usr/local/lib/python3.7/dist-packages (from pandas>=0.24.0->lifetimes) (2018.9)\n",
            "Requirement already satisfied: python-dateutil>=2.7.3 in /usr/local/lib/python3.7/dist-packages (from pandas>=0.24.0->lifetimes) (2.8.1)\n",
            "Requirement already satisfied: six>=1.5 in /usr/local/lib/python3.7/dist-packages (from python-dateutil>=2.7.3->pandas>=0.24.0->lifetimes) (1.15.0)\n",
            "Installing collected packages: lifetimes\n",
            "Successfully installed lifetimes-0.11.3\n"
          ],
          "name": "stdout"
        }
      ]
    },
    {
      "cell_type": "code",
      "metadata": {
        "id": "yM0eSoB5XJ2c"
      },
      "source": [
        "from lifetimes.plotting import *\n",
        "from lifetimes.utils import *"
      ],
      "execution_count": null,
      "outputs": []
    },
    {
      "cell_type": "code",
      "metadata": {
        "colab": {
          "base_uri": "https://localhost:8080/"
        },
        "id": "4gRtueFsYPY7",
        "outputId": "07edfc50-e7b4-43b4-b898-3d4472776b5d"
      },
      "source": [
        "Data.info()"
      ],
      "execution_count": null,
      "outputs": [
        {
          "output_type": "stream",
          "text": [
            "<class 'pandas.core.frame.DataFrame'>\n",
            "RangeIndex: 397884 entries, 0 to 397883\n",
            "Data columns (total 9 columns):\n",
            " #   Column       Non-Null Count   Dtype         \n",
            "---  ------       --------------   -----         \n",
            " 0   InvoiceNo    397884 non-null  int64         \n",
            " 1   StockCode    397884 non-null  object        \n",
            " 2   Description  397884 non-null  object        \n",
            " 3   Quantity     397884 non-null  int64         \n",
            " 4   InvoiceDate  397884 non-null  datetime64[ns]\n",
            " 5   UnitPrice    397884 non-null  float64       \n",
            " 6   CustomerID   397884 non-null  int64         \n",
            " 7   Country      397884 non-null  object        \n",
            " 8   Sales        397884 non-null  float64       \n",
            "dtypes: datetime64[ns](1), float64(2), int64(3), object(3)\n",
            "memory usage: 27.3+ MB\n"
          ],
          "name": "stdout"
        }
      ]
    },
    {
      "cell_type": "code",
      "metadata": {
        "colab": {
          "base_uri": "https://localhost:8080/"
        },
        "id": "qbxwk48vXRjh",
        "outputId": "6a4974cb-d1cf-429a-a340-7acb17bd54f7"
      },
      "source": [
        "#?summary_data_from_transaction_data\n",
        "Data.columns"
      ],
      "execution_count": null,
      "outputs": [
        {
          "output_type": "execute_result",
          "data": {
            "text/plain": [
              "Index(['InvoiceNo', 'StockCode', 'Description', 'Quantity', 'InvoiceDate',\n",
              "       'UnitPrice', 'CustomerID', 'Country', 'Sales'],\n",
              "      dtype='object')"
            ]
          },
          "metadata": {
            "tags": []
          },
          "execution_count": 7
        }
      ]
    },
    {
      "cell_type": "code",
      "metadata": {
        "colab": {
          "base_uri": "https://localhost:8080/",
          "height": 232
        },
        "id": "qy0vND58XRln",
        "outputId": "d23ca835-c1ac-4274-d98f-ce14d2128f7c"
      },
      "source": [
        "RFM = summary_data_from_transaction_data(Data,customer_id_col='StockCode',\n",
        "                                         datetime_col='InvoiceDate',\n",
        "                                         monetary_value_col='Sales',\n",
        "                                         observation_period_end=Data['InvoiceDate'].max())\n",
        "RFM=RFM.drop(columns='T')\n",
        "\n",
        "RFM.head()"
      ],
      "execution_count": null,
      "outputs": [
        {
          "output_type": "execute_result",
          "data": {
            "text/html": [
              "<div>\n",
              "<style scoped>\n",
              "    .dataframe tbody tr th:only-of-type {\n",
              "        vertical-align: middle;\n",
              "    }\n",
              "\n",
              "    .dataframe tbody tr th {\n",
              "        vertical-align: top;\n",
              "    }\n",
              "\n",
              "    .dataframe thead th {\n",
              "        text-align: right;\n",
              "    }\n",
              "</style>\n",
              "<table border=\"1\" class=\"dataframe\">\n",
              "  <thead>\n",
              "    <tr style=\"text-align: right;\">\n",
              "      <th></th>\n",
              "      <th>frequency</th>\n",
              "      <th>recency</th>\n",
              "      <th>monetary_value</th>\n",
              "    </tr>\n",
              "    <tr>\n",
              "      <th>StockCode</th>\n",
              "      <th></th>\n",
              "      <th></th>\n",
              "      <th></th>\n",
              "    </tr>\n",
              "  </thead>\n",
              "  <tbody>\n",
              "    <tr>\n",
              "      <th>10002</th>\n",
              "      <td>36.0</td>\n",
              "      <td>138.0</td>\n",
              "      <td>18.015278</td>\n",
              "    </tr>\n",
              "    <tr>\n",
              "      <th>10080</th>\n",
              "      <td>19.0</td>\n",
              "      <td>267.0</td>\n",
              "      <td>5.932105</td>\n",
              "    </tr>\n",
              "    <tr>\n",
              "      <th>10120</th>\n",
              "      <td>23.0</td>\n",
              "      <td>366.0</td>\n",
              "      <td>1.734783</td>\n",
              "    </tr>\n",
              "    <tr>\n",
              "      <th>10125</th>\n",
              "      <td>46.0</td>\n",
              "      <td>373.0</td>\n",
              "      <td>20.186957</td>\n",
              "    </tr>\n",
              "    <tr>\n",
              "      <th>10133</th>\n",
              "      <td>77.0</td>\n",
              "      <td>280.0</td>\n",
              "      <td>14.796883</td>\n",
              "    </tr>\n",
              "  </tbody>\n",
              "</table>\n",
              "</div>"
            ],
            "text/plain": [
              "           frequency  recency  monetary_value\n",
              "StockCode                                    \n",
              "10002           36.0    138.0       18.015278\n",
              "10080           19.0    267.0        5.932105\n",
              "10120           23.0    366.0        1.734783\n",
              "10125           46.0    373.0       20.186957\n",
              "10133           77.0    280.0       14.796883"
            ]
          },
          "metadata": {
            "tags": []
          },
          "execution_count": 8
        }
      ]
    },
    {
      "cell_type": "code",
      "metadata": {
        "colab": {
          "base_uri": "https://localhost:8080/",
          "height": 141
        },
        "id": "OpZmmS38MoSl",
        "outputId": "1256e735-f2b8-4aaa-84d4-2738d2bea6e6"
      },
      "source": [
        "stats=RFM.describe().T\n",
        "stats"
      ],
      "execution_count": null,
      "outputs": [
        {
          "output_type": "execute_result",
          "data": {
            "text/html": [
              "<div>\n",
              "<style scoped>\n",
              "    .dataframe tbody tr th:only-of-type {\n",
              "        vertical-align: middle;\n",
              "    }\n",
              "\n",
              "    .dataframe tbody tr th {\n",
              "        vertical-align: top;\n",
              "    }\n",
              "\n",
              "    .dataframe thead th {\n",
              "        text-align: right;\n",
              "    }\n",
              "</style>\n",
              "<table border=\"1\" class=\"dataframe\">\n",
              "  <thead>\n",
              "    <tr style=\"text-align: right;\">\n",
              "      <th></th>\n",
              "      <th>count</th>\n",
              "      <th>mean</th>\n",
              "      <th>std</th>\n",
              "      <th>min</th>\n",
              "      <th>25%</th>\n",
              "      <th>50%</th>\n",
              "      <th>75%</th>\n",
              "      <th>max</th>\n",
              "    </tr>\n",
              "  </thead>\n",
              "  <tbody>\n",
              "    <tr>\n",
              "      <th>frequency</th>\n",
              "      <td>3665.0</td>\n",
              "      <td>59.673943</td>\n",
              "      <td>62.730717</td>\n",
              "      <td>0.0</td>\n",
              "      <td>10.00</td>\n",
              "      <td>38.000000</td>\n",
              "      <td>89.000000</td>\n",
              "      <td>304.0</td>\n",
              "    </tr>\n",
              "    <tr>\n",
              "      <th>recency</th>\n",
              "      <td>3665.0</td>\n",
              "      <td>264.976808</td>\n",
              "      <td>126.035046</td>\n",
              "      <td>0.0</td>\n",
              "      <td>173.00</td>\n",
              "      <td>337.000000</td>\n",
              "      <td>369.000000</td>\n",
              "      <td>373.0</td>\n",
              "    </tr>\n",
              "    <tr>\n",
              "      <th>monetary_value</th>\n",
              "      <td>3665.0</td>\n",
              "      <td>26.756886</td>\n",
              "      <td>60.436423</td>\n",
              "      <td>0.0</td>\n",
              "      <td>8.75</td>\n",
              "      <td>15.981395</td>\n",
              "      <td>28.580843</td>\n",
              "      <td>2730.0</td>\n",
              "    </tr>\n",
              "  </tbody>\n",
              "</table>\n",
              "</div>"
            ],
            "text/plain": [
              "                 count        mean         std  ...         50%         75%     max\n",
              "frequency       3665.0   59.673943   62.730717  ...   38.000000   89.000000   304.0\n",
              "recency         3665.0  264.976808  126.035046  ...  337.000000  369.000000   373.0\n",
              "monetary_value  3665.0   26.756886   60.436423  ...   15.981395   28.580843  2730.0\n",
              "\n",
              "[3 rows x 8 columns]"
            ]
          },
          "metadata": {
            "tags": []
          },
          "execution_count": 9
        }
      ]
    },
    {
      "cell_type": "code",
      "metadata": {
        "colab": {
          "base_uri": "https://localhost:8080/"
        },
        "id": "rS2i81CvM2bH",
        "outputId": "ec87b5e2-89dd-409b-df50-a591494b883d"
      },
      "source": [
        "int(stats['min'][0])"
      ],
      "execution_count": null,
      "outputs": [
        {
          "output_type": "execute_result",
          "data": {
            "text/plain": [
              "0"
            ]
          },
          "metadata": {
            "tags": []
          },
          "execution_count": 10
        }
      ]
    },
    {
      "cell_type": "code",
      "metadata": {
        "id": "PqXjeDrhMoWC"
      },
      "source": [
        "# Define rfm_level function\n",
        "def F_score(df):\n",
        "    if df['frequency'] == stats['min'][0]:\n",
        "        return int(1)\n",
        "    elif ((stats['25%'][0]>= df['frequency']) and (stats['25%'][0]<df['frequency'])):\n",
        "        return int(2)\n",
        "    elif ((stats['50%'][0]>=df['frequency']) and (stats['50%'][0]<df['frequency'])):\n",
        "        return int(3)\n",
        "    elif ((stats['75%'][0]>=df['frequency']) and (stats['75%'][0]<df['frequency'])):\n",
        "        return int(4)\n",
        "    "
      ],
      "execution_count": null,
      "outputs": []
    },
    {
      "cell_type": "code",
      "metadata": {
        "id": "UYbzDcv_MovA"
      },
      "source": [
        ""
      ],
      "execution_count": null,
      "outputs": []
    },
    {
      "cell_type": "code",
      "metadata": {
        "colab": {
          "base_uri": "https://localhost:8080/",
          "height": 232
        },
        "id": "CMkf3ixvbo0e",
        "outputId": "d3ab21ee-9223-40b2-b256-70ae2ec05c1a"
      },
      "source": [
        "# Create labels for Recency and Frequency\n",
        "r_labels = range(4, 0, -1); f_labels = range(1, 5)\n",
        "\n",
        "# Assign these labels to 4 equal percentile groups \n",
        "r_groups = pd.qcut(RFM['recency'], q=4, labels=r_labels)\n",
        "\n",
        "# Assign these labels to 4 equal percentile groups \n",
        "f_groups = pd.qcut(RFM['frequency'], q=4, labels=f_labels)\n",
        "\n",
        "# Create new columns R and F \n",
        "RFM = RFM.assign(R = r_groups.values, F = f_groups.values)\n",
        "\n",
        "# Create labels for MonetaryValue\n",
        "m_labels = range(1, 5)\n",
        "\n",
        "# Assign these labels to three equal percentile groups \n",
        "m_groups = pd.qcut(RFM['monetary_value'], q=4, labels=m_labels)\n",
        "\n",
        "# Create new column M\n",
        "RFM = RFM.assign(M = m_groups.values)\n",
        "\n",
        "\n",
        "RFM = RFM[['frequency','recency','monetary_value','R','F','M']].astype('int32')\n",
        "RFM['RFM_Score']= RFM['R'] + RFM['F'] +RFM['M']\n",
        "RFM.head()\n"
      ],
      "execution_count": null,
      "outputs": [
        {
          "output_type": "execute_result",
          "data": {
            "text/html": [
              "<div>\n",
              "<style scoped>\n",
              "    .dataframe tbody tr th:only-of-type {\n",
              "        vertical-align: middle;\n",
              "    }\n",
              "\n",
              "    .dataframe tbody tr th {\n",
              "        vertical-align: top;\n",
              "    }\n",
              "\n",
              "    .dataframe thead th {\n",
              "        text-align: right;\n",
              "    }\n",
              "</style>\n",
              "<table border=\"1\" class=\"dataframe\">\n",
              "  <thead>\n",
              "    <tr style=\"text-align: right;\">\n",
              "      <th></th>\n",
              "      <th>frequency</th>\n",
              "      <th>recency</th>\n",
              "      <th>monetary_value</th>\n",
              "      <th>R</th>\n",
              "      <th>F</th>\n",
              "      <th>M</th>\n",
              "      <th>RFM_Score</th>\n",
              "    </tr>\n",
              "    <tr>\n",
              "      <th>StockCode</th>\n",
              "      <th></th>\n",
              "      <th></th>\n",
              "      <th></th>\n",
              "      <th></th>\n",
              "      <th></th>\n",
              "      <th></th>\n",
              "      <th></th>\n",
              "    </tr>\n",
              "  </thead>\n",
              "  <tbody>\n",
              "    <tr>\n",
              "      <th>10002</th>\n",
              "      <td>36</td>\n",
              "      <td>138</td>\n",
              "      <td>18</td>\n",
              "      <td>4</td>\n",
              "      <td>2</td>\n",
              "      <td>3</td>\n",
              "      <td>9</td>\n",
              "    </tr>\n",
              "    <tr>\n",
              "      <th>10080</th>\n",
              "      <td>19</td>\n",
              "      <td>267</td>\n",
              "      <td>5</td>\n",
              "      <td>3</td>\n",
              "      <td>2</td>\n",
              "      <td>1</td>\n",
              "      <td>6</td>\n",
              "    </tr>\n",
              "    <tr>\n",
              "      <th>10120</th>\n",
              "      <td>23</td>\n",
              "      <td>366</td>\n",
              "      <td>1</td>\n",
              "      <td>2</td>\n",
              "      <td>2</td>\n",
              "      <td>1</td>\n",
              "      <td>5</td>\n",
              "    </tr>\n",
              "    <tr>\n",
              "      <th>10125</th>\n",
              "      <td>46</td>\n",
              "      <td>373</td>\n",
              "      <td>20</td>\n",
              "      <td>1</td>\n",
              "      <td>3</td>\n",
              "      <td>3</td>\n",
              "      <td>7</td>\n",
              "    </tr>\n",
              "    <tr>\n",
              "      <th>10133</th>\n",
              "      <td>77</td>\n",
              "      <td>280</td>\n",
              "      <td>14</td>\n",
              "      <td>3</td>\n",
              "      <td>3</td>\n",
              "      <td>2</td>\n",
              "      <td>8</td>\n",
              "    </tr>\n",
              "  </tbody>\n",
              "</table>\n",
              "</div>"
            ],
            "text/plain": [
              "           frequency  recency  monetary_value  R  F  M  RFM_Score\n",
              "StockCode                                                        \n",
              "10002             36      138              18  4  2  3          9\n",
              "10080             19      267               5  3  2  1          6\n",
              "10120             23      366               1  2  2  1          5\n",
              "10125             46      373              20  1  3  3          7\n",
              "10133             77      280              14  3  3  2          8"
            ]
          },
          "metadata": {
            "tags": []
          },
          "execution_count": 12
        }
      ]
    },
    {
      "cell_type": "code",
      "metadata": {
        "id": "0zleLToV0oxS"
      },
      "source": [
        ""
      ],
      "execution_count": null,
      "outputs": []
    },
    {
      "cell_type": "code",
      "metadata": {
        "id": "9aRHmE13nwb8"
      },
      "source": [
        "#RFM.to_csv('RFM of StockCode.csv')\n",
        "#from google.colab import files\n",
        "#files.download('RFM of StockCode.csv')"
      ],
      "execution_count": null,
      "outputs": []
    },
    {
      "cell_type": "code",
      "metadata": {
        "colab": {
          "base_uri": "https://localhost:8080/",
          "height": 285
        },
        "id": "9wJlXlHXJTKd",
        "outputId": "a5e60105-3084-4ce6-dddf-b5ed32fc013a"
      },
      "source": [
        "df = pd.merge(RFM,Data,on=\"StockCode\")\n",
        "df.head()"
      ],
      "execution_count": null,
      "outputs": [
        {
          "output_type": "execute_result",
          "data": {
            "text/html": [
              "<div>\n",
              "<style scoped>\n",
              "    .dataframe tbody tr th:only-of-type {\n",
              "        vertical-align: middle;\n",
              "    }\n",
              "\n",
              "    .dataframe tbody tr th {\n",
              "        vertical-align: top;\n",
              "    }\n",
              "\n",
              "    .dataframe thead th {\n",
              "        text-align: right;\n",
              "    }\n",
              "</style>\n",
              "<table border=\"1\" class=\"dataframe\">\n",
              "  <thead>\n",
              "    <tr style=\"text-align: right;\">\n",
              "      <th></th>\n",
              "      <th>StockCode</th>\n",
              "      <th>frequency</th>\n",
              "      <th>recency</th>\n",
              "      <th>monetary_value</th>\n",
              "      <th>R</th>\n",
              "      <th>F</th>\n",
              "      <th>M</th>\n",
              "      <th>RFM_Score</th>\n",
              "      <th>InvoiceNo</th>\n",
              "      <th>Description</th>\n",
              "      <th>Quantity</th>\n",
              "      <th>InvoiceDate</th>\n",
              "      <th>UnitPrice</th>\n",
              "      <th>CustomerID</th>\n",
              "      <th>Country</th>\n",
              "      <th>Sales</th>\n",
              "    </tr>\n",
              "  </thead>\n",
              "  <tbody>\n",
              "    <tr>\n",
              "      <th>0</th>\n",
              "      <td>10002</td>\n",
              "      <td>36</td>\n",
              "      <td>138</td>\n",
              "      <td>18</td>\n",
              "      <td>4</td>\n",
              "      <td>2</td>\n",
              "      <td>3</td>\n",
              "      <td>9</td>\n",
              "      <td>550452</td>\n",
              "      <td>INFLATABLE POLITICAL GLOBE</td>\n",
              "      <td>1</td>\n",
              "      <td>2011-04-18 12:56:00</td>\n",
              "      <td>0.85</td>\n",
              "      <td>14525</td>\n",
              "      <td>United Kingdom</td>\n",
              "      <td>0.85</td>\n",
              "    </tr>\n",
              "    <tr>\n",
              "      <th>1</th>\n",
              "      <td>10002</td>\n",
              "      <td>36</td>\n",
              "      <td>138</td>\n",
              "      <td>18</td>\n",
              "      <td>4</td>\n",
              "      <td>2</td>\n",
              "      <td>3</td>\n",
              "      <td>9</td>\n",
              "      <td>550272</td>\n",
              "      <td>INFLATABLE POLITICAL GLOBE</td>\n",
              "      <td>62</td>\n",
              "      <td>2011-04-15 12:14:00</td>\n",
              "      <td>0.85</td>\n",
              "      <td>18079</td>\n",
              "      <td>United Kingdom</td>\n",
              "      <td>52.70</td>\n",
              "    </tr>\n",
              "    <tr>\n",
              "      <th>2</th>\n",
              "      <td>10002</td>\n",
              "      <td>36</td>\n",
              "      <td>138</td>\n",
              "      <td>18</td>\n",
              "      <td>4</td>\n",
              "      <td>2</td>\n",
              "      <td>3</td>\n",
              "      <td>9</td>\n",
              "      <td>548714</td>\n",
              "      <td>INFLATABLE POLITICAL GLOBE</td>\n",
              "      <td>2</td>\n",
              "      <td>2011-04-03 15:07:00</td>\n",
              "      <td>0.85</td>\n",
              "      <td>17337</td>\n",
              "      <td>United Kingdom</td>\n",
              "      <td>1.70</td>\n",
              "    </tr>\n",
              "    <tr>\n",
              "      <th>3</th>\n",
              "      <td>10002</td>\n",
              "      <td>36</td>\n",
              "      <td>138</td>\n",
              "      <td>18</td>\n",
              "      <td>4</td>\n",
              "      <td>2</td>\n",
              "      <td>3</td>\n",
              "      <td>9</td>\n",
              "      <td>548702</td>\n",
              "      <td>INFLATABLE POLITICAL GLOBE</td>\n",
              "      <td>4</td>\n",
              "      <td>2011-04-03 11:36:00</td>\n",
              "      <td>0.85</td>\n",
              "      <td>17085</td>\n",
              "      <td>United Kingdom</td>\n",
              "      <td>3.40</td>\n",
              "    </tr>\n",
              "    <tr>\n",
              "      <th>4</th>\n",
              "      <td>10002</td>\n",
              "      <td>36</td>\n",
              "      <td>138</td>\n",
              "      <td>18</td>\n",
              "      <td>4</td>\n",
              "      <td>2</td>\n",
              "      <td>3</td>\n",
              "      <td>9</td>\n",
              "      <td>548606</td>\n",
              "      <td>INFLATABLE POLITICAL GLOBE</td>\n",
              "      <td>120</td>\n",
              "      <td>2011-04-01 11:10:00</td>\n",
              "      <td>0.85</td>\n",
              "      <td>12731</td>\n",
              "      <td>France</td>\n",
              "      <td>102.00</td>\n",
              "    </tr>\n",
              "  </tbody>\n",
              "</table>\n",
              "</div>"
            ],
            "text/plain": [
              "  StockCode  frequency  recency  ...  CustomerID         Country   Sales\n",
              "0     10002         36      138  ...       14525  United Kingdom    0.85\n",
              "1     10002         36      138  ...       18079  United Kingdom   52.70\n",
              "2     10002         36      138  ...       17337  United Kingdom    1.70\n",
              "3     10002         36      138  ...       17085  United Kingdom    3.40\n",
              "4     10002         36      138  ...       12731          France  102.00\n",
              "\n",
              "[5 rows x 16 columns]"
            ]
          },
          "metadata": {
            "tags": []
          },
          "execution_count": 14
        }
      ]
    },
    {
      "cell_type": "code",
      "metadata": {
        "colab": {
          "base_uri": "https://localhost:8080/",
          "height": 497
        },
        "id": "MIsluEnnJlXM",
        "outputId": "6f26d6e2-40a9-475b-c9ba-3a57838241dd"
      },
      "source": [
        "feature_df = df.pivot_table(index='Description',columns='CustomerID',values='RFM_Score').fillna(0)\n",
        "feature_df.head()"
      ],
      "execution_count": null,
      "outputs": [
        {
          "output_type": "execute_result",
          "data": {
            "text/html": [
              "<div>\n",
              "<style scoped>\n",
              "    .dataframe tbody tr th:only-of-type {\n",
              "        vertical-align: middle;\n",
              "    }\n",
              "\n",
              "    .dataframe tbody tr th {\n",
              "        vertical-align: top;\n",
              "    }\n",
              "\n",
              "    .dataframe thead th {\n",
              "        text-align: right;\n",
              "    }\n",
              "</style>\n",
              "<table border=\"1\" class=\"dataframe\">\n",
              "  <thead>\n",
              "    <tr style=\"text-align: right;\">\n",
              "      <th>CustomerID</th>\n",
              "      <th>12346</th>\n",
              "      <th>12347</th>\n",
              "      <th>12348</th>\n",
              "      <th>12349</th>\n",
              "      <th>12350</th>\n",
              "      <th>12352</th>\n",
              "      <th>12353</th>\n",
              "      <th>12354</th>\n",
              "      <th>12355</th>\n",
              "      <th>12356</th>\n",
              "      <th>12357</th>\n",
              "      <th>12358</th>\n",
              "      <th>12359</th>\n",
              "      <th>12360</th>\n",
              "      <th>12361</th>\n",
              "      <th>12362</th>\n",
              "      <th>12363</th>\n",
              "      <th>12364</th>\n",
              "      <th>12365</th>\n",
              "      <th>12367</th>\n",
              "      <th>12370</th>\n",
              "      <th>12371</th>\n",
              "      <th>12372</th>\n",
              "      <th>12373</th>\n",
              "      <th>12374</th>\n",
              "      <th>12375</th>\n",
              "      <th>12377</th>\n",
              "      <th>12378</th>\n",
              "      <th>12379</th>\n",
              "      <th>12380</th>\n",
              "      <th>12381</th>\n",
              "      <th>12383</th>\n",
              "      <th>12384</th>\n",
              "      <th>12386</th>\n",
              "      <th>12388</th>\n",
              "      <th>12390</th>\n",
              "      <th>12391</th>\n",
              "      <th>12393</th>\n",
              "      <th>12394</th>\n",
              "      <th>12395</th>\n",
              "      <th>...</th>\n",
              "      <th>18230</th>\n",
              "      <th>18231</th>\n",
              "      <th>18232</th>\n",
              "      <th>18233</th>\n",
              "      <th>18235</th>\n",
              "      <th>18236</th>\n",
              "      <th>18237</th>\n",
              "      <th>18239</th>\n",
              "      <th>18240</th>\n",
              "      <th>18241</th>\n",
              "      <th>18242</th>\n",
              "      <th>18245</th>\n",
              "      <th>18246</th>\n",
              "      <th>18248</th>\n",
              "      <th>18249</th>\n",
              "      <th>18250</th>\n",
              "      <th>18251</th>\n",
              "      <th>18252</th>\n",
              "      <th>18255</th>\n",
              "      <th>18257</th>\n",
              "      <th>18259</th>\n",
              "      <th>18260</th>\n",
              "      <th>18261</th>\n",
              "      <th>18262</th>\n",
              "      <th>18263</th>\n",
              "      <th>18265</th>\n",
              "      <th>18268</th>\n",
              "      <th>18269</th>\n",
              "      <th>18270</th>\n",
              "      <th>18272</th>\n",
              "      <th>18273</th>\n",
              "      <th>18274</th>\n",
              "      <th>18276</th>\n",
              "      <th>18277</th>\n",
              "      <th>18278</th>\n",
              "      <th>18280</th>\n",
              "      <th>18281</th>\n",
              "      <th>18282</th>\n",
              "      <th>18283</th>\n",
              "      <th>18287</th>\n",
              "    </tr>\n",
              "    <tr>\n",
              "      <th>Description</th>\n",
              "      <th></th>\n",
              "      <th></th>\n",
              "      <th></th>\n",
              "      <th></th>\n",
              "      <th></th>\n",
              "      <th></th>\n",
              "      <th></th>\n",
              "      <th></th>\n",
              "      <th></th>\n",
              "      <th></th>\n",
              "      <th></th>\n",
              "      <th></th>\n",
              "      <th></th>\n",
              "      <th></th>\n",
              "      <th></th>\n",
              "      <th></th>\n",
              "      <th></th>\n",
              "      <th></th>\n",
              "      <th></th>\n",
              "      <th></th>\n",
              "      <th></th>\n",
              "      <th></th>\n",
              "      <th></th>\n",
              "      <th></th>\n",
              "      <th></th>\n",
              "      <th></th>\n",
              "      <th></th>\n",
              "      <th></th>\n",
              "      <th></th>\n",
              "      <th></th>\n",
              "      <th></th>\n",
              "      <th></th>\n",
              "      <th></th>\n",
              "      <th></th>\n",
              "      <th></th>\n",
              "      <th></th>\n",
              "      <th></th>\n",
              "      <th></th>\n",
              "      <th></th>\n",
              "      <th></th>\n",
              "      <th></th>\n",
              "      <th></th>\n",
              "      <th></th>\n",
              "      <th></th>\n",
              "      <th></th>\n",
              "      <th></th>\n",
              "      <th></th>\n",
              "      <th></th>\n",
              "      <th></th>\n",
              "      <th></th>\n",
              "      <th></th>\n",
              "      <th></th>\n",
              "      <th></th>\n",
              "      <th></th>\n",
              "      <th></th>\n",
              "      <th></th>\n",
              "      <th></th>\n",
              "      <th></th>\n",
              "      <th></th>\n",
              "      <th></th>\n",
              "      <th></th>\n",
              "      <th></th>\n",
              "      <th></th>\n",
              "      <th></th>\n",
              "      <th></th>\n",
              "      <th></th>\n",
              "      <th></th>\n",
              "      <th></th>\n",
              "      <th></th>\n",
              "      <th></th>\n",
              "      <th></th>\n",
              "      <th></th>\n",
              "      <th></th>\n",
              "      <th></th>\n",
              "      <th></th>\n",
              "      <th></th>\n",
              "      <th></th>\n",
              "      <th></th>\n",
              "      <th></th>\n",
              "      <th></th>\n",
              "      <th></th>\n",
              "    </tr>\n",
              "  </thead>\n",
              "  <tbody>\n",
              "    <tr>\n",
              "      <th>4 PURPLE FLOCK DINNER CANDLES</th>\n",
              "      <td>0.0</td>\n",
              "      <td>0.0</td>\n",
              "      <td>0.0</td>\n",
              "      <td>0.0</td>\n",
              "      <td>0.0</td>\n",
              "      <td>0.0</td>\n",
              "      <td>0.0</td>\n",
              "      <td>0.0</td>\n",
              "      <td>0.0</td>\n",
              "      <td>0.0</td>\n",
              "      <td>0.0</td>\n",
              "      <td>0.0</td>\n",
              "      <td>0.0</td>\n",
              "      <td>0.0</td>\n",
              "      <td>0.0</td>\n",
              "      <td>0.0</td>\n",
              "      <td>0.0</td>\n",
              "      <td>0.0</td>\n",
              "      <td>0.0</td>\n",
              "      <td>0.0</td>\n",
              "      <td>0.0</td>\n",
              "      <td>0.0</td>\n",
              "      <td>0.0</td>\n",
              "      <td>0.0</td>\n",
              "      <td>0.0</td>\n",
              "      <td>0.0</td>\n",
              "      <td>0.0</td>\n",
              "      <td>0.0</td>\n",
              "      <td>0.0</td>\n",
              "      <td>0.0</td>\n",
              "      <td>0.0</td>\n",
              "      <td>0.0</td>\n",
              "      <td>0.0</td>\n",
              "      <td>0.0</td>\n",
              "      <td>0.0</td>\n",
              "      <td>0.0</td>\n",
              "      <td>0.0</td>\n",
              "      <td>0.0</td>\n",
              "      <td>0.0</td>\n",
              "      <td>0.0</td>\n",
              "      <td>...</td>\n",
              "      <td>0.0</td>\n",
              "      <td>0.0</td>\n",
              "      <td>0.0</td>\n",
              "      <td>0.0</td>\n",
              "      <td>0.0</td>\n",
              "      <td>0.0</td>\n",
              "      <td>0.0</td>\n",
              "      <td>0.0</td>\n",
              "      <td>0.0</td>\n",
              "      <td>0.0</td>\n",
              "      <td>0.0</td>\n",
              "      <td>0.0</td>\n",
              "      <td>0.0</td>\n",
              "      <td>0.0</td>\n",
              "      <td>0.0</td>\n",
              "      <td>0.0</td>\n",
              "      <td>0.0</td>\n",
              "      <td>0.0</td>\n",
              "      <td>0.0</td>\n",
              "      <td>0.0</td>\n",
              "      <td>0.0</td>\n",
              "      <td>0.0</td>\n",
              "      <td>0.0</td>\n",
              "      <td>0.0</td>\n",
              "      <td>0.0</td>\n",
              "      <td>0.0</td>\n",
              "      <td>0.0</td>\n",
              "      <td>0.0</td>\n",
              "      <td>0.0</td>\n",
              "      <td>0.0</td>\n",
              "      <td>0.0</td>\n",
              "      <td>0.0</td>\n",
              "      <td>0.0</td>\n",
              "      <td>0.0</td>\n",
              "      <td>0.0</td>\n",
              "      <td>0.0</td>\n",
              "      <td>0.0</td>\n",
              "      <td>0.0</td>\n",
              "      <td>0.0</td>\n",
              "      <td>0.0</td>\n",
              "    </tr>\n",
              "    <tr>\n",
              "      <th>50'S CHRISTMAS GIFT BAG LARGE</th>\n",
              "      <td>0.0</td>\n",
              "      <td>0.0</td>\n",
              "      <td>0.0</td>\n",
              "      <td>0.0</td>\n",
              "      <td>0.0</td>\n",
              "      <td>0.0</td>\n",
              "      <td>0.0</td>\n",
              "      <td>0.0</td>\n",
              "      <td>0.0</td>\n",
              "      <td>0.0</td>\n",
              "      <td>0.0</td>\n",
              "      <td>0.0</td>\n",
              "      <td>0.0</td>\n",
              "      <td>0.0</td>\n",
              "      <td>0.0</td>\n",
              "      <td>0.0</td>\n",
              "      <td>0.0</td>\n",
              "      <td>0.0</td>\n",
              "      <td>0.0</td>\n",
              "      <td>0.0</td>\n",
              "      <td>0.0</td>\n",
              "      <td>0.0</td>\n",
              "      <td>0.0</td>\n",
              "      <td>0.0</td>\n",
              "      <td>0.0</td>\n",
              "      <td>0.0</td>\n",
              "      <td>0.0</td>\n",
              "      <td>0.0</td>\n",
              "      <td>0.0</td>\n",
              "      <td>0.0</td>\n",
              "      <td>0.0</td>\n",
              "      <td>0.0</td>\n",
              "      <td>0.0</td>\n",
              "      <td>0.0</td>\n",
              "      <td>0.0</td>\n",
              "      <td>0.0</td>\n",
              "      <td>0.0</td>\n",
              "      <td>0.0</td>\n",
              "      <td>0.0</td>\n",
              "      <td>0.0</td>\n",
              "      <td>...</td>\n",
              "      <td>0.0</td>\n",
              "      <td>0.0</td>\n",
              "      <td>0.0</td>\n",
              "      <td>0.0</td>\n",
              "      <td>0.0</td>\n",
              "      <td>0.0</td>\n",
              "      <td>0.0</td>\n",
              "      <td>0.0</td>\n",
              "      <td>0.0</td>\n",
              "      <td>0.0</td>\n",
              "      <td>0.0</td>\n",
              "      <td>0.0</td>\n",
              "      <td>0.0</td>\n",
              "      <td>0.0</td>\n",
              "      <td>0.0</td>\n",
              "      <td>0.0</td>\n",
              "      <td>0.0</td>\n",
              "      <td>0.0</td>\n",
              "      <td>0.0</td>\n",
              "      <td>0.0</td>\n",
              "      <td>0.0</td>\n",
              "      <td>0.0</td>\n",
              "      <td>0.0</td>\n",
              "      <td>0.0</td>\n",
              "      <td>0.0</td>\n",
              "      <td>0.0</td>\n",
              "      <td>0.0</td>\n",
              "      <td>0.0</td>\n",
              "      <td>0.0</td>\n",
              "      <td>0.0</td>\n",
              "      <td>0.0</td>\n",
              "      <td>0.0</td>\n",
              "      <td>0.0</td>\n",
              "      <td>0.0</td>\n",
              "      <td>0.0</td>\n",
              "      <td>0.0</td>\n",
              "      <td>0.0</td>\n",
              "      <td>0.0</td>\n",
              "      <td>0.0</td>\n",
              "      <td>0.0</td>\n",
              "    </tr>\n",
              "    <tr>\n",
              "      <th>DOLLY GIRL BEAKER</th>\n",
              "      <td>0.0</td>\n",
              "      <td>0.0</td>\n",
              "      <td>0.0</td>\n",
              "      <td>0.0</td>\n",
              "      <td>0.0</td>\n",
              "      <td>0.0</td>\n",
              "      <td>0.0</td>\n",
              "      <td>0.0</td>\n",
              "      <td>0.0</td>\n",
              "      <td>0.0</td>\n",
              "      <td>0.0</td>\n",
              "      <td>0.0</td>\n",
              "      <td>11.0</td>\n",
              "      <td>0.0</td>\n",
              "      <td>0.0</td>\n",
              "      <td>11.0</td>\n",
              "      <td>0.0</td>\n",
              "      <td>0.0</td>\n",
              "      <td>0.0</td>\n",
              "      <td>0.0</td>\n",
              "      <td>0.0</td>\n",
              "      <td>0.0</td>\n",
              "      <td>0.0</td>\n",
              "      <td>0.0</td>\n",
              "      <td>0.0</td>\n",
              "      <td>0.0</td>\n",
              "      <td>0.0</td>\n",
              "      <td>0.0</td>\n",
              "      <td>0.0</td>\n",
              "      <td>0.0</td>\n",
              "      <td>11.0</td>\n",
              "      <td>0.0</td>\n",
              "      <td>0.0</td>\n",
              "      <td>0.0</td>\n",
              "      <td>0.0</td>\n",
              "      <td>0.0</td>\n",
              "      <td>0.0</td>\n",
              "      <td>0.0</td>\n",
              "      <td>0.0</td>\n",
              "      <td>11.0</td>\n",
              "      <td>...</td>\n",
              "      <td>0.0</td>\n",
              "      <td>0.0</td>\n",
              "      <td>0.0</td>\n",
              "      <td>0.0</td>\n",
              "      <td>0.0</td>\n",
              "      <td>0.0</td>\n",
              "      <td>0.0</td>\n",
              "      <td>0.0</td>\n",
              "      <td>0.0</td>\n",
              "      <td>0.0</td>\n",
              "      <td>0.0</td>\n",
              "      <td>0.0</td>\n",
              "      <td>0.0</td>\n",
              "      <td>0.0</td>\n",
              "      <td>11.0</td>\n",
              "      <td>0.0</td>\n",
              "      <td>0.0</td>\n",
              "      <td>0.0</td>\n",
              "      <td>0.0</td>\n",
              "      <td>0.0</td>\n",
              "      <td>0.0</td>\n",
              "      <td>0.0</td>\n",
              "      <td>0.0</td>\n",
              "      <td>0.0</td>\n",
              "      <td>0.0</td>\n",
              "      <td>0.0</td>\n",
              "      <td>0.0</td>\n",
              "      <td>0.0</td>\n",
              "      <td>0.0</td>\n",
              "      <td>0.0</td>\n",
              "      <td>0.0</td>\n",
              "      <td>0.0</td>\n",
              "      <td>0.0</td>\n",
              "      <td>0.0</td>\n",
              "      <td>0.0</td>\n",
              "      <td>0.0</td>\n",
              "      <td>0.0</td>\n",
              "      <td>0.0</td>\n",
              "      <td>0.0</td>\n",
              "      <td>0.0</td>\n",
              "    </tr>\n",
              "    <tr>\n",
              "      <th>I LOVE LONDON MINI BACKPACK</th>\n",
              "      <td>0.0</td>\n",
              "      <td>0.0</td>\n",
              "      <td>0.0</td>\n",
              "      <td>0.0</td>\n",
              "      <td>0.0</td>\n",
              "      <td>0.0</td>\n",
              "      <td>0.0</td>\n",
              "      <td>0.0</td>\n",
              "      <td>0.0</td>\n",
              "      <td>0.0</td>\n",
              "      <td>0.0</td>\n",
              "      <td>0.0</td>\n",
              "      <td>11.0</td>\n",
              "      <td>0.0</td>\n",
              "      <td>0.0</td>\n",
              "      <td>11.0</td>\n",
              "      <td>0.0</td>\n",
              "      <td>0.0</td>\n",
              "      <td>0.0</td>\n",
              "      <td>0.0</td>\n",
              "      <td>0.0</td>\n",
              "      <td>0.0</td>\n",
              "      <td>0.0</td>\n",
              "      <td>0.0</td>\n",
              "      <td>0.0</td>\n",
              "      <td>0.0</td>\n",
              "      <td>0.0</td>\n",
              "      <td>0.0</td>\n",
              "      <td>0.0</td>\n",
              "      <td>0.0</td>\n",
              "      <td>0.0</td>\n",
              "      <td>0.0</td>\n",
              "      <td>0.0</td>\n",
              "      <td>0.0</td>\n",
              "      <td>0.0</td>\n",
              "      <td>0.0</td>\n",
              "      <td>0.0</td>\n",
              "      <td>11.0</td>\n",
              "      <td>0.0</td>\n",
              "      <td>0.0</td>\n",
              "      <td>...</td>\n",
              "      <td>0.0</td>\n",
              "      <td>0.0</td>\n",
              "      <td>0.0</td>\n",
              "      <td>0.0</td>\n",
              "      <td>0.0</td>\n",
              "      <td>0.0</td>\n",
              "      <td>0.0</td>\n",
              "      <td>0.0</td>\n",
              "      <td>0.0</td>\n",
              "      <td>0.0</td>\n",
              "      <td>0.0</td>\n",
              "      <td>0.0</td>\n",
              "      <td>0.0</td>\n",
              "      <td>0.0</td>\n",
              "      <td>0.0</td>\n",
              "      <td>0.0</td>\n",
              "      <td>0.0</td>\n",
              "      <td>0.0</td>\n",
              "      <td>0.0</td>\n",
              "      <td>0.0</td>\n",
              "      <td>0.0</td>\n",
              "      <td>0.0</td>\n",
              "      <td>0.0</td>\n",
              "      <td>0.0</td>\n",
              "      <td>0.0</td>\n",
              "      <td>0.0</td>\n",
              "      <td>0.0</td>\n",
              "      <td>0.0</td>\n",
              "      <td>0.0</td>\n",
              "      <td>0.0</td>\n",
              "      <td>0.0</td>\n",
              "      <td>0.0</td>\n",
              "      <td>0.0</td>\n",
              "      <td>0.0</td>\n",
              "      <td>0.0</td>\n",
              "      <td>0.0</td>\n",
              "      <td>0.0</td>\n",
              "      <td>0.0</td>\n",
              "      <td>0.0</td>\n",
              "      <td>0.0</td>\n",
              "    </tr>\n",
              "    <tr>\n",
              "      <th>I LOVE LONDON MINI RUCKSACK</th>\n",
              "      <td>0.0</td>\n",
              "      <td>0.0</td>\n",
              "      <td>0.0</td>\n",
              "      <td>0.0</td>\n",
              "      <td>0.0</td>\n",
              "      <td>0.0</td>\n",
              "      <td>0.0</td>\n",
              "      <td>0.0</td>\n",
              "      <td>0.0</td>\n",
              "      <td>0.0</td>\n",
              "      <td>0.0</td>\n",
              "      <td>0.0</td>\n",
              "      <td>0.0</td>\n",
              "      <td>0.0</td>\n",
              "      <td>0.0</td>\n",
              "      <td>0.0</td>\n",
              "      <td>0.0</td>\n",
              "      <td>0.0</td>\n",
              "      <td>0.0</td>\n",
              "      <td>0.0</td>\n",
              "      <td>0.0</td>\n",
              "      <td>0.0</td>\n",
              "      <td>0.0</td>\n",
              "      <td>0.0</td>\n",
              "      <td>0.0</td>\n",
              "      <td>0.0</td>\n",
              "      <td>0.0</td>\n",
              "      <td>0.0</td>\n",
              "      <td>0.0</td>\n",
              "      <td>0.0</td>\n",
              "      <td>0.0</td>\n",
              "      <td>0.0</td>\n",
              "      <td>0.0</td>\n",
              "      <td>0.0</td>\n",
              "      <td>0.0</td>\n",
              "      <td>0.0</td>\n",
              "      <td>0.0</td>\n",
              "      <td>0.0</td>\n",
              "      <td>0.0</td>\n",
              "      <td>0.0</td>\n",
              "      <td>...</td>\n",
              "      <td>0.0</td>\n",
              "      <td>0.0</td>\n",
              "      <td>0.0</td>\n",
              "      <td>0.0</td>\n",
              "      <td>0.0</td>\n",
              "      <td>0.0</td>\n",
              "      <td>0.0</td>\n",
              "      <td>0.0</td>\n",
              "      <td>0.0</td>\n",
              "      <td>0.0</td>\n",
              "      <td>0.0</td>\n",
              "      <td>0.0</td>\n",
              "      <td>0.0</td>\n",
              "      <td>0.0</td>\n",
              "      <td>0.0</td>\n",
              "      <td>0.0</td>\n",
              "      <td>0.0</td>\n",
              "      <td>0.0</td>\n",
              "      <td>0.0</td>\n",
              "      <td>0.0</td>\n",
              "      <td>0.0</td>\n",
              "      <td>0.0</td>\n",
              "      <td>0.0</td>\n",
              "      <td>0.0</td>\n",
              "      <td>0.0</td>\n",
              "      <td>0.0</td>\n",
              "      <td>0.0</td>\n",
              "      <td>0.0</td>\n",
              "      <td>0.0</td>\n",
              "      <td>0.0</td>\n",
              "      <td>0.0</td>\n",
              "      <td>0.0</td>\n",
              "      <td>0.0</td>\n",
              "      <td>0.0</td>\n",
              "      <td>0.0</td>\n",
              "      <td>0.0</td>\n",
              "      <td>0.0</td>\n",
              "      <td>0.0</td>\n",
              "      <td>0.0</td>\n",
              "      <td>0.0</td>\n",
              "    </tr>\n",
              "  </tbody>\n",
              "</table>\n",
              "<p>5 rows × 4338 columns</p>\n",
              "</div>"
            ],
            "text/plain": [
              "CustomerID                      12346  12347  12348  ...  18282  18283  18287\n",
              "Description                                          ...                     \n",
              " 4 PURPLE FLOCK DINNER CANDLES    0.0    0.0    0.0  ...    0.0    0.0    0.0\n",
              " 50'S CHRISTMAS GIFT BAG LARGE    0.0    0.0    0.0  ...    0.0    0.0    0.0\n",
              " DOLLY GIRL BEAKER                0.0    0.0    0.0  ...    0.0    0.0    0.0\n",
              " I LOVE LONDON MINI BACKPACK      0.0    0.0    0.0  ...    0.0    0.0    0.0\n",
              " I LOVE LONDON MINI RUCKSACK      0.0    0.0    0.0  ...    0.0    0.0    0.0\n",
              "\n",
              "[5 rows x 4338 columns]"
            ]
          },
          "metadata": {
            "tags": []
          },
          "execution_count": 15
        }
      ]
    },
    {
      "cell_type": "code",
      "metadata": {
        "colab": {
          "base_uri": "https://localhost:8080/"
        },
        "id": "X9Ve7FIeKIc9",
        "outputId": "076ab2e3-9478-471f-dcdd-65efe983febc"
      },
      "source": [
        "from scipy.sparse import csr_matrix\n",
        "\n",
        "feature_df_matrix = csr_matrix(feature_df.values)\n",
        "\n",
        "from sklearn.neighbors import NearestNeighbors\n",
        "\n",
        "\n",
        "model_knn = NearestNeighbors(metric ='cosine', algorithm = 'brute')\n",
        "model_knn.fit(feature_df_matrix)"
      ],
      "execution_count": null,
      "outputs": [
        {
          "output_type": "execute_result",
          "data": {
            "text/plain": [
              "NearestNeighbors(algorithm='brute', leaf_size=30, metric='cosine',\n",
              "                 metric_params=None, n_jobs=None, n_neighbors=5, p=2,\n",
              "                 radius=1.0)"
            ]
          },
          "metadata": {
            "tags": []
          },
          "execution_count": 16
        }
      ]
    },
    {
      "cell_type": "code",
      "metadata": {
        "colab": {
          "base_uri": "https://localhost:8080/"
        },
        "id": "5T-cHSN6KZ6w",
        "outputId": "a33a3a82-6b33-4c13-b8bb-1a8c81548bf7"
      },
      "source": [
        "feature_df.shape"
      ],
      "execution_count": null,
      "outputs": [
        {
          "output_type": "execute_result",
          "data": {
            "text/plain": [
              "(3877, 4338)"
            ]
          },
          "metadata": {
            "tags": []
          },
          "execution_count": 17
        }
      ]
    },
    {
      "cell_type": "code",
      "metadata": {
        "colab": {
          "base_uri": "https://localhost:8080/"
        },
        "id": "5VcuB66X0blD",
        "outputId": "75fd0e0a-4d8f-4dbf-a213-3aacd51e63bc"
      },
      "source": [
        "feature_df.index"
      ],
      "execution_count": null,
      "outputs": [
        {
          "output_type": "execute_result",
          "data": {
            "text/plain": [
              "Index([' 4 PURPLE FLOCK DINNER CANDLES', ' 50'S CHRISTMAS GIFT BAG LARGE',\n",
              "       ' DOLLY GIRL BEAKER', ' I LOVE LONDON MINI BACKPACK',\n",
              "       ' I LOVE LONDON MINI RUCKSACK', ' NINE DRAWER OFFICE TIDY',\n",
              "       ' OVAL WALL MIRROR DIAMANTE ', ' RED SPOT GIFT BAG LARGE',\n",
              "       ' SET 2 TEA TOWELS I LOVE LONDON ', ' SPACEBOY BABY GIFT SET',\n",
              "       ...\n",
              "       'ZINC STAR T-LIGHT HOLDER ', 'ZINC SWEETHEART SOAP DISH',\n",
              "       'ZINC SWEETHEART WIRE LETTER RACK', 'ZINC T-LIGHT HOLDER STAR LARGE',\n",
              "       'ZINC T-LIGHT HOLDER STARS LARGE', 'ZINC T-LIGHT HOLDER STARS SMALL',\n",
              "       'ZINC TOP  2 DOOR WOODEN SHELF ', 'ZINC WILLIE WINKIE  CANDLE STICK',\n",
              "       'ZINC WIRE KITCHEN ORGANISER', 'ZINC WIRE SWEETHEART LETTER TRAY'],\n",
              "      dtype='object', name='Description', length=3877)"
            ]
          },
          "metadata": {
            "tags": []
          },
          "execution_count": 32
        }
      ]
    },
    {
      "cell_type": "code",
      "metadata": {
        "colab": {
          "base_uri": "https://localhost:8080/",
          "height": 202
        },
        "id": "O1Hw39Sd0bnw",
        "outputId": "0c272046-3658-4e46-df5b-8aef751e8515"
      },
      "source": [
        "names = pd.DataFrame({\"SR.No\": range(0,feature_df.shape[0]) , \"Items\":feature_df.index})\n",
        "names.head()"
      ],
      "execution_count": null,
      "outputs": [
        {
          "output_type": "execute_result",
          "data": {
            "text/html": [
              "<div>\n",
              "<style scoped>\n",
              "    .dataframe tbody tr th:only-of-type {\n",
              "        vertical-align: middle;\n",
              "    }\n",
              "\n",
              "    .dataframe tbody tr th {\n",
              "        vertical-align: top;\n",
              "    }\n",
              "\n",
              "    .dataframe thead th {\n",
              "        text-align: right;\n",
              "    }\n",
              "</style>\n",
              "<table border=\"1\" class=\"dataframe\">\n",
              "  <thead>\n",
              "    <tr style=\"text-align: right;\">\n",
              "      <th></th>\n",
              "      <th>SR.No</th>\n",
              "      <th>Items</th>\n",
              "    </tr>\n",
              "  </thead>\n",
              "  <tbody>\n",
              "    <tr>\n",
              "      <th>0</th>\n",
              "      <td>0</td>\n",
              "      <td>4 PURPLE FLOCK DINNER CANDLES</td>\n",
              "    </tr>\n",
              "    <tr>\n",
              "      <th>1</th>\n",
              "      <td>1</td>\n",
              "      <td>50'S CHRISTMAS GIFT BAG LARGE</td>\n",
              "    </tr>\n",
              "    <tr>\n",
              "      <th>2</th>\n",
              "      <td>2</td>\n",
              "      <td>DOLLY GIRL BEAKER</td>\n",
              "    </tr>\n",
              "    <tr>\n",
              "      <th>3</th>\n",
              "      <td>3</td>\n",
              "      <td>I LOVE LONDON MINI BACKPACK</td>\n",
              "    </tr>\n",
              "    <tr>\n",
              "      <th>4</th>\n",
              "      <td>4</td>\n",
              "      <td>I LOVE LONDON MINI RUCKSACK</td>\n",
              "    </tr>\n",
              "  </tbody>\n",
              "</table>\n",
              "</div>"
            ],
            "text/plain": [
              "   SR.No                           Items\n",
              "0      0   4 PURPLE FLOCK DINNER CANDLES\n",
              "1      1   50'S CHRISTMAS GIFT BAG LARGE\n",
              "2      2               DOLLY GIRL BEAKER\n",
              "3      3     I LOVE LONDON MINI BACKPACK\n",
              "4      4     I LOVE LONDON MINI RUCKSACK"
            ]
          },
          "metadata": {
            "tags": []
          },
          "execution_count": 36
        }
      ]
    },
    {
      "cell_type": "code",
      "metadata": {
        "colab": {
          "base_uri": "https://localhost:8080/",
          "height": 48
        },
        "id": "zwZZ8VOg1vnQ",
        "outputId": "c7f3c072-0d29-41e6-ce57-7e881bb9ec5e"
      },
      "source": [
        "#names[names['Items'] == \"DOLLY GIRL BEAKER\"][\"SR.No\"]\n",
        "\n",
        "#names.loc[names[\"Items\"] == \"DOLLY GIRL BEAKER\", \"SR.No\"]\n",
        "\n",
        "names[names['Items'].isin(['DOLLY GIRL BEAKER'])]"
      ],
      "execution_count": null,
      "outputs": [
        {
          "output_type": "execute_result",
          "data": {
            "text/html": [
              "<div>\n",
              "<style scoped>\n",
              "    .dataframe tbody tr th:only-of-type {\n",
              "        vertical-align: middle;\n",
              "    }\n",
              "\n",
              "    .dataframe tbody tr th {\n",
              "        vertical-align: top;\n",
              "    }\n",
              "\n",
              "    .dataframe thead th {\n",
              "        text-align: right;\n",
              "    }\n",
              "</style>\n",
              "<table border=\"1\" class=\"dataframe\">\n",
              "  <thead>\n",
              "    <tr style=\"text-align: right;\">\n",
              "      <th></th>\n",
              "      <th>SR.No</th>\n",
              "      <th>Items</th>\n",
              "    </tr>\n",
              "  </thead>\n",
              "  <tbody>\n",
              "  </tbody>\n",
              "</table>\n",
              "</div>"
            ],
            "text/plain": [
              "Empty DataFrame\n",
              "Columns: [SR.No, Items]\n",
              "Index: []"
            ]
          },
          "metadata": {
            "tags": []
          },
          "execution_count": 62
        }
      ]
    },
    {
      "cell_type": "code",
      "metadata": {
        "colab": {
          "base_uri": "https://localhost:8080/"
        },
        "id": "VQ-RRE5rKiZk",
        "outputId": "084a9c60-9c45-478b-b05f-c07fff1a3094"
      },
      "source": [
        "query_index = np.random.choice(feature_df.shape[0])\n",
        "print(\"Randomly Selected index number is : \", query_index , \"\\nAnd the corresponding product name is :\", feature_df.index[query_index])"
      ],
      "execution_count": null,
      "outputs": [
        {
          "output_type": "stream",
          "text": [
            "Randomly Selected index number is :  2137 \n",
            "And the corresponding product name is : NECKLACE+BRACELET PINK BUTTERFLY\n"
          ],
          "name": "stdout"
        }
      ]
    },
    {
      "cell_type": "code",
      "metadata": {
        "id": "6a2E_UehtdUL",
        "colab": {
          "base_uri": "https://localhost:8080/"
        },
        "outputId": "43e6c59e-0108-47de-dc6b-acc667dfa778"
      },
      "source": [
        "\n",
        "distances, indices = model_knn.kneighbors(feature_df.iloc[query_index,:].values.reshape(1, -1), n_neighbors = 6)\n",
        " \n",
        "\n",
        "for i in range(0,len(distances.flatten())):\n",
        "   if i == 0 :\n",
        "    print(\"Recommendations for Product : \" , feature_df.index[query_index])\n",
        "   else:\n",
        "    print(i , \":\" , feature_df.index[indices.flatten()[i]] , \"with cosine distance of \" , distances.flatten()[i])"
      ],
      "execution_count": null,
      "outputs": [
        {
          "output_type": "stream",
          "text": [
            "Recommendations for Product :  NECKLACE+BRACELET PINK BUTTERFLY\n",
            "1 : WHITE ROSEBUD  PEARL EARRINGS with cosine distance of  0.6666666666666667\n",
            "2 : BAROQUE BUTTERFLY EARRINGS CRYSTAL with cosine distance of  0.6666666666666667\n",
            "3 : TINY CRYSTAL BRACELET GREEN with cosine distance of  0.6666666666666667\n",
            "4 : LETTER \"F\" BLING KEY RING with cosine distance of  0.7642977396044841\n",
            "5 : BLUE TEATIME PRINT BOWL  with cosine distance of  0.7642977396044841\n"
          ],
          "name": "stdout"
        }
      ]
    },
    {
      "cell_type": "code",
      "metadata": {
        "id": "8vJ5vPnAKrdb",
        "colab": {
          "base_uri": "https://localhost:8080/",
          "height": 220
        },
        "outputId": "4b3e61bb-4566-41a2-b822-62e3d250349e"
      },
      "source": [
        "\n",
        "distances, indices = model_knn.kneighbors(feature_df.iloc[query_index,:].values.reshape(1, -1), n_neighbors = 6)\n",
        " \n",
        "names=[]\n",
        "cosine=[]\n",
        "for i in range(0,len(distances.flatten())):\n",
        "   if i == 0 :\n",
        "    print(\"Recommendations for Product : \" , feature_df.index[query_index])\n",
        "   else:\n",
        "     names.append(feature_df.index[indices.flatten()[i]])\n",
        "     cosine.append(distances.flatten()[i])\n",
        "     recommendation = pd.DataFrame({\"Names\" : names , \"distance\" : cosine })\n",
        "     \n",
        "    #  print(i , \":\" , feature_df.index[indices.flatten()[i]] , \"with cosine distance of \" , distances.flatten()[i])\n",
        "\n",
        "recommendation=recommendation.sort_values(by='distance', ascending=False, ignore_index= True)\n",
        "recommendation"
      ],
      "execution_count": null,
      "outputs": [
        {
          "output_type": "stream",
          "text": [
            "Recommendations for Product :  NECKLACE+BRACELET PINK BUTTERFLY\n"
          ],
          "name": "stdout"
        },
        {
          "output_type": "execute_result",
          "data": {
            "text/html": [
              "<div>\n",
              "<style scoped>\n",
              "    .dataframe tbody tr th:only-of-type {\n",
              "        vertical-align: middle;\n",
              "    }\n",
              "\n",
              "    .dataframe tbody tr th {\n",
              "        vertical-align: top;\n",
              "    }\n",
              "\n",
              "    .dataframe thead th {\n",
              "        text-align: right;\n",
              "    }\n",
              "</style>\n",
              "<table border=\"1\" class=\"dataframe\">\n",
              "  <thead>\n",
              "    <tr style=\"text-align: right;\">\n",
              "      <th></th>\n",
              "      <th>Names</th>\n",
              "      <th>distance</th>\n",
              "    </tr>\n",
              "  </thead>\n",
              "  <tbody>\n",
              "    <tr>\n",
              "      <th>0</th>\n",
              "      <td>LETTER \"F\" BLING KEY RING</td>\n",
              "      <td>0.764298</td>\n",
              "    </tr>\n",
              "    <tr>\n",
              "      <th>1</th>\n",
              "      <td>BLUE TEATIME PRINT BOWL</td>\n",
              "      <td>0.764298</td>\n",
              "    </tr>\n",
              "    <tr>\n",
              "      <th>2</th>\n",
              "      <td>WHITE ROSEBUD  PEARL EARRINGS</td>\n",
              "      <td>0.666667</td>\n",
              "    </tr>\n",
              "    <tr>\n",
              "      <th>3</th>\n",
              "      <td>BAROQUE BUTTERFLY EARRINGS CRYSTAL</td>\n",
              "      <td>0.666667</td>\n",
              "    </tr>\n",
              "    <tr>\n",
              "      <th>4</th>\n",
              "      <td>TINY CRYSTAL BRACELET GREEN</td>\n",
              "      <td>0.666667</td>\n",
              "    </tr>\n",
              "  </tbody>\n",
              "</table>\n",
              "</div>"
            ],
            "text/plain": [
              "                                Names  distance\n",
              "0           LETTER \"F\" BLING KEY RING  0.764298\n",
              "1            BLUE TEATIME PRINT BOWL   0.764298\n",
              "2       WHITE ROSEBUD  PEARL EARRINGS  0.666667\n",
              "3  BAROQUE BUTTERFLY EARRINGS CRYSTAL  0.666667\n",
              "4         TINY CRYSTAL BRACELET GREEN  0.666667"
            ]
          },
          "metadata": {
            "tags": []
          },
          "execution_count": 20
        }
      ]
    },
    {
      "cell_type": "code",
      "metadata": {
        "id": "I9BSHzEew2B8",
        "colab": {
          "base_uri": "https://localhost:8080/",
          "height": 282
        },
        "outputId": "487e35f0-81f0-4669-b4b6-7908feae6af5"
      },
      "source": [
        "recommendation.plot.barh(x=\"Names\",y=\"distance\")"
      ],
      "execution_count": null,
      "outputs": [
        {
          "output_type": "execute_result",
          "data": {
            "text/plain": [
              "<matplotlib.axes._subplots.AxesSubplot at 0x7f3552ee8ed0>"
            ]
          },
          "metadata": {
            "tags": []
          },
          "execution_count": 21
        },
        {
          "output_type": "display_data",
          "data": {
            "image/png": "[encoded data removed]",
            "text/plain": [
              "<Figure size 432x288 with 1 Axes>"
            ]
          },
          "metadata": {
            "tags": [],
            "needs_background": "light"
          }
        }
      ]
    },
    {
      "cell_type": "markdown",
      "metadata": {
        "id": "kJ0FkTvwhfSi"
      },
      "source": [
        "**Note Point**\n",
        "\n",
        "This Cosine similarity score ranges from 0 to 1, with 0 being the lowest (the least similar) and 1 being the highest (the most similar)."
      ]
    },
    {
      "cell_type": "markdown",
      "metadata": {
        "id": "772Y__0jkSSc"
      },
      "source": [
        "#**Extra EDA**"
      ]
    },
    {
      "cell_type": "code",
      "metadata": {
        "colab": {
          "base_uri": "https://localhost:8080/",
          "height": 232
        },
        "id": "3WWcTfePNF1l",
        "outputId": "92e73b64-5d76-47fe-e06e-e420e491e41b"
      },
      "source": [
        "ratings = pd.DataFrame(df.groupby('Description')['RFM_Score'].mean())\n",
        "ratings.head()"
      ],
      "execution_count": null,
      "outputs": [
        {
          "output_type": "execute_result",
          "data": {
            "text/html": [
              "<div>\n",
              "<style scoped>\n",
              "    .dataframe tbody tr th:only-of-type {\n",
              "        vertical-align: middle;\n",
              "    }\n",
              "\n",
              "    .dataframe tbody tr th {\n",
              "        vertical-align: top;\n",
              "    }\n",
              "\n",
              "    .dataframe thead th {\n",
              "        text-align: right;\n",
              "    }\n",
              "</style>\n",
              "<table border=\"1\" class=\"dataframe\">\n",
              "  <thead>\n",
              "    <tr style=\"text-align: right;\">\n",
              "      <th></th>\n",
              "      <th>RFM_Score</th>\n",
              "    </tr>\n",
              "    <tr>\n",
              "      <th>Description</th>\n",
              "      <th></th>\n",
              "    </tr>\n",
              "  </thead>\n",
              "  <tbody>\n",
              "    <tr>\n",
              "      <th>4 PURPLE FLOCK DINNER CANDLES</th>\n",
              "      <td>4.0</td>\n",
              "    </tr>\n",
              "    <tr>\n",
              "      <th>50'S CHRISTMAS GIFT BAG LARGE</th>\n",
              "      <td>11.0</td>\n",
              "    </tr>\n",
              "    <tr>\n",
              "      <th>DOLLY GIRL BEAKER</th>\n",
              "      <td>11.0</td>\n",
              "    </tr>\n",
              "    <tr>\n",
              "      <th>I LOVE LONDON MINI BACKPACK</th>\n",
              "      <td>11.0</td>\n",
              "    </tr>\n",
              "    <tr>\n",
              "      <th>I LOVE LONDON MINI RUCKSACK</th>\n",
              "      <td>11.0</td>\n",
              "    </tr>\n",
              "  </tbody>\n",
              "</table>\n",
              "</div>"
            ],
            "text/plain": [
              "                                RFM_Score\n",
              "Description                              \n",
              " 4 PURPLE FLOCK DINNER CANDLES        4.0\n",
              " 50'S CHRISTMAS GIFT BAG LARGE       11.0\n",
              " DOLLY GIRL BEAKER                   11.0\n",
              " I LOVE LONDON MINI BACKPACK         11.0\n",
              " I LOVE LONDON MINI RUCKSACK         11.0"
            ]
          },
          "metadata": {
            "tags": []
          },
          "execution_count": 22
        }
      ]
    },
    {
      "cell_type": "code",
      "metadata": {
        "colab": {
          "base_uri": "https://localhost:8080/",
          "height": 232
        },
        "id": "xPsZ3EemNUKc",
        "outputId": "dcf8a811-81c9-493f-a441-ebab12907dfe"
      },
      "source": [
        "ratings['Number of ratings'] = pd.DataFrame(df.groupby('Description')['RFM_Score'].count())\n",
        "ratings.head()"
      ],
      "execution_count": null,
      "outputs": [
        {
          "output_type": "execute_result",
          "data": {
            "text/html": [
              "<div>\n",
              "<style scoped>\n",
              "    .dataframe tbody tr th:only-of-type {\n",
              "        vertical-align: middle;\n",
              "    }\n",
              "\n",
              "    .dataframe tbody tr th {\n",
              "        vertical-align: top;\n",
              "    }\n",
              "\n",
              "    .dataframe thead th {\n",
              "        text-align: right;\n",
              "    }\n",
              "</style>\n",
              "<table border=\"1\" class=\"dataframe\">\n",
              "  <thead>\n",
              "    <tr style=\"text-align: right;\">\n",
              "      <th></th>\n",
              "      <th>RFM_Score</th>\n",
              "      <th>Number of ratings</th>\n",
              "    </tr>\n",
              "    <tr>\n",
              "      <th>Description</th>\n",
              "      <th></th>\n",
              "      <th></th>\n",
              "    </tr>\n",
              "  </thead>\n",
              "  <tbody>\n",
              "    <tr>\n",
              "      <th>4 PURPLE FLOCK DINNER CANDLES</th>\n",
              "      <td>4.0</td>\n",
              "      <td>39</td>\n",
              "    </tr>\n",
              "    <tr>\n",
              "      <th>50'S CHRISTMAS GIFT BAG LARGE</th>\n",
              "      <td>11.0</td>\n",
              "      <td>109</td>\n",
              "    </tr>\n",
              "    <tr>\n",
              "      <th>DOLLY GIRL BEAKER</th>\n",
              "      <td>11.0</td>\n",
              "      <td>138</td>\n",
              "    </tr>\n",
              "    <tr>\n",
              "      <th>I LOVE LONDON MINI BACKPACK</th>\n",
              "      <td>11.0</td>\n",
              "      <td>70</td>\n",
              "    </tr>\n",
              "    <tr>\n",
              "      <th>I LOVE LONDON MINI RUCKSACK</th>\n",
              "      <td>11.0</td>\n",
              "      <td>1</td>\n",
              "    </tr>\n",
              "  </tbody>\n",
              "</table>\n",
              "</div>"
            ],
            "text/plain": [
              "                                RFM_Score  Number of ratings\n",
              "Description                                                 \n",
              " 4 PURPLE FLOCK DINNER CANDLES        4.0                 39\n",
              " 50'S CHRISTMAS GIFT BAG LARGE       11.0                109\n",
              " DOLLY GIRL BEAKER                   11.0                138\n",
              " I LOVE LONDON MINI BACKPACK         11.0                 70\n",
              " I LOVE LONDON MINI RUCKSACK         11.0                  1"
            ]
          },
          "metadata": {
            "tags": []
          },
          "execution_count": 23
        }
      ]
    },
    {
      "cell_type": "code",
      "metadata": {
        "colab": {
          "base_uri": "https://localhost:8080/",
          "height": 282
        },
        "id": "oySrzFI1Nijs",
        "outputId": "1bbe9d65-22ba-48f8-843b-4680516292bc"
      },
      "source": [
        "import matplotlib.pyplot as plt\n",
        "\n",
        "plt.figure(figsize=(10,4))\n",
        "ratings['Number of ratings'].hist(bins=70)"
      ],
      "execution_count": null,
      "outputs": [
        {
          "output_type": "execute_result",
          "data": {
            "text/plain": [
              "<matplotlib.axes._subplots.AxesSubplot at 0x7f35493798d0>"
            ]
          },
          "metadata": {
            "tags": []
          },
          "execution_count": 24
        },
        {
          "output_type": "display_data",
          "data": {
            "image/png": "[encoded data removed]",
            "text/plain": [
              "<Figure size 720x288 with 1 Axes>"
            ]
          },
          "metadata": {
            "tags": [],
            "needs_background": "light"
          }
        }
      ]
    },
    {
      "cell_type": "code",
      "metadata": {
        "colab": {
          "base_uri": "https://localhost:8080/",
          "height": 282
        },
        "id": "ZkZXdxHVN7BH",
        "outputId": "a1a789fd-e597-484a-df5a-0487596e5fa3"
      },
      "source": [
        "\n",
        "plt.figure(figsize=(10,4))\n",
        "ratings['RFM_Score'].hist()"
      ],
      "execution_count": null,
      "outputs": [
        {
          "output_type": "execute_result",
          "data": {
            "text/plain": [
              "<matplotlib.axes._subplots.AxesSubplot at 0x7f354b01d490>"
            ]
          },
          "metadata": {
            "tags": []
          },
          "execution_count": 25
        },
        {
          "output_type": "display_data",
          "data": {
            "image/png": "[encoded data removed]",
            "text/plain": [
              "<Figure size 720x288 with 1 Axes>"
            ]
          },
          "metadata": {
            "tags": [],
            "needs_background": "light"
          }
        }
      ]
    },
    {
      "cell_type": "code",
      "metadata": {
        "colab": {
          "base_uri": "https://localhost:8080/",
          "height": 458
        },
        "id": "oHTU8QB4OAdw",
        "outputId": "68f89033-a8e8-4ec5-e051-a16abf2dd99a"
      },
      "source": [
        "import seaborn as sns\n",
        "sns.jointplot(x='RFM_Score',y='Number of ratings',data=ratings,alpha=0.5,kind='scatter')"
      ],
      "execution_count": null,
      "outputs": [
        {
          "output_type": "execute_result",
          "data": {
            "text/plain": [
              "<seaborn.axisgrid.JointGrid at 0x7f354c344610>"
            ]
          },
          "metadata": {
            "tags": []
          },
          "execution_count": 26
        },
        {
          "output_type": "display_data",
          "data": {
            "image/png": "[encoded data removed]",
            "text/plain": [
              "<Figure size 432x432 with 3 Axes>"
            ]
          },
          "metadata": {
            "tags": [],
            "needs_background": "light"
          }
        }
      ]
    },
    {
      "cell_type": "markdown",
      "metadata": {
        "id": "YHSjF2yevib-"
      },
      "source": [
        "#**Recommendations Computation by Different Metrics**"
      ]
    },
    {
      "cell_type": "code",
      "metadata": {
        "id": "17q7pt8rOIbp",
        "colab": {
          "base_uri": "https://localhost:8080/"
        },
        "outputId": "95178349-328b-4ba1-9f30-b0e1699b4e7f"
      },
      "source": [
        "query_index = np.random.choice(feature_df.shape[0])\n",
        "print(\"Randomly Selected index number is : \", query_index , \"\\nAnd the corresponding product name is :\", feature_df.index[query_index])"
      ],
      "execution_count": null,
      "outputs": [
        {
          "output_type": "stream",
          "text": [
            "Randomly Selected index number is :  984 \n",
            "And the corresponding product name is : DOLLCRAFT GIRL AMELIE KIT\n"
          ],
          "name": "stdout"
        }
      ]
    },
    {
      "cell_type": "markdown",
      "metadata": {
        "id": "tvxBQqFxla3h"
      },
      "source": [
        "![Distances.png](data:image/png;base64,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)"
      ]
    },
    {
      "cell_type": "code",
      "metadata": {
        "id": "9VDhL43VqVRO",
        "colab": {
          "base_uri": "https://localhost:8080/"
        },
        "outputId": "d749be03-2b4e-40c7-ac2d-de51d30e81be"
      },
      "source": [
        "distances=['euclidean','manhattan','minkowski','cosine']\n",
        "\n",
        "for i in distances:\n",
        "  feature_df_matrix = csr_matrix(feature_df.values)\n",
        "  model_knn = NearestNeighbors(metric =str(i), algorithm = 'brute')\n",
        "  model_knn.fit(feature_df_matrix)\n",
        "\n",
        "  distances, indices = model_knn.kneighbors(feature_df.iloc[query_index,:].values.reshape(1, -1), n_neighbors = 6)\n",
        "\n",
        "  print(\"\\nCalculating Reccomendations by \" + str(i) + \" distance metric \")\n",
        " \n",
        "\n",
        "  for j in range(0,len(distances.flatten())):\n",
        "    if j == 0 :\n",
        "      print(\"\\nRecommendations for Product : \" , feature_df.index[query_index])\n",
        "    else:\n",
        "      print(j , \":\" , feature_df.index[indices.flatten()[j]] , \"with \" + str(i) + \" distance of\" , round(distances.flatten()[j],3))\n",
        "\n",
        "      "
      ],
      "execution_count": null,
      "outputs": [
        {
          "output_type": "stream",
          "text": [
            "\n",
            "Calculating Reccomendations by euclidean distance metric \n",
            "\n",
            "Recommendations for Product :  DOLLCRAFT GIRL AMELIE KIT\n",
            "1 :  I LOVE LONDON MINI RUCKSACK with euclidean distance of 29.103\n",
            "2 : SET 36 COLOURING PENCILS DOILEY with euclidean distance of 29.103\n",
            "3 : SET 12 COLOURING PENCILS DOILEY with euclidean distance of 29.12\n",
            "4 : DOLLCRAFT BOY JEAN-PAUL  with euclidean distance of 29.12\n",
            "5 : FOLDING MIRROR IVORY  with euclidean distance of 30.199\n",
            "\n",
            "Calculating Reccomendations by manhattan distance metric \n",
            "\n",
            "Recommendations for Product :  DOLLCRAFT GIRL AMELIE KIT\n",
            "1 :  I LOVE LONDON MINI RUCKSACK with manhattan distance of 77.0\n",
            "2 : SET 36 COLOURING PENCILS DOILEY with manhattan distance of 77.0\n",
            "3 : SET 12 COLOURING PENCILS DOILEY with manhattan distance of 78.0\n",
            "4 : CANNISTER VINTAGE LEAF DESIGN with manhattan distance of 88.0\n",
            "5 : DOLLCRAFT BOY JEAN-PAUL  with manhattan distance of 88.0\n",
            "\n",
            "Calculating Reccomendations by minkowski distance metric \n",
            "\n",
            "Recommendations for Product :  DOLLCRAFT GIRL AMELIE KIT\n",
            "1 :  I LOVE LONDON MINI RUCKSACK with minkowski distance of 29.103\n",
            "2 : SET 36 COLOURING PENCILS DOILEY with minkowski distance of 29.103\n",
            "3 : SET 12 COLOURING PENCILS DOILEY with minkowski distance of 29.12\n",
            "4 : DOLLCRAFT BOY JEAN-PAUL  with minkowski distance of 29.12\n",
            "5 : FOLDING MIRROR IVORY  with minkowski distance of 30.199\n",
            "\n",
            "Calculating Reccomendations by cosine distance metric \n",
            "\n",
            "Recommendations for Product :  DOLLCRAFT GIRL AMELIE KIT\n",
            "1 : DOLLCRAFT BOY JEAN-PAUL  with cosine distance of 0.388\n",
            "2 : DOLLCRAFT GIRL NICOLE with cosine distance of 0.49\n",
            "3 : SET 36 COLOURING PENCILS DOILEY with cosine distance of 0.646\n",
            "4 :  I LOVE LONDON MINI RUCKSACK with cosine distance of 0.646\n",
            "5 : SET 12 COLOURING PENCILS DOILEY with cosine distance of 0.646\n"
          ],
          "name": "stdout"
        }
      ]
    },
    {
      "cell_type": "markdown",
      "metadata": {
        "id": "wVBbWouTkM_q"
      },
      "source": [
        "# Recommendations by Correlation Matrix of items purchased"
      ]
    },
    {
      "cell_type": "code",
      "metadata": {
        "id": "NnEPp8Uot7-_"
      },
      "source": [
        "Corr_Matrix=feature_df.T.corr()"
      ],
      "execution_count": null,
      "outputs": []
    },
    {
      "cell_type": "code",
      "metadata": {
        "id": "oTGdUmGQt8Cb"
      },
      "source": [
        "def Corr_matrix_suggestions(product_name):\n",
        "  suggestions = Corr_Matrix[product_name].sort_values(ascending=False)\n",
        "\n",
        "  return suggestions\n"
      ],
      "execution_count": null,
      "outputs": []
    },
    {
      "cell_type": "code",
      "metadata": {
        "colab": {
          "base_uri": "https://localhost:8080/"
        },
        "id": "gRJiKoa4jnIk",
        "outputId": "e6828c15-5fbc-4224-a32d-aa9959018d37"
      },
      "source": [
        "Corr_matrix_suggestions('FAIRY TALE COTTAGE NIGHTLIGHT')"
      ],
      "execution_count": null,
      "outputs": [
        {
          "output_type": "execute_result",
          "data": {
            "text/plain": [
              "Description\n",
              "FAIRY TALE COTTAGE NIGHTLIGHT       1.000000\n",
              "RED TOADSTOOL LED NIGHT LIGHT       0.266292\n",
              "WOODLAND PARTY BAG + STICKER SET    0.210072\n",
              "RABBIT NIGHT LIGHT                  0.201365\n",
              "PACK OF 12 DOILEY TISSUES           0.196907\n",
              "                                      ...   \n",
              "METAL SIGN DROP YOUR PANTS         -0.018865\n",
              "CREAM HEART CARD HOLDER            -0.019529\n",
              "HOME SWEET HOME CUSHION COVER      -0.021688\n",
              "VINTAGE CREAM DOG FOOD CONTAINER   -0.022429\n",
              "LARGE WHITE HEART OF WICKER        -0.024459\n",
              "Name: FAIRY TALE COTTAGE NIGHTLIGHT, Length: 3877, dtype: float64"
            ]
          },
          "metadata": {
            "tags": []
          },
          "execution_count": 31
        }
      ]
    }
  ]
}