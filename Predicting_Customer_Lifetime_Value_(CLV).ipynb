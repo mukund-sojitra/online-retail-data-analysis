{
  "nbformat": 4,
  "nbformat_minor": 0,
  "metadata": {
    "colab": {
      "name": "Predicting Customer Lifetime Value (CLV).ipynb",
      "provenance": [],
      "collapsed_sections": []
    },
    "kernelspec": {
      "name": "python3",
      "display_name": "Python 3"
    },
    "language_info": {
      "name": "python"
    }
  },
  "cells": [
    {
      "cell_type": "markdown",
      "metadata": {
        "id": "1X8PNPvt3g1M"
      },
      "source": [
        "**Customer value or Customer Lifetime Value** (CLV) \n",
        "\n",
        "Is the total monetary value of transactions/purchases made by a customer with your business over his entire lifetime. Here the lifetime means the time period till your customer purchases with you before moving to your competitors."
      ]
    },
    {
      "cell_type": "markdown",
      "metadata": {
        "id": "J7gzg2A-3RV4"
      },
      "source": [
        "![image.png](data:image/png;base64,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)"
      ]
    },
    {
      "cell_type": "code",
      "metadata": {
        "colab": {
          "base_uri": "https://localhost:8080/"
        },
        "id": "5pZeWdMD3XvZ",
        "outputId": "42798321-0cf4-4beb-da65-0e39517839c0"
      },
      "source": [
        "from google.colab import drive\n",
        "drive.mount('/content/drive')"
      ],
      "execution_count": null,
      "outputs": [
        {
          "output_type": "stream",
          "text": [
            "Mounted at /content/drive\n"
          ],
          "name": "stdout"
        }
      ]
    },
    {
      "cell_type": "code",
      "metadata": {
        "id": "G3Ypbg0H3wff"
      },
      "source": [
        "data_path = r\"/content/drive/MyDrive/Sem 4 project/data/raw_online_retail.csv\""
      ],
      "execution_count": null,
      "outputs": []
    },
    {
      "cell_type": "code",
      "metadata": {
        "id": "G-f_toE94Eh6"
      },
      "source": [
        "# Importing necessary libraries\n",
        "import pandas as pd\n",
        "import numpy as np\n",
        "\n",
        "import matplotlib.pyplot as plt\n",
        "import seaborn as sns\n",
        "sns.set()\n",
        "\n",
        "import warnings\n",
        "warnings.filterwarnings('ignore')"
      ],
      "execution_count": null,
      "outputs": []
    },
    {
      "cell_type": "code",
      "metadata": {
        "colab": {
          "base_uri": "https://localhost:8080/",
          "height": 204
        },
        "id": "zieHcC-B75dQ",
        "outputId": "90543aca-281e-4c44-a9ae-037fe5679ae0"
      },
      "source": [
        "# Loading the data\n",
        "data = pd.read_csv(data_path,encoding=\"unicode_escape\", parse_dates=['InvoiceDate'])\n",
        "data.head()"
      ],
      "execution_count": null,
      "outputs": [
        {
          "output_type": "execute_result",
          "data": {
            "text/html": [
              "<div>\n",
              "<style scoped>\n",
              "    .dataframe tbody tr th:only-of-type {\n",
              "        vertical-align: middle;\n",
              "    }\n",
              "\n",
              "    .dataframe tbody tr th {\n",
              "        vertical-align: top;\n",
              "    }\n",
              "\n",
              "    .dataframe thead th {\n",
              "        text-align: right;\n",
              "    }\n",
              "</style>\n",
              "<table border=\"1\" class=\"dataframe\">\n",
              "  <thead>\n",
              "    <tr style=\"text-align: right;\">\n",
              "      <th></th>\n",
              "      <th>InvoiceNo</th>\n",
              "      <th>StockCode</th>\n",
              "      <th>Description</th>\n",
              "      <th>Quantity</th>\n",
              "      <th>InvoiceDate</th>\n",
              "      <th>UnitPrice</th>\n",
              "      <th>CustomerID</th>\n",
              "      <th>Country</th>\n",
              "    </tr>\n",
              "  </thead>\n",
              "  <tbody>\n",
              "    <tr>\n",
              "      <th>0</th>\n",
              "      <td>536365</td>\n",
              "      <td>85123A</td>\n",
              "      <td>WHITE HANGING HEART T-LIGHT HOLDER</td>\n",
              "      <td>6</td>\n",
              "      <td>2010-01-12 08:26:00</td>\n",
              "      <td>2.55</td>\n",
              "      <td>17850.0</td>\n",
              "      <td>United Kingdom</td>\n",
              "    </tr>\n",
              "    <tr>\n",
              "      <th>1</th>\n",
              "      <td>536365</td>\n",
              "      <td>71053</td>\n",
              "      <td>WHITE METAL LANTERN</td>\n",
              "      <td>6</td>\n",
              "      <td>2010-01-12 08:26:00</td>\n",
              "      <td>3.39</td>\n",
              "      <td>17850.0</td>\n",
              "      <td>United Kingdom</td>\n",
              "    </tr>\n",
              "    <tr>\n",
              "      <th>2</th>\n",
              "      <td>536365</td>\n",
              "      <td>84406B</td>\n",
              "      <td>CREAM CUPID HEARTS COAT HANGER</td>\n",
              "      <td>8</td>\n",
              "      <td>2010-01-12 08:26:00</td>\n",
              "      <td>2.75</td>\n",
              "      <td>17850.0</td>\n",
              "      <td>United Kingdom</td>\n",
              "    </tr>\n",
              "    <tr>\n",
              "      <th>3</th>\n",
              "      <td>536365</td>\n",
              "      <td>84029G</td>\n",
              "      <td>KNITTED UNION FLAG HOT WATER BOTTLE</td>\n",
              "      <td>6</td>\n",
              "      <td>2010-01-12 08:26:00</td>\n",
              "      <td>3.39</td>\n",
              "      <td>17850.0</td>\n",
              "      <td>United Kingdom</td>\n",
              "    </tr>\n",
              "    <tr>\n",
              "      <th>4</th>\n",
              "      <td>536365</td>\n",
              "      <td>84029E</td>\n",
              "      <td>RED WOOLLY HOTTIE WHITE HEART.</td>\n",
              "      <td>6</td>\n",
              "      <td>2010-01-12 08:26:00</td>\n",
              "      <td>3.39</td>\n",
              "      <td>17850.0</td>\n",
              "      <td>United Kingdom</td>\n",
              "    </tr>\n",
              "  </tbody>\n",
              "</table>\n",
              "</div>"
            ],
            "text/plain": [
              "  InvoiceNo StockCode  ... CustomerID         Country\n",
              "0    536365    85123A  ...    17850.0  United Kingdom\n",
              "1    536365     71053  ...    17850.0  United Kingdom\n",
              "2    536365    84406B  ...    17850.0  United Kingdom\n",
              "3    536365    84029G  ...    17850.0  United Kingdom\n",
              "4    536365    84029E  ...    17850.0  United Kingdom\n",
              "\n",
              "[5 rows x 8 columns]"
            ]
          },
          "metadata": {
            "tags": []
          },
          "execution_count": 88
        }
      ]
    },
    {
      "cell_type": "markdown",
      "metadata": {
        "id": "Vf323qUJ8aPT"
      },
      "source": [
        "For our Lifetime value calculation, we don't need all the features in this data set. \n",
        "\n",
        "We need only the \n",
        "**CustomerID, InvoiceDate, Quantity and Total Sales (Quantity * UnitPrice).**\n",
        "So, we keep only these features and drop all the others."
      ]
    },
    {
      "cell_type": "code",
      "metadata": {
        "colab": {
          "base_uri": "https://localhost:8080/",
          "height": 221
        },
        "id": "Gfqm0At08Dzk",
        "outputId": "e1c68ed3-db30-4b11-e9e6-5d7b5a47ee7d"
      },
      "source": [
        "# Feature selection\n",
        "features = ['CustomerID', 'InvoiceNo', 'InvoiceDate', 'Quantity', 'UnitPrice']\n",
        "data_clv = data[features]\n",
        "data_clv['TotalSales'] = data_clv['Quantity'].multiply(data_clv['UnitPrice'])\n",
        "print(data_clv.shape)\n",
        "data_clv.head()"
      ],
      "execution_count": null,
      "outputs": [
        {
          "output_type": "stream",
          "text": [
            "(541909, 6)\n"
          ],
          "name": "stdout"
        },
        {
          "output_type": "execute_result",
          "data": {
            "text/html": [
              "<div>\n",
              "<style scoped>\n",
              "    .dataframe tbody tr th:only-of-type {\n",
              "        vertical-align: middle;\n",
              "    }\n",
              "\n",
              "    .dataframe tbody tr th {\n",
              "        vertical-align: top;\n",
              "    }\n",
              "\n",
              "    .dataframe thead th {\n",
              "        text-align: right;\n",
              "    }\n",
              "</style>\n",
              "<table border=\"1\" class=\"dataframe\">\n",
              "  <thead>\n",
              "    <tr style=\"text-align: right;\">\n",
              "      <th></th>\n",
              "      <th>CustomerID</th>\n",
              "      <th>InvoiceNo</th>\n",
              "      <th>InvoiceDate</th>\n",
              "      <th>Quantity</th>\n",
              "      <th>UnitPrice</th>\n",
              "      <th>TotalSales</th>\n",
              "    </tr>\n",
              "  </thead>\n",
              "  <tbody>\n",
              "    <tr>\n",
              "      <th>0</th>\n",
              "      <td>17850.0</td>\n",
              "      <td>536365</td>\n",
              "      <td>2010-01-12 08:26:00</td>\n",
              "      <td>6</td>\n",
              "      <td>2.55</td>\n",
              "      <td>15.30</td>\n",
              "    </tr>\n",
              "    <tr>\n",
              "      <th>1</th>\n",
              "      <td>17850.0</td>\n",
              "      <td>536365</td>\n",
              "      <td>2010-01-12 08:26:00</td>\n",
              "      <td>6</td>\n",
              "      <td>3.39</td>\n",
              "      <td>20.34</td>\n",
              "    </tr>\n",
              "    <tr>\n",
              "      <th>2</th>\n",
              "      <td>17850.0</td>\n",
              "      <td>536365</td>\n",
              "      <td>2010-01-12 08:26:00</td>\n",
              "      <td>8</td>\n",
              "      <td>2.75</td>\n",
              "      <td>22.00</td>\n",
              "    </tr>\n",
              "    <tr>\n",
              "      <th>3</th>\n",
              "      <td>17850.0</td>\n",
              "      <td>536365</td>\n",
              "      <td>2010-01-12 08:26:00</td>\n",
              "      <td>6</td>\n",
              "      <td>3.39</td>\n",
              "      <td>20.34</td>\n",
              "    </tr>\n",
              "    <tr>\n",
              "      <th>4</th>\n",
              "      <td>17850.0</td>\n",
              "      <td>536365</td>\n",
              "      <td>2010-01-12 08:26:00</td>\n",
              "      <td>6</td>\n",
              "      <td>3.39</td>\n",
              "      <td>20.34</td>\n",
              "    </tr>\n",
              "  </tbody>\n",
              "</table>\n",
              "</div>"
            ],
            "text/plain": [
              "   CustomerID InvoiceNo         InvoiceDate  Quantity  UnitPrice  TotalSales\n",
              "0     17850.0    536365 2010-01-12 08:26:00         6       2.55       15.30\n",
              "1     17850.0    536365 2010-01-12 08:26:00         6       3.39       20.34\n",
              "2     17850.0    536365 2010-01-12 08:26:00         8       2.75       22.00\n",
              "3     17850.0    536365 2010-01-12 08:26:00         6       3.39       20.34\n",
              "4     17850.0    536365 2010-01-12 08:26:00         6       3.39       20.34"
            ]
          },
          "metadata": {
            "tags": []
          },
          "execution_count": 89
        }
      ]
    },
    {
      "cell_type": "code",
      "metadata": {
        "colab": {
          "base_uri": "https://localhost:8080/",
          "height": 173
        },
        "id": "NjqqMmBt8mHE",
        "outputId": "92dc0998-3be0-4d5e-ba1c-0957e14061ff"
      },
      "source": [
        "data_clv.describe().T"
      ],
      "execution_count": null,
      "outputs": [
        {
          "output_type": "execute_result",
          "data": {
            "text/html": [
              "<div>\n",
              "<style scoped>\n",
              "    .dataframe tbody tr th:only-of-type {\n",
              "        vertical-align: middle;\n",
              "    }\n",
              "\n",
              "    .dataframe tbody tr th {\n",
              "        vertical-align: top;\n",
              "    }\n",
              "\n",
              "    .dataframe thead th {\n",
              "        text-align: right;\n",
              "    }\n",
              "</style>\n",
              "<table border=\"1\" class=\"dataframe\">\n",
              "  <thead>\n",
              "    <tr style=\"text-align: right;\">\n",
              "      <th></th>\n",
              "      <th>count</th>\n",
              "      <th>mean</th>\n",
              "      <th>std</th>\n",
              "      <th>min</th>\n",
              "      <th>25%</th>\n",
              "      <th>50%</th>\n",
              "      <th>75%</th>\n",
              "      <th>max</th>\n",
              "    </tr>\n",
              "  </thead>\n",
              "  <tbody>\n",
              "    <tr>\n",
              "      <th>CustomerID</th>\n",
              "      <td>406829.0</td>\n",
              "      <td>15287.690570</td>\n",
              "      <td>1713.600303</td>\n",
              "      <td>12346.00</td>\n",
              "      <td>13953.00</td>\n",
              "      <td>15152.00</td>\n",
              "      <td>16791.00</td>\n",
              "      <td>18287.0</td>\n",
              "    </tr>\n",
              "    <tr>\n",
              "      <th>Quantity</th>\n",
              "      <td>541909.0</td>\n",
              "      <td>9.552250</td>\n",
              "      <td>218.081158</td>\n",
              "      <td>-80995.00</td>\n",
              "      <td>1.00</td>\n",
              "      <td>3.00</td>\n",
              "      <td>10.00</td>\n",
              "      <td>80995.0</td>\n",
              "    </tr>\n",
              "    <tr>\n",
              "      <th>UnitPrice</th>\n",
              "      <td>541909.0</td>\n",
              "      <td>4.611114</td>\n",
              "      <td>96.759853</td>\n",
              "      <td>-11062.06</td>\n",
              "      <td>1.25</td>\n",
              "      <td>2.08</td>\n",
              "      <td>4.13</td>\n",
              "      <td>38970.0</td>\n",
              "    </tr>\n",
              "    <tr>\n",
              "      <th>TotalSales</th>\n",
              "      <td>541909.0</td>\n",
              "      <td>17.987795</td>\n",
              "      <td>378.810824</td>\n",
              "      <td>-168469.60</td>\n",
              "      <td>3.40</td>\n",
              "      <td>9.75</td>\n",
              "      <td>17.40</td>\n",
              "      <td>168469.6</td>\n",
              "    </tr>\n",
              "  </tbody>\n",
              "</table>\n",
              "</div>"
            ],
            "text/plain": [
              "               count          mean          std  ...       50%       75%       max\n",
              "CustomerID  406829.0  15287.690570  1713.600303  ...  15152.00  16791.00   18287.0\n",
              "Quantity    541909.0      9.552250   218.081158  ...      3.00     10.00   80995.0\n",
              "UnitPrice   541909.0      4.611114    96.759853  ...      2.08      4.13   38970.0\n",
              "TotalSales  541909.0     17.987795   378.810824  ...      9.75     17.40  168469.6\n",
              "\n",
              "[4 rows x 8 columns]"
            ]
          },
          "metadata": {
            "tags": []
          },
          "execution_count": 90
        }
      ]
    },
    {
      "cell_type": "markdown",
      "metadata": {
        "id": "xU4odJR08uMx"
      },
      "source": [
        "There are some negative values in the Quantity variable and this is mainly because of returns and that causes the negative values in UnitPrice and TotalSales variable as well. Also, there are some other factors such as discount etc., are also contributing to the negative value in price.\n",
        "\n",
        "In our Customer Lifetime Value calculation, we are interested only in the total value a customer can generate to the business over his/her lifetime, we can simply drop negative values in Quantity & UnitPrice and work with only positive values."
      ]
    },
    {
      "cell_type": "code",
      "metadata": {
        "colab": {
          "base_uri": "https://localhost:8080/",
          "height": 173
        },
        "id": "BuDqU7gg8p4C",
        "outputId": "bdc1e991-f156-40d0-f5f3-54dbe4366907"
      },
      "source": [
        "data_clv = data_clv[data_clv['TotalSales'] > 0]\n",
        "data_clv.describe().T"
      ],
      "execution_count": null,
      "outputs": [
        {
          "output_type": "execute_result",
          "data": {
            "text/html": [
              "<div>\n",
              "<style scoped>\n",
              "    .dataframe tbody tr th:only-of-type {\n",
              "        vertical-align: middle;\n",
              "    }\n",
              "\n",
              "    .dataframe tbody tr th {\n",
              "        vertical-align: top;\n",
              "    }\n",
              "\n",
              "    .dataframe thead th {\n",
              "        text-align: right;\n",
              "    }\n",
              "</style>\n",
              "<table border=\"1\" class=\"dataframe\">\n",
              "  <thead>\n",
              "    <tr style=\"text-align: right;\">\n",
              "      <th></th>\n",
              "      <th>count</th>\n",
              "      <th>mean</th>\n",
              "      <th>std</th>\n",
              "      <th>min</th>\n",
              "      <th>25%</th>\n",
              "      <th>50%</th>\n",
              "      <th>75%</th>\n",
              "      <th>max</th>\n",
              "    </tr>\n",
              "  </thead>\n",
              "  <tbody>\n",
              "    <tr>\n",
              "      <th>CustomerID</th>\n",
              "      <td>397884.0</td>\n",
              "      <td>15294.423453</td>\n",
              "      <td>1713.141560</td>\n",
              "      <td>12346.000</td>\n",
              "      <td>13969.00</td>\n",
              "      <td>15159.00</td>\n",
              "      <td>16795.00</td>\n",
              "      <td>18287.00</td>\n",
              "    </tr>\n",
              "    <tr>\n",
              "      <th>Quantity</th>\n",
              "      <td>530104.0</td>\n",
              "      <td>10.542037</td>\n",
              "      <td>155.524124</td>\n",
              "      <td>1.000</td>\n",
              "      <td>1.00</td>\n",
              "      <td>3.00</td>\n",
              "      <td>10.00</td>\n",
              "      <td>80995.00</td>\n",
              "    </tr>\n",
              "    <tr>\n",
              "      <th>UnitPrice</th>\n",
              "      <td>530104.0</td>\n",
              "      <td>3.907625</td>\n",
              "      <td>35.915681</td>\n",
              "      <td>0.001</td>\n",
              "      <td>1.25</td>\n",
              "      <td>2.08</td>\n",
              "      <td>4.13</td>\n",
              "      <td>13541.33</td>\n",
              "    </tr>\n",
              "    <tr>\n",
              "      <th>TotalSales</th>\n",
              "      <td>530104.0</td>\n",
              "      <td>20.121871</td>\n",
              "      <td>270.356743</td>\n",
              "      <td>0.001</td>\n",
              "      <td>3.75</td>\n",
              "      <td>9.90</td>\n",
              "      <td>17.70</td>\n",
              "      <td>168469.60</td>\n",
              "    </tr>\n",
              "  </tbody>\n",
              "</table>\n",
              "</div>"
            ],
            "text/plain": [
              "               count          mean          std  ...       50%       75%        max\n",
              "CustomerID  397884.0  15294.423453  1713.141560  ...  15159.00  16795.00   18287.00\n",
              "Quantity    530104.0     10.542037   155.524124  ...      3.00     10.00   80995.00\n",
              "UnitPrice   530104.0      3.907625    35.915681  ...      2.08      4.13   13541.33\n",
              "TotalSales  530104.0     20.121871   270.356743  ...      9.90     17.70  168469.60\n",
              "\n",
              "[4 rows x 8 columns]"
            ]
          },
          "metadata": {
            "tags": []
          },
          "execution_count": 91
        }
      ]
    },
    {
      "cell_type": "markdown",
      "metadata": {
        "id": "esae4N3N85LY"
      },
      "source": [
        "Let's check for missing values in the data and more importantly check for any missing values in the CustomerID variable."
      ]
    },
    {
      "cell_type": "code",
      "metadata": {
        "colab": {
          "base_uri": "https://localhost:8080/",
          "height": 235
        },
        "id": "G57FWP6M8zIT",
        "outputId": "25ae01a1-10e2-4693-923c-b72a77191717"
      },
      "source": [
        "pd.DataFrame(zip(data_clv.isnull().sum(), data_clv.isnull().sum()/len(data_clv)), columns=['Count', 'Proportion'], index=data_clv.columns)"
      ],
      "execution_count": null,
      "outputs": [
        {
          "output_type": "execute_result",
          "data": {
            "text/html": [
              "<div>\n",
              "<style scoped>\n",
              "    .dataframe tbody tr th:only-of-type {\n",
              "        vertical-align: middle;\n",
              "    }\n",
              "\n",
              "    .dataframe tbody tr th {\n",
              "        vertical-align: top;\n",
              "    }\n",
              "\n",
              "    .dataframe thead th {\n",
              "        text-align: right;\n",
              "    }\n",
              "</style>\n",
              "<table border=\"1\" class=\"dataframe\">\n",
              "  <thead>\n",
              "    <tr style=\"text-align: right;\">\n",
              "      <th></th>\n",
              "      <th>Count</th>\n",
              "      <th>Proportion</th>\n",
              "    </tr>\n",
              "  </thead>\n",
              "  <tbody>\n",
              "    <tr>\n",
              "      <th>CustomerID</th>\n",
              "      <td>132220</td>\n",
              "      <td>0.249423</td>\n",
              "    </tr>\n",
              "    <tr>\n",
              "      <th>InvoiceNo</th>\n",
              "      <td>0</td>\n",
              "      <td>0.000000</td>\n",
              "    </tr>\n",
              "    <tr>\n",
              "      <th>InvoiceDate</th>\n",
              "      <td>0</td>\n",
              "      <td>0.000000</td>\n",
              "    </tr>\n",
              "    <tr>\n",
              "      <th>Quantity</th>\n",
              "      <td>0</td>\n",
              "      <td>0.000000</td>\n",
              "    </tr>\n",
              "    <tr>\n",
              "      <th>UnitPrice</th>\n",
              "      <td>0</td>\n",
              "      <td>0.000000</td>\n",
              "    </tr>\n",
              "    <tr>\n",
              "      <th>TotalSales</th>\n",
              "      <td>0</td>\n",
              "      <td>0.000000</td>\n",
              "    </tr>\n",
              "  </tbody>\n",
              "</table>\n",
              "</div>"
            ],
            "text/plain": [
              "              Count  Proportion\n",
              "CustomerID   132220    0.249423\n",
              "InvoiceNo         0    0.000000\n",
              "InvoiceDate       0    0.000000\n",
              "Quantity          0    0.000000\n",
              "UnitPrice         0    0.000000\n",
              "TotalSales        0    0.000000"
            ]
          },
          "metadata": {
            "tags": []
          },
          "execution_count": 92
        }
      ]
    },
    {
      "cell_type": "markdown",
      "metadata": {
        "id": "mhEnENM18_53"
      },
      "source": [
        "So, clearly we have around 24% missing values in the CustomerID variable.\n",
        "\n",
        "The main objective of our project is to calculate the lifetime value of each customer. Here each customer is identified by the unique CustomerID.Then How could we able to do that, if we don't have CustomerID in the first place?\n",
        "\n",
        "So, let's drop the null values in the CustomerID variable."
      ]
    },
    {
      "cell_type": "code",
      "metadata": {
        "colab": {
          "base_uri": "https://localhost:8080/",
          "height": 235
        },
        "id": "PqaDJRuo88cw",
        "outputId": "af6d8fe4-d00c-435b-ba25-3c6b1f55ab74"
      },
      "source": [
        "# Dropping the null values in the CustomerID variable\n",
        "data_clv = data_clv[pd.notnull(data_clv['CustomerID'])]\n",
        "pd.DataFrame(zip(data_clv.isnull().sum(), data_clv.isnull().sum()/len(data_clv)), columns=['Count', 'Proportion'], index=data_clv.columns)"
      ],
      "execution_count": null,
      "outputs": [
        {
          "output_type": "execute_result",
          "data": {
            "text/html": [
              "<div>\n",
              "<style scoped>\n",
              "    .dataframe tbody tr th:only-of-type {\n",
              "        vertical-align: middle;\n",
              "    }\n",
              "\n",
              "    .dataframe tbody tr th {\n",
              "        vertical-align: top;\n",
              "    }\n",
              "\n",
              "    .dataframe thead th {\n",
              "        text-align: right;\n",
              "    }\n",
              "</style>\n",
              "<table border=\"1\" class=\"dataframe\">\n",
              "  <thead>\n",
              "    <tr style=\"text-align: right;\">\n",
              "      <th></th>\n",
              "      <th>Count</th>\n",
              "      <th>Proportion</th>\n",
              "    </tr>\n",
              "  </thead>\n",
              "  <tbody>\n",
              "    <tr>\n",
              "      <th>CustomerID</th>\n",
              "      <td>0</td>\n",
              "      <td>0.0</td>\n",
              "    </tr>\n",
              "    <tr>\n",
              "      <th>InvoiceNo</th>\n",
              "      <td>0</td>\n",
              "      <td>0.0</td>\n",
              "    </tr>\n",
              "    <tr>\n",
              "      <th>InvoiceDate</th>\n",
              "      <td>0</td>\n",
              "      <td>0.0</td>\n",
              "    </tr>\n",
              "    <tr>\n",
              "      <th>Quantity</th>\n",
              "      <td>0</td>\n",
              "      <td>0.0</td>\n",
              "    </tr>\n",
              "    <tr>\n",
              "      <th>UnitPrice</th>\n",
              "      <td>0</td>\n",
              "      <td>0.0</td>\n",
              "    </tr>\n",
              "    <tr>\n",
              "      <th>TotalSales</th>\n",
              "      <td>0</td>\n",
              "      <td>0.0</td>\n",
              "    </tr>\n",
              "  </tbody>\n",
              "</table>\n",
              "</div>"
            ],
            "text/plain": [
              "             Count  Proportion\n",
              "CustomerID       0         0.0\n",
              "InvoiceNo        0         0.0\n",
              "InvoiceDate      0         0.0\n",
              "Quantity         0         0.0\n",
              "UnitPrice        0         0.0\n",
              "TotalSales       0         0.0"
            ]
          },
          "metadata": {
            "tags": []
          },
          "execution_count": 93
        }
      ]
    },
    {
      "cell_type": "markdown",
      "metadata": {
        "id": "WTcqjwaO9Jnm"
      },
      "source": [
        "Finally, all the required cleaning of the data is done. Let's take a look at the final data which we use in our project."
      ]
    },
    {
      "cell_type": "code",
      "metadata": {
        "colab": {
          "base_uri": "https://localhost:8080/"
        },
        "id": "KJsQb2Us9D_M",
        "outputId": "c06574fc-85db-4839-d30f-6e9bf42e06f2"
      },
      "source": [
        "# Printing the details of the dataset\n",
        "maxdate = data_clv['InvoiceDate'].dt.date.max()\n",
        "mindate = data_clv['InvoiceDate'].dt.date.min()\n",
        "unique_cust = data_clv['CustomerID'].nunique()\n",
        "tot_quantity = data_clv['Quantity'].sum()\n",
        "tot_sales = data_clv['TotalSales'].sum()\n",
        "\n",
        "print(f\"The Time range of transactions is: {mindate} to {maxdate}\")\n",
        "print(f\"Total number of unique customers: {unique_cust}\")\n",
        "print(f\"Total Quantity Sold: {tot_quantity}\")\n",
        "print(f\"Total Sales for the period: {tot_sales}\")"
      ],
      "execution_count": null,
      "outputs": [
        {
          "output_type": "stream",
          "text": [
            "The Time range of transactions is: 2010-01-12 to 2011-12-10\n",
            "Total number of unique customers: 4338\n",
            "Total Quantity Sold: 5167812\n",
            "Total Sales for the period: 8911407.904\n"
          ],
          "name": "stdout"
        }
      ]
    },
    {
      "cell_type": "markdown",
      "metadata": {
        "id": "rkvHoCcS9Z4n"
      },
      "source": [
        "In this example case, I am assuming the Profit margin for each transaction to be roughly 5%."
      ]
    },
    {
      "cell_type": "code",
      "metadata": {
        "colab": {
          "base_uri": "https://localhost:8080/",
          "height": 235
        },
        "id": "xbSzKSye9MLf",
        "outputId": "0162479d-bf69-4384-ae75-b16ccf4d0d82"
      },
      "source": [
        "# Transforming the data to customer level for the analysis\n",
        "customer = data_clv.groupby('CustomerID').agg({'InvoiceDate':lambda x: (x.max() - x.min()).days, \n",
        "                                                   'InvoiceNo': lambda x: len(x),\n",
        "                                                  'TotalSales': lambda x: sum(x)})\n",
        "\n",
        "customer.columns = ['Age', 'Frequency', 'TotalSales']\n",
        "customer.head()"
      ],
      "execution_count": null,
      "outputs": [
        {
          "output_type": "execute_result",
          "data": {
            "text/html": [
              "<div>\n",
              "<style scoped>\n",
              "    .dataframe tbody tr th:only-of-type {\n",
              "        vertical-align: middle;\n",
              "    }\n",
              "\n",
              "    .dataframe tbody tr th {\n",
              "        vertical-align: top;\n",
              "    }\n",
              "\n",
              "    .dataframe thead th {\n",
              "        text-align: right;\n",
              "    }\n",
              "</style>\n",
              "<table border=\"1\" class=\"dataframe\">\n",
              "  <thead>\n",
              "    <tr style=\"text-align: right;\">\n",
              "      <th></th>\n",
              "      <th>Age</th>\n",
              "      <th>Frequency</th>\n",
              "      <th>TotalSales</th>\n",
              "    </tr>\n",
              "    <tr>\n",
              "      <th>CustomerID</th>\n",
              "      <th></th>\n",
              "      <th></th>\n",
              "      <th></th>\n",
              "    </tr>\n",
              "  </thead>\n",
              "  <tbody>\n",
              "    <tr>\n",
              "      <th>12346.0</th>\n",
              "      <td>0</td>\n",
              "      <td>1</td>\n",
              "      <td>77183.60</td>\n",
              "    </tr>\n",
              "    <tr>\n",
              "      <th>12347.0</th>\n",
              "      <td>475</td>\n",
              "      <td>182</td>\n",
              "      <td>4310.00</td>\n",
              "    </tr>\n",
              "    <tr>\n",
              "      <th>12348.0</th>\n",
              "      <td>282</td>\n",
              "      <td>31</td>\n",
              "      <td>1797.24</td>\n",
              "    </tr>\n",
              "    <tr>\n",
              "      <th>12349.0</th>\n",
              "      <td>0</td>\n",
              "      <td>73</td>\n",
              "      <td>1757.55</td>\n",
              "    </tr>\n",
              "    <tr>\n",
              "      <th>12350.0</th>\n",
              "      <td>0</td>\n",
              "      <td>17</td>\n",
              "      <td>334.40</td>\n",
              "    </tr>\n",
              "  </tbody>\n",
              "</table>\n",
              "</div>"
            ],
            "text/plain": [
              "            Age  Frequency  TotalSales\n",
              "CustomerID                            \n",
              "12346.0       0          1    77183.60\n",
              "12347.0     475        182     4310.00\n",
              "12348.0     282         31     1797.24\n",
              "12349.0       0         73     1757.55\n",
              "12350.0       0         17      334.40"
            ]
          },
          "metadata": {
            "tags": []
          },
          "execution_count": 95
        }
      ]
    },
    {
      "cell_type": "code",
      "metadata": {
        "colab": {
          "base_uri": "https://localhost:8080/"
        },
        "id": "smJzjav79ceJ",
        "outputId": "387cdf0e-6513-4daa-d14f-ce9612f95d03"
      },
      "source": [
        "# Calculating the necessary variables for CLV calculation\n",
        "Average_sales = round(np.mean(customer['TotalSales']),2)\n",
        "print(f\"Average sales: ${Average_sales}\")\n",
        "\n",
        "Purchase_freq = round(np.mean(customer['Frequency']), 2)\n",
        "print(f\"Purchase Frequency: {Purchase_freq}\")\n",
        "\n",
        "Retention_rate = customer[customer['Frequency']>1].shape[0]/customer.shape[0]\n",
        "churn = round(1 - Retention_rate, 2)\n",
        "print(f\"Churn: {churn}%\")"
      ],
      "execution_count": null,
      "outputs": [
        {
          "output_type": "stream",
          "text": [
            "Average sales: $2054.27\n",
            "Purchase Frequency: 91.72\n",
            "Churn: 0.02%\n"
          ],
          "name": "stdout"
        }
      ]
    },
    {
      "cell_type": "markdown",
      "metadata": {
        "id": "l7CqujIc9sA_"
      },
      "source": [
        "![image.png](data:image/png;base64,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)"
      ]
    },
    {
      "cell_type": "code",
      "metadata": {
        "colab": {
          "base_uri": "https://localhost:8080/"
        },
        "id": "3QhPpcKS9faK",
        "outputId": "037cb449-500e-401f-fc4c-5c952b7aac8f"
      },
      "source": [
        "# Calculating the CLV\n",
        "Profit_margin = 0.05 \n",
        "\n",
        "CLV = round(((Average_sales * Purchase_freq/churn)) * Profit_margin, 2)\n",
        "print(f\"The Customer Lifetime Value (CLV) for each customer is: ${CLV}\")"
      ],
      "execution_count": null,
      "outputs": [
        {
          "output_type": "stream",
          "text": [
            "The Customer Lifetime Value (CLV) for each customer is: $471044.11\n"
          ],
          "name": "stdout"
        }
      ]
    },
    {
      "cell_type": "markdown",
      "metadata": {
        "id": "29x0c1P19yxp"
      },
      "source": [
        "From our basic model, we got a CLV value of $471K for each customer. Do you think this number makes sense? Well it doesn't for me!\n",
        "\n",
        "The reason is becasue of the very high sales value from very few customers, which actually skewed the overall number. Also, not all the customers are same right!\n",
        "\n",
        "Take a look at it for yourself:"
      ]
    },
    {
      "cell_type": "code",
      "metadata": {
        "colab": {
          "base_uri": "https://localhost:8080/"
        },
        "id": "ppK8vjQR9izu",
        "outputId": "e4b0f7ea-4856-4198-82a0-b9d6b80a076d"
      },
      "source": [
        "customer['TotalSales'].describe()"
      ],
      "execution_count": null,
      "outputs": [
        {
          "output_type": "execute_result",
          "data": {
            "text/plain": [
              "count      4338.000000\n",
              "mean       2054.266460\n",
              "std        8989.230441\n",
              "min           3.750000\n",
              "25%         307.415000\n",
              "50%         674.485000\n",
              "75%        1661.740000\n",
              "max      280206.020000\n",
              "Name: TotalSales, dtype: float64"
            ]
          },
          "metadata": {
            "tags": []
          },
          "execution_count": 98
        }
      ]
    },
    {
      "cell_type": "markdown",
      "metadata": {
        "id": "m5ANNc2m9-Yf"
      },
      "source": [
        "#Cohort Model\n",
        "Instead of simply assuming all the customers to be one group, we can try to split them into multiple groups based and calculate the CLV for each group. This model overcomes the major drawback of the simple Aggregate model which assumes the entire customers as a single group. This is called Cohort model.\n",
        "\n",
        "The main assumption of this model is that, customers within a cohort spend similarly.\n",
        "\n",
        "The most common way to group customers into cohorts is by the start date of a customer, typically by month. The best choice will depend on the customer acquisition rate, seasonality of business, and whether additional customer information can be used.\n",
        "\n",
        "In this case, I am grouping them into different cohorts by their start month. So, I will get 12 cohorts of customers (Jan-Dec)."
      ]
    },
    {
      "cell_type": "code",
      "metadata": {
        "colab": {
          "base_uri": "https://localhost:8080/",
          "height": 235
        },
        "id": "RZ4vZtmx910d",
        "outputId": "05494dad-a2b5-4a29-b702-d125dff7f7ad"
      },
      "source": [
        "# Transforming the data to customer level for the analysis\n",
        "customer = data_clv.groupby('CustomerID').agg({'InvoiceDate':lambda x: x.min().month, \n",
        "                                                   'InvoiceNo': lambda x: len(x),\n",
        "                                                  'TotalSales': lambda x: np.sum(x)})\n",
        "\n",
        "customer.columns = ['Start_Month', 'Frequency', 'TotalSales']\n",
        "customer.head()"
      ],
      "execution_count": null,
      "outputs": [
        {
          "output_type": "execute_result",
          "data": {
            "text/html": [
              "<div>\n",
              "<style scoped>\n",
              "    .dataframe tbody tr th:only-of-type {\n",
              "        vertical-align: middle;\n",
              "    }\n",
              "\n",
              "    .dataframe tbody tr th {\n",
              "        vertical-align: top;\n",
              "    }\n",
              "\n",
              "    .dataframe thead th {\n",
              "        text-align: right;\n",
              "    }\n",
              "</style>\n",
              "<table border=\"1\" class=\"dataframe\">\n",
              "  <thead>\n",
              "    <tr style=\"text-align: right;\">\n",
              "      <th></th>\n",
              "      <th>Start_Month</th>\n",
              "      <th>Frequency</th>\n",
              "      <th>TotalSales</th>\n",
              "    </tr>\n",
              "    <tr>\n",
              "      <th>CustomerID</th>\n",
              "      <th></th>\n",
              "      <th></th>\n",
              "      <th></th>\n",
              "    </tr>\n",
              "  </thead>\n",
              "  <tbody>\n",
              "    <tr>\n",
              "      <th>12346.0</th>\n",
              "      <td>1</td>\n",
              "      <td>1</td>\n",
              "      <td>77183.60</td>\n",
              "    </tr>\n",
              "    <tr>\n",
              "      <th>12347.0</th>\n",
              "      <td>7</td>\n",
              "      <td>182</td>\n",
              "      <td>4310.00</td>\n",
              "    </tr>\n",
              "    <tr>\n",
              "      <th>12348.0</th>\n",
              "      <td>12</td>\n",
              "      <td>31</td>\n",
              "      <td>1797.24</td>\n",
              "    </tr>\n",
              "    <tr>\n",
              "      <th>12349.0</th>\n",
              "      <td>11</td>\n",
              "      <td>73</td>\n",
              "      <td>1757.55</td>\n",
              "    </tr>\n",
              "    <tr>\n",
              "      <th>12350.0</th>\n",
              "      <td>2</td>\n",
              "      <td>17</td>\n",
              "      <td>334.40</td>\n",
              "    </tr>\n",
              "  </tbody>\n",
              "</table>\n",
              "</div>"
            ],
            "text/plain": [
              "            Start_Month  Frequency  TotalSales\n",
              "CustomerID                                    \n",
              "12346.0               1          1    77183.60\n",
              "12347.0               7        182     4310.00\n",
              "12348.0              12         31     1797.24\n",
              "12349.0              11         73     1757.55\n",
              "12350.0               2         17      334.40"
            ]
          },
          "metadata": {
            "tags": []
          },
          "execution_count": 99
        }
      ]
    },
    {
      "cell_type": "code",
      "metadata": {
        "id": "4U1cSRjQ-ElD"
      },
      "source": [
        "# Calculating CLV for each cohort\n",
        "months = ['Jan', 'Feb', 'March', 'Apr', 'May', 'Jun', 'Jul', 'Aug', 'Sep', 'Oct', 'Nov', 'Dec']\n",
        "Monthly_CLV = []\n",
        "\n",
        "for i in range(1, 13):\n",
        "    customer_m = customer[customer['Start_Month']==i]\n",
        "    \n",
        "    Average_sales = round(np.mean(customer_m['TotalSales']),2)\n",
        "    \n",
        "    Purchase_freq = round(np.mean(customer_m['Frequency']), 2)\n",
        "    \n",
        "    Retention_rate = customer_m[customer_m['Frequency']>1].shape[0]/customer_m.shape[0]\n",
        "    churn = round(1 - Retention_rate, 2)\n",
        "    \n",
        "    CLV = round(((Average_sales * Purchase_freq/churn)) * Profit_margin, 2)\n",
        "    \n",
        "    Monthly_CLV.append(CLV)\n"
      ],
      "execution_count": null,
      "outputs": []
    },
    {
      "cell_type": "code",
      "metadata": {
        "colab": {
          "base_uri": "https://localhost:8080/",
          "height": 421
        },
        "id": "9Xx2vbgq-HDy",
        "outputId": "6fd77977-c136-49e1-a805-73a3b498e3ef"
      },
      "source": [
        "monthly_clv = pd.DataFrame(zip(months, Monthly_CLV), columns=['Months', 'CLV'])\n",
        "monthly_clv"
      ],
      "execution_count": null,
      "outputs": [
        {
          "output_type": "execute_result",
          "data": {
            "text/html": [
              "<div>\n",
              "<style scoped>\n",
              "    .dataframe tbody tr th:only-of-type {\n",
              "        vertical-align: middle;\n",
              "    }\n",
              "\n",
              "    .dataframe tbody tr th {\n",
              "        vertical-align: top;\n",
              "    }\n",
              "\n",
              "    .dataframe thead th {\n",
              "        text-align: right;\n",
              "    }\n",
              "</style>\n",
              "<table border=\"1\" class=\"dataframe\">\n",
              "  <thead>\n",
              "    <tr style=\"text-align: right;\">\n",
              "      <th></th>\n",
              "      <th>Months</th>\n",
              "      <th>CLV</th>\n",
              "    </tr>\n",
              "  </thead>\n",
              "  <tbody>\n",
              "    <tr>\n",
              "      <th>0</th>\n",
              "      <td>Jan</td>\n",
              "      <td>1289268.96</td>\n",
              "    </tr>\n",
              "    <tr>\n",
              "      <th>1</th>\n",
              "      <td>Feb</td>\n",
              "      <td>485440.81</td>\n",
              "    </tr>\n",
              "    <tr>\n",
              "      <th>2</th>\n",
              "      <td>March</td>\n",
              "      <td>887846.81</td>\n",
              "    </tr>\n",
              "    <tr>\n",
              "      <th>3</th>\n",
              "      <td>Apr</td>\n",
              "      <td>212539.83</td>\n",
              "    </tr>\n",
              "    <tr>\n",
              "      <th>4</th>\n",
              "      <td>May</td>\n",
              "      <td>552802.34</td>\n",
              "    </tr>\n",
              "    <tr>\n",
              "      <th>5</th>\n",
              "      <td>Jun</td>\n",
              "      <td>417467.51</td>\n",
              "    </tr>\n",
              "    <tr>\n",
              "      <th>6</th>\n",
              "      <td>Jul</td>\n",
              "      <td>352450.58</td>\n",
              "    </tr>\n",
              "    <tr>\n",
              "      <th>7</th>\n",
              "      <td>Aug</td>\n",
              "      <td>367128.61</td>\n",
              "    </tr>\n",
              "    <tr>\n",
              "      <th>8</th>\n",
              "      <td>Sep</td>\n",
              "      <td>333187.87</td>\n",
              "    </tr>\n",
              "    <tr>\n",
              "      <th>9</th>\n",
              "      <td>Oct</td>\n",
              "      <td>264226.95</td>\n",
              "    </tr>\n",
              "    <tr>\n",
              "      <th>10</th>\n",
              "      <td>Nov</td>\n",
              "      <td>21492.28</td>\n",
              "    </tr>\n",
              "    <tr>\n",
              "      <th>11</th>\n",
              "      <td>Dec</td>\n",
              "      <td>2728699.21</td>\n",
              "    </tr>\n",
              "  </tbody>\n",
              "</table>\n",
              "</div>"
            ],
            "text/plain": [
              "   Months         CLV\n",
              "0     Jan  1289268.96\n",
              "1     Feb   485440.81\n",
              "2   March   887846.81\n",
              "3     Apr   212539.83\n",
              "4     May   552802.34\n",
              "5     Jun   417467.51\n",
              "6     Jul   352450.58\n",
              "7     Aug   367128.61\n",
              "8     Sep   333187.87\n",
              "9     Oct   264226.95\n",
              "10    Nov    21492.28\n",
              "11    Dec  2728699.21"
            ]
          },
          "metadata": {
            "tags": []
          },
          "execution_count": 101
        }
      ]
    },
    {
      "cell_type": "code",
      "metadata": {
        "colab": {
          "base_uri": "https://localhost:8080/",
          "height": 313
        },
        "id": "IxksEJtW9-3g",
        "outputId": "0fc124b2-3af8-4ba8-955b-5eeeaf990ead"
      },
      "source": [
        "sns.barplot(x=monthly_clv.Months, y=monthly_clv.CLV)"
      ],
      "execution_count": null,
      "outputs": [
        {
          "output_type": "execute_result",
          "data": {
            "text/plain": [
              "<matplotlib.axes._subplots.AxesSubplot at 0x7fd39594e710>"
            ]
          },
          "metadata": {
            "tags": []
          },
          "execution_count": 102
        },
        {
          "output_type": "display_data",
          "data": {
            "image/png": "[encoded data removed]",
            "text/plain": [
              "<Figure size 432x288 with 1 Axes>"
            ]
          },
          "metadata": {
            "tags": []
          }
        }
      ]
    },
    {
      "cell_type": "markdown",
      "metadata": {
        "id": "APhKWwKq-N3w"
      },
      "source": [
        "Now if you look at the result, we have 12 different CLV value for 12 months from Jan-Dec. And it is pretty clear that, customers who are acquired in different months have different CLV values attached to them. This is because, they could be acquired using different campaigns etc., so thier behaviour might be different from others.\n",
        "\n",
        "Also, if you look at the values for the month of Janaury and December, the CLV values are quite high. This could be a false value, because the data we are using is from a online retails who sell gifts to wholesalers/companies and the festivals like Christmas, Newyear falls on those months. That's why we are seeing a high CLV value for those customers who are started on the month of January and December."
      ]
    },
    {
      "cell_type": "markdown",
      "metadata": {
        "id": "pVDbYyfge7sj"
      },
      "source": [
        "#**Applying Regression Model to Predict Sales of a Customer**"
      ]
    },
    {
      "cell_type": "code",
      "metadata": {
        "colab": {
          "base_uri": "https://localhost:8080/",
          "height": 204
        },
        "id": "oDzfJ4YOPH0y",
        "outputId": "98166b61-4367-402e-dc55-2372f2db68a8"
      },
      "source": [
        "data.head()"
      ],
      "execution_count": null,
      "outputs": [
        {
          "output_type": "execute_result",
          "data": {
            "text/html": [
              "<div>\n",
              "<style scoped>\n",
              "    .dataframe tbody tr th:only-of-type {\n",
              "        vertical-align: middle;\n",
              "    }\n",
              "\n",
              "    .dataframe tbody tr th {\n",
              "        vertical-align: top;\n",
              "    }\n",
              "\n",
              "    .dataframe thead th {\n",
              "        text-align: right;\n",
              "    }\n",
              "</style>\n",
              "<table border=\"1\" class=\"dataframe\">\n",
              "  <thead>\n",
              "    <tr style=\"text-align: right;\">\n",
              "      <th></th>\n",
              "      <th>InvoiceNo</th>\n",
              "      <th>StockCode</th>\n",
              "      <th>Description</th>\n",
              "      <th>Quantity</th>\n",
              "      <th>InvoiceDate</th>\n",
              "      <th>UnitPrice</th>\n",
              "      <th>CustomerID</th>\n",
              "      <th>Country</th>\n",
              "    </tr>\n",
              "  </thead>\n",
              "  <tbody>\n",
              "    <tr>\n",
              "      <th>0</th>\n",
              "      <td>536365</td>\n",
              "      <td>85123A</td>\n",
              "      <td>WHITE HANGING HEART T-LIGHT HOLDER</td>\n",
              "      <td>6</td>\n",
              "      <td>2010-01-12 08:26:00</td>\n",
              "      <td>2.55</td>\n",
              "      <td>17850.0</td>\n",
              "      <td>United Kingdom</td>\n",
              "    </tr>\n",
              "    <tr>\n",
              "      <th>1</th>\n",
              "      <td>536365</td>\n",
              "      <td>71053</td>\n",
              "      <td>WHITE METAL LANTERN</td>\n",
              "      <td>6</td>\n",
              "      <td>2010-01-12 08:26:00</td>\n",
              "      <td>3.39</td>\n",
              "      <td>17850.0</td>\n",
              "      <td>United Kingdom</td>\n",
              "    </tr>\n",
              "    <tr>\n",
              "      <th>2</th>\n",
              "      <td>536365</td>\n",
              "      <td>84406B</td>\n",
              "      <td>CREAM CUPID HEARTS COAT HANGER</td>\n",
              "      <td>8</td>\n",
              "      <td>2010-01-12 08:26:00</td>\n",
              "      <td>2.75</td>\n",
              "      <td>17850.0</td>\n",
              "      <td>United Kingdom</td>\n",
              "    </tr>\n",
              "    <tr>\n",
              "      <th>3</th>\n",
              "      <td>536365</td>\n",
              "      <td>84029G</td>\n",
              "      <td>KNITTED UNION FLAG HOT WATER BOTTLE</td>\n",
              "      <td>6</td>\n",
              "      <td>2010-01-12 08:26:00</td>\n",
              "      <td>3.39</td>\n",
              "      <td>17850.0</td>\n",
              "      <td>United Kingdom</td>\n",
              "    </tr>\n",
              "    <tr>\n",
              "      <th>4</th>\n",
              "      <td>536365</td>\n",
              "      <td>84029E</td>\n",
              "      <td>RED WOOLLY HOTTIE WHITE HEART.</td>\n",
              "      <td>6</td>\n",
              "      <td>2010-01-12 08:26:00</td>\n",
              "      <td>3.39</td>\n",
              "      <td>17850.0</td>\n",
              "      <td>United Kingdom</td>\n",
              "    </tr>\n",
              "  </tbody>\n",
              "</table>\n",
              "</div>"
            ],
            "text/plain": [
              "  InvoiceNo StockCode  ... CustomerID         Country\n",
              "0    536365    85123A  ...    17850.0  United Kingdom\n",
              "1    536365     71053  ...    17850.0  United Kingdom\n",
              "2    536365    84406B  ...    17850.0  United Kingdom\n",
              "3    536365    84029G  ...    17850.0  United Kingdom\n",
              "4    536365    84029E  ...    17850.0  United Kingdom\n",
              "\n",
              "[5 rows x 8 columns]"
            ]
          },
          "metadata": {
            "tags": []
          },
          "execution_count": 103
        }
      ]
    },
    {
      "cell_type": "code",
      "metadata": {
        "id": "Pzmsbnyy-JUP",
        "colab": {
          "base_uri": "https://localhost:8080/",
          "height": 204
        },
        "outputId": "5fdcc251-3afb-418c-f01a-c5c7267eea7f"
      },
      "source": [
        "#Extract month and year from InvoiceDate.\n",
        "data['month_yr'] = data['InvoiceDate'].apply(lambda x: x.strftime('%b-%Y'))\n",
        "data.head()"
      ],
      "execution_count": null,
      "outputs": [
        {
          "output_type": "execute_result",
          "data": {
            "text/html": [
              "<div>\n",
              "<style scoped>\n",
              "    .dataframe tbody tr th:only-of-type {\n",
              "        vertical-align: middle;\n",
              "    }\n",
              "\n",
              "    .dataframe tbody tr th {\n",
              "        vertical-align: top;\n",
              "    }\n",
              "\n",
              "    .dataframe thead th {\n",
              "        text-align: right;\n",
              "    }\n",
              "</style>\n",
              "<table border=\"1\" class=\"dataframe\">\n",
              "  <thead>\n",
              "    <tr style=\"text-align: right;\">\n",
              "      <th></th>\n",
              "      <th>InvoiceNo</th>\n",
              "      <th>StockCode</th>\n",
              "      <th>Description</th>\n",
              "      <th>Quantity</th>\n",
              "      <th>InvoiceDate</th>\n",
              "      <th>UnitPrice</th>\n",
              "      <th>CustomerID</th>\n",
              "      <th>Country</th>\n",
              "      <th>month_yr</th>\n",
              "    </tr>\n",
              "  </thead>\n",
              "  <tbody>\n",
              "    <tr>\n",
              "      <th>0</th>\n",
              "      <td>536365</td>\n",
              "      <td>85123A</td>\n",
              "      <td>WHITE HANGING HEART T-LIGHT HOLDER</td>\n",
              "      <td>6</td>\n",
              "      <td>2010-01-12 08:26:00</td>\n",
              "      <td>2.55</td>\n",
              "      <td>17850.0</td>\n",
              "      <td>United Kingdom</td>\n",
              "      <td>Jan-2010</td>\n",
              "    </tr>\n",
              "    <tr>\n",
              "      <th>1</th>\n",
              "      <td>536365</td>\n",
              "      <td>71053</td>\n",
              "      <td>WHITE METAL LANTERN</td>\n",
              "      <td>6</td>\n",
              "      <td>2010-01-12 08:26:00</td>\n",
              "      <td>3.39</td>\n",
              "      <td>17850.0</td>\n",
              "      <td>United Kingdom</td>\n",
              "      <td>Jan-2010</td>\n",
              "    </tr>\n",
              "    <tr>\n",
              "      <th>2</th>\n",
              "      <td>536365</td>\n",
              "      <td>84406B</td>\n",
              "      <td>CREAM CUPID HEARTS COAT HANGER</td>\n",
              "      <td>8</td>\n",
              "      <td>2010-01-12 08:26:00</td>\n",
              "      <td>2.75</td>\n",
              "      <td>17850.0</td>\n",
              "      <td>United Kingdom</td>\n",
              "      <td>Jan-2010</td>\n",
              "    </tr>\n",
              "    <tr>\n",
              "      <th>3</th>\n",
              "      <td>536365</td>\n",
              "      <td>84029G</td>\n",
              "      <td>KNITTED UNION FLAG HOT WATER BOTTLE</td>\n",
              "      <td>6</td>\n",
              "      <td>2010-01-12 08:26:00</td>\n",
              "      <td>3.39</td>\n",
              "      <td>17850.0</td>\n",
              "      <td>United Kingdom</td>\n",
              "      <td>Jan-2010</td>\n",
              "    </tr>\n",
              "    <tr>\n",
              "      <th>4</th>\n",
              "      <td>536365</td>\n",
              "      <td>84029E</td>\n",
              "      <td>RED WOOLLY HOTTIE WHITE HEART.</td>\n",
              "      <td>6</td>\n",
              "      <td>2010-01-12 08:26:00</td>\n",
              "      <td>3.39</td>\n",
              "      <td>17850.0</td>\n",
              "      <td>United Kingdom</td>\n",
              "      <td>Jan-2010</td>\n",
              "    </tr>\n",
              "  </tbody>\n",
              "</table>\n",
              "</div>"
            ],
            "text/plain": [
              "  InvoiceNo StockCode  ...         Country  month_yr\n",
              "0    536365    85123A  ...  United Kingdom  Jan-2010\n",
              "1    536365     71053  ...  United Kingdom  Jan-2010\n",
              "2    536365    84406B  ...  United Kingdom  Jan-2010\n",
              "3    536365    84029G  ...  United Kingdom  Jan-2010\n",
              "4    536365    84029E  ...  United Kingdom  Jan-2010\n",
              "\n",
              "[5 rows x 9 columns]"
            ]
          },
          "metadata": {
            "tags": []
          },
          "execution_count": 104
        }
      ]
    },
    {
      "cell_type": "code",
      "metadata": {
        "colab": {
          "base_uri": "https://localhost:8080/",
          "height": 204
        },
        "id": "RG8lx0NqPZCw",
        "outputId": "93ae91fc-147a-48c4-94e8-592a8aadc3e8"
      },
      "source": [
        "data['Sales'] = data['Quantity'] * data['UnitPrice']\n",
        "data.head()"
      ],
      "execution_count": null,
      "outputs": [
        {
          "output_type": "execute_result",
          "data": {
            "text/html": [
              "<div>\n",
              "<style scoped>\n",
              "    .dataframe tbody tr th:only-of-type {\n",
              "        vertical-align: middle;\n",
              "    }\n",
              "\n",
              "    .dataframe tbody tr th {\n",
              "        vertical-align: top;\n",
              "    }\n",
              "\n",
              "    .dataframe thead th {\n",
              "        text-align: right;\n",
              "    }\n",
              "</style>\n",
              "<table border=\"1\" class=\"dataframe\">\n",
              "  <thead>\n",
              "    <tr style=\"text-align: right;\">\n",
              "      <th></th>\n",
              "      <th>InvoiceNo</th>\n",
              "      <th>StockCode</th>\n",
              "      <th>Description</th>\n",
              "      <th>Quantity</th>\n",
              "      <th>InvoiceDate</th>\n",
              "      <th>UnitPrice</th>\n",
              "      <th>CustomerID</th>\n",
              "      <th>Country</th>\n",
              "      <th>month_yr</th>\n",
              "      <th>Sales</th>\n",
              "    </tr>\n",
              "  </thead>\n",
              "  <tbody>\n",
              "    <tr>\n",
              "      <th>0</th>\n",
              "      <td>536365</td>\n",
              "      <td>85123A</td>\n",
              "      <td>WHITE HANGING HEART T-LIGHT HOLDER</td>\n",
              "      <td>6</td>\n",
              "      <td>2010-01-12 08:26:00</td>\n",
              "      <td>2.55</td>\n",
              "      <td>17850.0</td>\n",
              "      <td>United Kingdom</td>\n",
              "      <td>Jan-2010</td>\n",
              "      <td>15.30</td>\n",
              "    </tr>\n",
              "    <tr>\n",
              "      <th>1</th>\n",
              "      <td>536365</td>\n",
              "      <td>71053</td>\n",
              "      <td>WHITE METAL LANTERN</td>\n",
              "      <td>6</td>\n",
              "      <td>2010-01-12 08:26:00</td>\n",
              "      <td>3.39</td>\n",
              "      <td>17850.0</td>\n",
              "      <td>United Kingdom</td>\n",
              "      <td>Jan-2010</td>\n",
              "      <td>20.34</td>\n",
              "    </tr>\n",
              "    <tr>\n",
              "      <th>2</th>\n",
              "      <td>536365</td>\n",
              "      <td>84406B</td>\n",
              "      <td>CREAM CUPID HEARTS COAT HANGER</td>\n",
              "      <td>8</td>\n",
              "      <td>2010-01-12 08:26:00</td>\n",
              "      <td>2.75</td>\n",
              "      <td>17850.0</td>\n",
              "      <td>United Kingdom</td>\n",
              "      <td>Jan-2010</td>\n",
              "      <td>22.00</td>\n",
              "    </tr>\n",
              "    <tr>\n",
              "      <th>3</th>\n",
              "      <td>536365</td>\n",
              "      <td>84029G</td>\n",
              "      <td>KNITTED UNION FLAG HOT WATER BOTTLE</td>\n",
              "      <td>6</td>\n",
              "      <td>2010-01-12 08:26:00</td>\n",
              "      <td>3.39</td>\n",
              "      <td>17850.0</td>\n",
              "      <td>United Kingdom</td>\n",
              "      <td>Jan-2010</td>\n",
              "      <td>20.34</td>\n",
              "    </tr>\n",
              "    <tr>\n",
              "      <th>4</th>\n",
              "      <td>536365</td>\n",
              "      <td>84029E</td>\n",
              "      <td>RED WOOLLY HOTTIE WHITE HEART.</td>\n",
              "      <td>6</td>\n",
              "      <td>2010-01-12 08:26:00</td>\n",
              "      <td>3.39</td>\n",
              "      <td>17850.0</td>\n",
              "      <td>United Kingdom</td>\n",
              "      <td>Jan-2010</td>\n",
              "      <td>20.34</td>\n",
              "    </tr>\n",
              "  </tbody>\n",
              "</table>\n",
              "</div>"
            ],
            "text/plain": [
              "  InvoiceNo StockCode  ...  month_yr  Sales\n",
              "0    536365    85123A  ...  Jan-2010  15.30\n",
              "1    536365     71053  ...  Jan-2010  20.34\n",
              "2    536365    84406B  ...  Jan-2010  22.00\n",
              "3    536365    84029G  ...  Jan-2010  20.34\n",
              "4    536365    84029E  ...  Jan-2010  20.34\n",
              "\n",
              "[5 rows x 10 columns]"
            ]
          },
          "metadata": {
            "tags": []
          },
          "execution_count": 105
        }
      ]
    },
    {
      "cell_type": "code",
      "metadata": {
        "id": "v4OaTjZO-QlX",
        "colab": {
          "base_uri": "https://localhost:8080/",
          "height": 241
        },
        "outputId": "c609059f-7fc3-478e-edfb-4eb7a4224ba5"
      },
      "source": [
        "sales=data.pivot_table(index=['CustomerID'],columns=['month_yr'],values='Sales',aggfunc='sum',fill_value=0).reset_index()\n",
        "sales.head()"
      ],
      "execution_count": null,
      "outputs": [
        {
          "output_type": "execute_result",
          "data": {
            "text/html": [
              "<div>\n",
              "<style scoped>\n",
              "    .dataframe tbody tr th:only-of-type {\n",
              "        vertical-align: middle;\n",
              "    }\n",
              "\n",
              "    .dataframe tbody tr th {\n",
              "        vertical-align: top;\n",
              "    }\n",
              "\n",
              "    .dataframe thead th {\n",
              "        text-align: right;\n",
              "    }\n",
              "</style>\n",
              "<table border=\"1\" class=\"dataframe\">\n",
              "  <thead>\n",
              "    <tr style=\"text-align: right;\">\n",
              "      <th>month_yr</th>\n",
              "      <th>CustomerID</th>\n",
              "      <th>Apr-2011</th>\n",
              "      <th>Aug-2010</th>\n",
              "      <th>Aug-2011</th>\n",
              "      <th>Dec-2010</th>\n",
              "      <th>Dec-2011</th>\n",
              "      <th>Feb-2010</th>\n",
              "      <th>Feb-2011</th>\n",
              "      <th>Jan-2010</th>\n",
              "      <th>Jan-2011</th>\n",
              "      <th>Jul-2010</th>\n",
              "      <th>Jul-2011</th>\n",
              "      <th>Jun-2010</th>\n",
              "      <th>Jun-2011</th>\n",
              "      <th>Mar-2010</th>\n",
              "      <th>Mar-2011</th>\n",
              "      <th>May-2010</th>\n",
              "      <th>May-2011</th>\n",
              "      <th>Nov-2011</th>\n",
              "      <th>Oct-2010</th>\n",
              "      <th>Oct-2011</th>\n",
              "      <th>Sep-2010</th>\n",
              "      <th>Sep-2011</th>\n",
              "    </tr>\n",
              "  </thead>\n",
              "  <tbody>\n",
              "    <tr>\n",
              "      <th>0</th>\n",
              "      <td>12346.0</td>\n",
              "      <td>0.0</td>\n",
              "      <td>0.0</td>\n",
              "      <td>0.0</td>\n",
              "      <td>0.0</td>\n",
              "      <td>0.0</td>\n",
              "      <td>0.0</td>\n",
              "      <td>0.00</td>\n",
              "      <td>0.0</td>\n",
              "      <td>0.00</td>\n",
              "      <td>0.00</td>\n",
              "      <td>0.00</td>\n",
              "      <td>0.0</td>\n",
              "      <td>0.0</td>\n",
              "      <td>0.0</td>\n",
              "      <td>0.0</td>\n",
              "      <td>0.0</td>\n",
              "      <td>0.0</td>\n",
              "      <td>0.00</td>\n",
              "      <td>0.0</td>\n",
              "      <td>0.00</td>\n",
              "      <td>0.0</td>\n",
              "      <td>0.00</td>\n",
              "    </tr>\n",
              "    <tr>\n",
              "      <th>1</th>\n",
              "      <td>12347.0</td>\n",
              "      <td>0.0</td>\n",
              "      <td>0.0</td>\n",
              "      <td>0.0</td>\n",
              "      <td>0.0</td>\n",
              "      <td>0.0</td>\n",
              "      <td>0.0</td>\n",
              "      <td>584.91</td>\n",
              "      <td>0.0</td>\n",
              "      <td>475.39</td>\n",
              "      <td>711.79</td>\n",
              "      <td>861.07</td>\n",
              "      <td>0.0</td>\n",
              "      <td>0.0</td>\n",
              "      <td>0.0</td>\n",
              "      <td>0.0</td>\n",
              "      <td>0.0</td>\n",
              "      <td>0.0</td>\n",
              "      <td>0.00</td>\n",
              "      <td>0.0</td>\n",
              "      <td>1294.32</td>\n",
              "      <td>0.0</td>\n",
              "      <td>382.52</td>\n",
              "    </tr>\n",
              "    <tr>\n",
              "      <th>2</th>\n",
              "      <td>12348.0</td>\n",
              "      <td>0.0</td>\n",
              "      <td>0.0</td>\n",
              "      <td>0.0</td>\n",
              "      <td>892.8</td>\n",
              "      <td>0.0</td>\n",
              "      <td>0.0</td>\n",
              "      <td>0.00</td>\n",
              "      <td>0.0</td>\n",
              "      <td>227.44</td>\n",
              "      <td>0.00</td>\n",
              "      <td>0.00</td>\n",
              "      <td>0.0</td>\n",
              "      <td>0.0</td>\n",
              "      <td>0.0</td>\n",
              "      <td>0.0</td>\n",
              "      <td>0.0</td>\n",
              "      <td>367.0</td>\n",
              "      <td>0.00</td>\n",
              "      <td>0.0</td>\n",
              "      <td>0.00</td>\n",
              "      <td>0.0</td>\n",
              "      <td>310.00</td>\n",
              "    </tr>\n",
              "    <tr>\n",
              "      <th>3</th>\n",
              "      <td>12349.0</td>\n",
              "      <td>0.0</td>\n",
              "      <td>0.0</td>\n",
              "      <td>0.0</td>\n",
              "      <td>0.0</td>\n",
              "      <td>0.0</td>\n",
              "      <td>0.0</td>\n",
              "      <td>0.00</td>\n",
              "      <td>0.0</td>\n",
              "      <td>0.00</td>\n",
              "      <td>0.00</td>\n",
              "      <td>0.00</td>\n",
              "      <td>0.0</td>\n",
              "      <td>0.0</td>\n",
              "      <td>0.0</td>\n",
              "      <td>0.0</td>\n",
              "      <td>0.0</td>\n",
              "      <td>0.0</td>\n",
              "      <td>1757.55</td>\n",
              "      <td>0.0</td>\n",
              "      <td>0.00</td>\n",
              "      <td>0.0</td>\n",
              "      <td>0.00</td>\n",
              "    </tr>\n",
              "    <tr>\n",
              "      <th>4</th>\n",
              "      <td>12350.0</td>\n",
              "      <td>0.0</td>\n",
              "      <td>0.0</td>\n",
              "      <td>0.0</td>\n",
              "      <td>0.0</td>\n",
              "      <td>0.0</td>\n",
              "      <td>0.0</td>\n",
              "      <td>334.40</td>\n",
              "      <td>0.0</td>\n",
              "      <td>0.00</td>\n",
              "      <td>0.00</td>\n",
              "      <td>0.00</td>\n",
              "      <td>0.0</td>\n",
              "      <td>0.0</td>\n",
              "      <td>0.0</td>\n",
              "      <td>0.0</td>\n",
              "      <td>0.0</td>\n",
              "      <td>0.0</td>\n",
              "      <td>0.00</td>\n",
              "      <td>0.0</td>\n",
              "      <td>0.00</td>\n",
              "      <td>0.0</td>\n",
              "      <td>0.00</td>\n",
              "    </tr>\n",
              "  </tbody>\n",
              "</table>\n",
              "</div>"
            ],
            "text/plain": [
              "month_yr  CustomerID  Apr-2011  Aug-2010  ...  Oct-2011  Sep-2010  Sep-2011\n",
              "0            12346.0       0.0       0.0  ...      0.00       0.0      0.00\n",
              "1            12347.0       0.0       0.0  ...   1294.32       0.0    382.52\n",
              "2            12348.0       0.0       0.0  ...      0.00       0.0    310.00\n",
              "3            12349.0       0.0       0.0  ...      0.00       0.0      0.00\n",
              "4            12350.0       0.0       0.0  ...      0.00       0.0      0.00\n",
              "\n",
              "[5 rows x 23 columns]"
            ]
          },
          "metadata": {
            "tags": []
          },
          "execution_count": 106
        }
      ]
    },
    {
      "cell_type": "code",
      "metadata": {
        "id": "wrx6A1p3-eLK",
        "colab": {
          "base_uri": "https://localhost:8080/",
          "height": 241
        },
        "outputId": "61dd37cc-f267-4901-94c1-8ba1406b58b1"
      },
      "source": [
        "sales['Sum_Sales']=sales.iloc[:,2:].sum(axis=1)\n",
        "sales.head()"
      ],
      "execution_count": null,
      "outputs": [
        {
          "output_type": "execute_result",
          "data": {
            "text/html": [
              "<div>\n",
              "<style scoped>\n",
              "    .dataframe tbody tr th:only-of-type {\n",
              "        vertical-align: middle;\n",
              "    }\n",
              "\n",
              "    .dataframe tbody tr th {\n",
              "        vertical-align: top;\n",
              "    }\n",
              "\n",
              "    .dataframe thead th {\n",
              "        text-align: right;\n",
              "    }\n",
              "</style>\n",
              "<table border=\"1\" class=\"dataframe\">\n",
              "  <thead>\n",
              "    <tr style=\"text-align: right;\">\n",
              "      <th>month_yr</th>\n",
              "      <th>CustomerID</th>\n",
              "      <th>Apr-2011</th>\n",
              "      <th>Aug-2010</th>\n",
              "      <th>Aug-2011</th>\n",
              "      <th>Dec-2010</th>\n",
              "      <th>Dec-2011</th>\n",
              "      <th>Feb-2010</th>\n",
              "      <th>Feb-2011</th>\n",
              "      <th>Jan-2010</th>\n",
              "      <th>Jan-2011</th>\n",
              "      <th>Jul-2010</th>\n",
              "      <th>Jul-2011</th>\n",
              "      <th>Jun-2010</th>\n",
              "      <th>Jun-2011</th>\n",
              "      <th>Mar-2010</th>\n",
              "      <th>Mar-2011</th>\n",
              "      <th>May-2010</th>\n",
              "      <th>May-2011</th>\n",
              "      <th>Nov-2011</th>\n",
              "      <th>Oct-2010</th>\n",
              "      <th>Oct-2011</th>\n",
              "      <th>Sep-2010</th>\n",
              "      <th>Sep-2011</th>\n",
              "      <th>CLV</th>\n",
              "      <th>Sum_Sales</th>\n",
              "    </tr>\n",
              "  </thead>\n",
              "  <tbody>\n",
              "    <tr>\n",
              "      <th>0</th>\n",
              "      <td>12346.0</td>\n",
              "      <td>0.0</td>\n",
              "      <td>0.0</td>\n",
              "      <td>0.0</td>\n",
              "      <td>0.0</td>\n",
              "      <td>0.0</td>\n",
              "      <td>0.0</td>\n",
              "      <td>0.00</td>\n",
              "      <td>0.0</td>\n",
              "      <td>0.00</td>\n",
              "      <td>0.00</td>\n",
              "      <td>0.00</td>\n",
              "      <td>0.0</td>\n",
              "      <td>0.0</td>\n",
              "      <td>0.0</td>\n",
              "      <td>0.0</td>\n",
              "      <td>0.0</td>\n",
              "      <td>0.0</td>\n",
              "      <td>0.00</td>\n",
              "      <td>0.0</td>\n",
              "      <td>0.00</td>\n",
              "      <td>0.0</td>\n",
              "      <td>0.00</td>\n",
              "      <td>0.00</td>\n",
              "      <td>0.00</td>\n",
              "    </tr>\n",
              "    <tr>\n",
              "      <th>1</th>\n",
              "      <td>12347.0</td>\n",
              "      <td>0.0</td>\n",
              "      <td>0.0</td>\n",
              "      <td>0.0</td>\n",
              "      <td>0.0</td>\n",
              "      <td>0.0</td>\n",
              "      <td>0.0</td>\n",
              "      <td>584.91</td>\n",
              "      <td>0.0</td>\n",
              "      <td>475.39</td>\n",
              "      <td>711.79</td>\n",
              "      <td>861.07</td>\n",
              "      <td>0.0</td>\n",
              "      <td>0.0</td>\n",
              "      <td>0.0</td>\n",
              "      <td>0.0</td>\n",
              "      <td>0.0</td>\n",
              "      <td>0.0</td>\n",
              "      <td>0.00</td>\n",
              "      <td>0.0</td>\n",
              "      <td>1294.32</td>\n",
              "      <td>0.0</td>\n",
              "      <td>382.52</td>\n",
              "      <td>4310.00</td>\n",
              "      <td>8620.00</td>\n",
              "    </tr>\n",
              "    <tr>\n",
              "      <th>2</th>\n",
              "      <td>12348.0</td>\n",
              "      <td>0.0</td>\n",
              "      <td>0.0</td>\n",
              "      <td>0.0</td>\n",
              "      <td>892.8</td>\n",
              "      <td>0.0</td>\n",
              "      <td>0.0</td>\n",
              "      <td>0.00</td>\n",
              "      <td>0.0</td>\n",
              "      <td>227.44</td>\n",
              "      <td>0.00</td>\n",
              "      <td>0.00</td>\n",
              "      <td>0.0</td>\n",
              "      <td>0.0</td>\n",
              "      <td>0.0</td>\n",
              "      <td>0.0</td>\n",
              "      <td>0.0</td>\n",
              "      <td>367.0</td>\n",
              "      <td>0.00</td>\n",
              "      <td>0.0</td>\n",
              "      <td>0.00</td>\n",
              "      <td>0.0</td>\n",
              "      <td>310.00</td>\n",
              "      <td>1797.24</td>\n",
              "      <td>3594.48</td>\n",
              "    </tr>\n",
              "    <tr>\n",
              "      <th>3</th>\n",
              "      <td>12349.0</td>\n",
              "      <td>0.0</td>\n",
              "      <td>0.0</td>\n",
              "      <td>0.0</td>\n",
              "      <td>0.0</td>\n",
              "      <td>0.0</td>\n",
              "      <td>0.0</td>\n",
              "      <td>0.00</td>\n",
              "      <td>0.0</td>\n",
              "      <td>0.00</td>\n",
              "      <td>0.00</td>\n",
              "      <td>0.00</td>\n",
              "      <td>0.0</td>\n",
              "      <td>0.0</td>\n",
              "      <td>0.0</td>\n",
              "      <td>0.0</td>\n",
              "      <td>0.0</td>\n",
              "      <td>0.0</td>\n",
              "      <td>1757.55</td>\n",
              "      <td>0.0</td>\n",
              "      <td>0.00</td>\n",
              "      <td>0.0</td>\n",
              "      <td>0.00</td>\n",
              "      <td>1757.55</td>\n",
              "      <td>3515.10</td>\n",
              "    </tr>\n",
              "    <tr>\n",
              "      <th>4</th>\n",
              "      <td>12350.0</td>\n",
              "      <td>0.0</td>\n",
              "      <td>0.0</td>\n",
              "      <td>0.0</td>\n",
              "      <td>0.0</td>\n",
              "      <td>0.0</td>\n",
              "      <td>0.0</td>\n",
              "      <td>334.40</td>\n",
              "      <td>0.0</td>\n",
              "      <td>0.00</td>\n",
              "      <td>0.00</td>\n",
              "      <td>0.00</td>\n",
              "      <td>0.0</td>\n",
              "      <td>0.0</td>\n",
              "      <td>0.0</td>\n",
              "      <td>0.0</td>\n",
              "      <td>0.0</td>\n",
              "      <td>0.0</td>\n",
              "      <td>0.00</td>\n",
              "      <td>0.0</td>\n",
              "      <td>0.00</td>\n",
              "      <td>0.0</td>\n",
              "      <td>0.00</td>\n",
              "      <td>334.40</td>\n",
              "      <td>668.80</td>\n",
              "    </tr>\n",
              "  </tbody>\n",
              "</table>\n",
              "</div>"
            ],
            "text/plain": [
              "month_yr  CustomerID  Apr-2011  Aug-2010  ...  Sep-2011      CLV  Sum_Sales\n",
              "0            12346.0       0.0       0.0  ...      0.00     0.00       0.00\n",
              "1            12347.0       0.0       0.0  ...    382.52  4310.00    8620.00\n",
              "2            12348.0       0.0       0.0  ...    310.00  1797.24    3594.48\n",
              "3            12349.0       0.0       0.0  ...      0.00  1757.55    3515.10\n",
              "4            12350.0       0.0       0.0  ...      0.00   334.40     668.80\n",
              "\n",
              "[5 rows x 25 columns]"
            ]
          },
          "metadata": {
            "tags": []
          },
          "execution_count": 121
        }
      ]
    },
    {
      "cell_type": "code",
      "metadata": {
        "colab": {
          "base_uri": "https://localhost:8080/"
        },
        "id": "XJQGwHESPziD",
        "outputId": "8a82835d-0cb6-42e7-cc63-0dfeb27ff7e6"
      },
      "source": [
        "sales.columns"
      ],
      "execution_count": null,
      "outputs": [
        {
          "output_type": "execute_result",
          "data": {
            "text/plain": [
              "Index(['CustomerID', 'Apr-2011', 'Aug-2010', 'Aug-2011', 'Dec-2010',\n",
              "       'Dec-2011', 'Feb-2010', 'Feb-2011', 'Jan-2010', 'Jan-2011', 'Jul-2010',\n",
              "       'Jul-2011', 'Jun-2010', 'Jun-2011', 'Mar-2010', 'Mar-2011', 'May-2010',\n",
              "       'May-2011', 'Nov-2011', 'Oct-2010', 'Oct-2011', 'Sep-2010', 'Sep-2011',\n",
              "       'CLV', 'Sum_Sales'],\n",
              "      dtype='object', name='month_yr')"
            ]
          },
          "metadata": {
            "tags": []
          },
          "execution_count": 122
        }
      ]
    },
    {
      "cell_type": "markdown",
      "metadata": {
        "id": "7AMtf51yhoyY"
      },
      "source": [
        "**Select latest 6 month as independent variable.**"
      ]
    },
    {
      "cell_type": "code",
      "metadata": {
        "id": "Yzqwafs2Un2x"
      },
      "source": [
        "imp_features =['Dec-2011','Nov-2011', 'Oct-2011','Sep-2011','Aug-2011','Jul-2011']"
      ],
      "execution_count": null,
      "outputs": []
    },
    {
      "cell_type": "code",
      "metadata": {
        "id": "cHtCcwaNQjZD"
      },
      "source": [
        "X = sales[imp_features]\n",
        "y = sales[\"Sum_Sales\"]"
      ],
      "execution_count": null,
      "outputs": []
    },
    {
      "cell_type": "code",
      "metadata": {
        "colab": {
          "base_uri": "https://localhost:8080/"
        },
        "id": "rijCy-AlRcFc",
        "outputId": "e7013bab-54e1-485d-9af2-eb4c6e641a60"
      },
      "source": [
        "X.shape,y.shape"
      ],
      "execution_count": null,
      "outputs": [
        {
          "output_type": "execute_result",
          "data": {
            "text/plain": [
              "((4372, 6), (4372,))"
            ]
          },
          "metadata": {
            "tags": []
          },
          "execution_count": 125
        }
      ]
    },
    {
      "cell_type": "code",
      "metadata": {
        "colab": {
          "base_uri": "https://localhost:8080/"
        },
        "id": "CSgz9N9KRLBm",
        "outputId": "41a368b7-2155-4b98-b755-3cd66c749eb4"
      },
      "source": [
        "import numpy as np\n",
        "from sklearn.linear_model import LinearRegression\n",
        "\n",
        "reg = LinearRegression().fit(X, y)\n",
        "reg.score(X, y)"
      ],
      "execution_count": null,
      "outputs": [
        {
          "output_type": "execute_result",
          "data": {
            "text/plain": [
              "0.9559027306216842"
            ]
          },
          "metadata": {
            "tags": []
          },
          "execution_count": 126
        }
      ]
    },
    {
      "cell_type": "code",
      "metadata": {
        "colab": {
          "base_uri": "https://localhost:8080/"
        },
        "id": "GQaxyc5ujmQi",
        "outputId": "5cfbe20a-c408-4df2-98bd-2b438aa5cc2c"
      },
      "source": [
        "#split training set and test set\n",
        "from sklearn.model_selection import train_test_split\n",
        "X_train, X_test, y_train, y_test = train_test_split(X, y,random_state=0)\n",
        "\n",
        "# import model\n",
        "from sklearn.linear_model import LinearRegression\n",
        "\n",
        "# instantiate\n",
        "linreg = LinearRegression()\n",
        "\n",
        "# fit the model to the training data (learn the coefficients)\n",
        "linreg.fit(X_train, y_train)\n",
        "\n",
        "# make predictions on the testing set\n",
        "y_pred = linreg.predict(X_test)\n",
        "\n",
        "from sklearn import metrics\n",
        "\n",
        "# compute the R Square for model\n",
        "print(\"R-Square:\",metrics.r2_score(y_test, y_pred))\n",
        "\n",
        "# calculate MAE using scikit-learn\n",
        "print(\"MAE:\",metrics.mean_absolute_error(y_test,y_pred))\n",
        "\n",
        "#calculate mean squared error\n",
        "print(\"MSE\",metrics.mean_squared_error(y_test, y_pred))\n",
        "\n",
        "# compute the RMSE of our predictions\n",
        "print(\"RMSE:\",np.sqrt(metrics.mean_squared_error(y_test, y_pred)))"
      ],
      "execution_count": null,
      "outputs": [
        {
          "output_type": "stream",
          "text": [
            "R-Square: 0.9593812261300774\n",
            "MAE: 1488.9285963827951\n",
            "MSE 17581359.079006497\n",
            "RMSE: 4193.013126500619\n"
          ],
          "name": "stdout"
        }
      ]
    },
    {
      "cell_type": "code",
      "metadata": {
        "colab": {
          "base_uri": "https://localhost:8080/",
          "height": 583
        },
        "id": "njOyoLOqRYQ0",
        "outputId": "b9f3c100-95c7-430d-aa9f-5875a5ba42e4"
      },
      "source": [
        "import statsmodels.api as sm\n",
        "import statsmodels.formula.api as smf\n",
        "import numpy as np\n",
        "\n",
        "X = sm.add_constant(X)\n",
        "model = sm.OLS(y,X)\n",
        "results = model.fit()\n",
        "results.summary()"
      ],
      "execution_count": null,
      "outputs": [
        {
          "output_type": "execute_result",
          "data": {
            "text/html": [
              "<table class=\"simpletable\">\n",
              "<caption>OLS Regression Results</caption>\n",
              "<tr>\n",
              "  <th>Dep. Variable:</th>        <td>Sum_Sales</td>    <th>  R-squared:         </th> <td>   0.956</td> \n",
              "</tr>\n",
              "<tr>\n",
              "  <th>Model:</th>                   <td>OLS</td>       <th>  Adj. R-squared:    </th> <td>   0.956</td> \n",
              "</tr>\n",
              "<tr>\n",
              "  <th>Method:</th>             <td>Least Squares</td>  <th>  F-statistic:       </th> <td>1.577e+04</td>\n",
              "</tr>\n",
              "<tr>\n",
              "  <th>Date:</th>             <td>Fri, 28 May 2021</td> <th>  Prob (F-statistic):</th>  <td>  0.00</td>  \n",
              "</tr>\n",
              "<tr>\n",
              "  <th>Time:</th>                 <td>15:16:53</td>     <th>  Log-Likelihood:    </th> <td> -41602.</td> \n",
              "</tr>\n",
              "<tr>\n",
              "  <th>No. Observations:</th>      <td>  4372</td>      <th>  AIC:               </th> <td>8.322e+04</td>\n",
              "</tr>\n",
              "<tr>\n",
              "  <th>Df Residuals:</th>          <td>  4365</td>      <th>  BIC:               </th> <td>8.326e+04</td>\n",
              "</tr>\n",
              "<tr>\n",
              "  <th>Df Model:</th>              <td>     6</td>      <th>                     </th>     <td> </td>    \n",
              "</tr>\n",
              "<tr>\n",
              "  <th>Covariance Type:</th>      <td>nonrobust</td>    <th>                     </th>     <td> </td>    \n",
              "</tr>\n",
              "</table>\n",
              "<table class=\"simpletable\">\n",
              "<tr>\n",
              "      <td></td>        <th>coef</th>     <th>std err</th>      <th>t</th>      <th>P>|t|</th>  <th>[0.025</th>    <th>0.975]</th>  \n",
              "</tr>\n",
              "<tr>\n",
              "  <th>const</th>    <td>  119.1799</td> <td>   51.391</td> <td>    2.319</td> <td> 0.020</td> <td>   18.428</td> <td>  219.932</td>\n",
              "</tr>\n",
              "<tr>\n",
              "  <th>Dec-2011</th> <td>    4.1908</td> <td>    0.174</td> <td>   24.133</td> <td> 0.000</td> <td>    3.850</td> <td>    4.531</td>\n",
              "</tr>\n",
              "<tr>\n",
              "  <th>Nov-2011</th> <td>    2.2528</td> <td>    0.062</td> <td>   36.455</td> <td> 0.000</td> <td>    2.132</td> <td>    2.374</td>\n",
              "</tr>\n",
              "<tr>\n",
              "  <th>Oct-2011</th> <td>    3.9268</td> <td>    0.074</td> <td>   52.907</td> <td> 0.000</td> <td>    3.781</td> <td>    4.072</td>\n",
              "</tr>\n",
              "<tr>\n",
              "  <th>Sep-2011</th> <td>    2.2221</td> <td>    0.046</td> <td>   48.721</td> <td> 0.000</td> <td>    2.133</td> <td>    2.312</td>\n",
              "</tr>\n",
              "<tr>\n",
              "  <th>Aug-2011</th> <td>    6.0634</td> <td>    0.097</td> <td>   62.201</td> <td> 0.000</td> <td>    5.872</td> <td>    6.254</td>\n",
              "</tr>\n",
              "<tr>\n",
              "  <th>Jul-2011</th> <td>    4.4077</td> <td>    0.071</td> <td>   62.060</td> <td> 0.000</td> <td>    4.268</td> <td>    4.547</td>\n",
              "</tr>\n",
              "</table>\n",
              "<table class=\"simpletable\">\n",
              "<tr>\n",
              "  <th>Omnibus:</th>       <td>6179.636</td> <th>  Durbin-Watson:     </th>  <td>   2.003</td>  \n",
              "</tr>\n",
              "<tr>\n",
              "  <th>Prob(Omnibus):</th>  <td> 0.000</td>  <th>  Jarque-Bera (JB):  </th> <td>9623895.328</td>\n",
              "</tr>\n",
              "<tr>\n",
              "  <th>Skew:</th>           <td> 7.579</td>  <th>  Prob(JB):          </th>  <td>    0.00</td>  \n",
              "</tr>\n",
              "<tr>\n",
              "  <th>Kurtosis:</th>       <td>232.348</td> <th>  Cond. No.          </th>  <td>2.20e+03</td>  \n",
              "</tr>\n",
              "</table><br/><br/>Warnings:<br/>[1] Standard Errors assume that the covariance matrix of the errors is correctly specified.<br/>[2] The condition number is large, 2.2e+03. This might indicate that there are<br/>strong multicollinearity or other numerical problems."
            ],
            "text/plain": [
              "<class 'statsmodels.iolib.summary.Summary'>\n",
              "\"\"\"\n",
              "                            OLS Regression Results                            \n",
              "==============================================================================\n",
              "Dep. Variable:              Sum_Sales   R-squared:                       0.956\n",
              "Model:                            OLS   Adj. R-squared:                  0.956\n",
              "Method:                 Least Squares   F-statistic:                 1.577e+04\n",
              "Date:                Fri, 28 May 2021   Prob (F-statistic):               0.00\n",
              "Time:                        15:16:53   Log-Likelihood:                -41602.\n",
              "No. Observations:                4372   AIC:                         8.322e+04\n",
              "Df Residuals:                    4365   BIC:                         8.326e+04\n",
              "Df Model:                           6                                         \n",
              "Covariance Type:            nonrobust                                         \n",
              "==============================================================================\n",
              "                 coef    std err          t      P>|t|      [0.025      0.975]\n",
              "------------------------------------------------------------------------------\n",
              "const        119.1799     51.391      2.319      0.020      18.428     219.932\n",
              "Dec-2011       4.1908      0.174     24.133      0.000       3.850       4.531\n",
              "Nov-2011       2.2528      0.062     36.455      0.000       2.132       2.374\n",
              "Oct-2011       3.9268      0.074     52.907      0.000       3.781       4.072\n",
              "Sep-2011       2.2221      0.046     48.721      0.000       2.133       2.312\n",
              "Aug-2011       6.0634      0.097     62.201      0.000       5.872       6.254\n",
              "Jul-2011       4.4077      0.071     62.060      0.000       4.268       4.547\n",
              "==============================================================================\n",
              "Omnibus:                     6179.636   Durbin-Watson:                   2.003\n",
              "Prob(Omnibus):                  0.000   Jarque-Bera (JB):          9623895.328\n",
              "Skew:                           7.579   Prob(JB):                         0.00\n",
              "Kurtosis:                     232.348   Cond. No.                     2.20e+03\n",
              "==============================================================================\n",
              "\n",
              "Warnings:\n",
              "[1] Standard Errors assume that the covariance matrix of the errors is correctly specified.\n",
              "[2] The condition number is large, 2.2e+03. This might indicate that there are\n",
              "strong multicollinearity or other numerical problems.\n",
              "\"\"\""
            ]
          },
          "metadata": {
            "tags": []
          },
          "execution_count": 127
        }
      ]
    },
    {
      "cell_type": "markdown",
      "metadata": {
        "id": "Sda8i845gPrr"
      },
      "source": [
        "#**Normality Tests For Errors**\n",
        "\n",
        "Ho(Null Hypothesis) : Errors are not Normally Distributed\n",
        "\n",
        "H1(Alternate Hypothesis) : Erros are Normally Distributed"
      ]
    },
    {
      "cell_type": "code",
      "metadata": {
        "colab": {
          "base_uri": "https://localhost:8080/"
        },
        "id": "g4iqCbqfgAOe",
        "outputId": "6e443dc2-fd84-48a4-d7fb-cb390c124cac"
      },
      "source": [
        "from scipy.stats import shapiro\n",
        "stat, p = shapiro(results.resid)\n",
        "print(p)\n",
        "if p>0.05:\n",
        "    print(\"Errors are normally distributed\")\n",
        "    \n",
        "else:\n",
        "    print(\"Errors are not normally distributed\")"
      ],
      "execution_count": null,
      "outputs": [
        {
          "output_type": "stream",
          "text": [
            "0.0\n",
            "Errors are not normally distributed\n"
          ],
          "name": "stdout"
        }
      ]
    },
    {
      "cell_type": "code",
      "metadata": {
        "colab": {
          "base_uri": "https://localhost:8080/",
          "height": 301
        },
        "id": "zaY_R0VXgZTQ",
        "outputId": "6449cee4-e3f3-4b88-82cc-9666eb4e8ac9"
      },
      "source": [
        "from statsmodels.graphics.gofplots import ProbPlot\n",
        "ProbPlot(results.resid, fit=True).qqplot(line = '45')\n",
        "plt.title('QQ plot of the errors')\n",
        "plt.show()"
      ],
      "execution_count": null,
      "outputs": [
        {
          "output_type": "display_data",
          "data": {
            "image/png": "[encoded data removed]",
            "text/plain": [
              "<Figure size 432x288 with 1 Axes>"
            ]
          },
          "metadata": {
            "tags": []
          }
        }
      ]
    },
    {
      "cell_type": "code",
      "metadata": {
        "colab": {
          "base_uri": "https://localhost:8080/",
          "height": 284
        },
        "id": "nv4xFvfBgjxT",
        "outputId": "d869704e-99f7-4829-b725-c246f3c62dbe"
      },
      "source": [
        "sns.distplot(results.resid)\n",
        "plt.title('Kernel Density Estimate')\n",
        "plt.show()"
      ],
      "execution_count": null,
      "outputs": [
        {
          "output_type": "display_data",
          "data": {
            "image/png": "[encoded data removed]",
            "text/plain": [
              "<Figure size 432x288 with 1 Axes>"
            ]
          },
          "metadata": {
            "tags": []
          }
        }
      ]
    },
    {
      "cell_type": "markdown",
      "metadata": {
        "id": "KHmSg6ZmeY4V"
      },
      "source": [
        "#**Durbin-Watson_Test for Auto-correlation**"
      ]
    },
    {
      "cell_type": "markdown",
      "metadata": {
        "id": "kHs6BZbVeUj-"
      },
      "source": [
        "H0 (null hypothesis): There is no correlation among the residuals.\n",
        "\n",
        "HA (alternative hypothesis): The residuals are autocorrelated."
      ]
    },
    {
      "cell_type": "code",
      "metadata": {
        "colab": {
          "base_uri": "https://localhost:8080/"
        },
        "id": "TSNfPxIXVn7q",
        "outputId": "d04fba0d-721a-4210-964e-1abbff7e0a46"
      },
      "source": [
        "from statsmodels.stats.stattools import durbin_watson\n",
        "durbin_watson(results.resid)"
      ],
      "execution_count": null,
      "outputs": [
        {
          "output_type": "execute_result",
          "data": {
            "text/plain": [
              "2.003060897222922"
            ]
          },
          "metadata": {
            "tags": []
          },
          "execution_count": 131
        }
      ]
    },
    {
      "cell_type": "markdown",
      "metadata": {
        "id": "xNvpYoFbX698"
      },
      "source": [
        "As a rule of thumb, test statistic of durbin_watson value between the range of 1.5 and 2.5 are considered normal. However, values outside of this range could indicate that autocorrelation is a problem.\n",
        "\n",
        "So, here in this model we got the test statistic value : 2.003.\n",
        "\n",
        "Since this is within the range of 1.5 and 2.5, we would consider autocorrelation not to be problematic in this regression model."
      ]
    },
    {
      "cell_type": "code",
      "metadata": {
        "id": "9QGMiU1xbeOp"
      },
      "source": [
        ""
      ],
      "execution_count": null,
      "outputs": []
    },
    {
      "cell_type": "markdown",
      "metadata": {
        "id": "ZoSYyDygemfn"
      },
      "source": [
        "#**Test for Heteroscedasticity**"
      ]
    },
    {
      "cell_type": "markdown",
      "metadata": {
        "id": "JVMn9P4pbenu"
      },
      "source": [
        "The Null hypothesis (H0): Homoscedasticity is present.\n",
        "\n",
        "The Nlternative hypothesis: (Ha): Homoscedasticity is not present (i.e. heteroscedasticity exists)"
      ]
    },
    {
      "cell_type": "markdown",
      "metadata": {
        "id": "KXuk_xyKcdXm"
      },
      "source": [
        "#**Breush-Pagan test:**"
      ]
    },
    {
      "cell_type": "code",
      "metadata": {
        "colab": {
          "base_uri": "https://localhost:8080/"
        },
        "id": "y_Q5CfsAXNVF",
        "outputId": "554e7030-4462-45b5-c8c4-968c723e94c5"
      },
      "source": [
        "from statsmodels.compat import lzip\n",
        "import statsmodels.stats.api as sms\n",
        "\n",
        "names = ['Lagrange multiplier statistic', 'p-value','f-value', 'f p-value']\n",
        "\n",
        "test = sms.het_breuschpagan(results.resid, results.model.exog)\n",
        "\n",
        "lzip(names, test)"
      ],
      "execution_count": null,
      "outputs": [
        {
          "output_type": "execute_result",
          "data": {
            "text/plain": [
              "[('Lagrange multiplier statistic', 1544.8693089880846),\n",
              " ('p-value', 0.0),\n",
              " ('f-value', 397.5381915883614),\n",
              " ('f p-value', 0.0)]"
            ]
          },
          "metadata": {
            "tags": []
          },
          "execution_count": 132
        }
      ]
    },
    {
      "cell_type": "markdown",
      "metadata": {
        "id": "pF8f9f-5cTjz"
      },
      "source": [
        "Here 0.0 < 0.05, we reject the null hypothesis\n",
        "\n",
        "-> Hetero\" present"
      ]
    },
    {
      "cell_type": "markdown",
      "metadata": {
        "id": "OZq7i9pucsiQ"
      },
      "source": [
        "#**Goldfeld-Quandt test**"
      ]
    },
    {
      "cell_type": "code",
      "metadata": {
        "colab": {
          "base_uri": "https://localhost:8080/"
        },
        "id": "_uf8zGXgZq2I",
        "outputId": "1595f1c2-6e67-4c0f-d977-84dd711f6d7f"
      },
      "source": [
        "name = ['F statistic', 'p-value']\n",
        "test = sms.het_goldfeldquandt(results.resid, results.model.exog)\n",
        "lzip(name, test)"
      ],
      "execution_count": null,
      "outputs": [
        {
          "output_type": "execute_result",
          "data": {
            "text/plain": [
              "[('F statistic', 0.5841939398032485), ('p-value', 0.9999999999999999)]"
            ]
          },
          "metadata": {
            "tags": []
          },
          "execution_count": 133
        }
      ]
    },
    {
      "cell_type": "markdown",
      "metadata": {
        "id": "geM4kjIdcz9f"
      },
      "source": [
        "Here 0.99 > 0.5, we dont reject the null hypothesis\n",
        "\n",
        "-> Hetero\" not present"
      ]
    },
    {
      "cell_type": "markdown",
      "metadata": {
        "id": "cl2HexDzdRAs"
      },
      "source": [
        "#**White test**"
      ]
    },
    {
      "cell_type": "code",
      "metadata": {
        "colab": {
          "base_uri": "https://localhost:8080/"
        },
        "id": "mwhPkLf1acqS",
        "outputId": "f282141b-0ccf-44e6-b9e6-cc3afc4ed903"
      },
      "source": [
        "from statsmodels.stats.diagnostic import het_white\n",
        "# # White Test for Heteroscedasticity, including squares and cross-product of exog\n",
        "white_test = sms.diagnostic.het_white(results.resid,results.model.exog)\n",
        "\n",
        "labels = ['Lagrange multiplier statistic', 'p-value','f-value', 'f p-value']\n",
        "lzip(labels, white_test)"
      ],
      "execution_count": null,
      "outputs": [
        {
          "output_type": "execute_result",
          "data": {
            "text/plain": [
              "[('Lagrange multiplier statistic', 3274.6081441161546),\n",
              " ('p-value', 0.0),\n",
              " ('f-value', 480.09110239753727),\n",
              " ('f p-value', 0.0)]"
            ]
          },
          "metadata": {
            "tags": []
          },
          "execution_count": 134
        }
      ]
    },
    {
      "cell_type": "markdown",
      "metadata": {
        "id": "H0G2tiddeAug"
      },
      "source": [
        "Here 0.0 < 0.05, we reject the null hypothesis\n",
        "\n",
        "-> Hetero\" present"
      ]
    },
    {
      "cell_type": "code",
      "metadata": {
        "id": "FceXzYjpdaMR"
      },
      "source": [
        ""
      ],
      "execution_count": null,
      "outputs": []
    }
  ]
}